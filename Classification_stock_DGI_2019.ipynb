{
 "cells": [
  {
   "cell_type": "markdown",
   "metadata": {},
   "source": [
    "## Gender Classification Of Names\n",
    "### Using Machine Learning To Detect/Predict Gender \n",
    "+ Sklearn\n",
    "+ Pandas\n",
    "+ Text Extraction"
   ]
  },
  {
   "cell_type": "markdown",
   "metadata": {},
   "source": [
    "# EDA packages"
   ]
  },
  {
   "cell_type": "code",
   "execution_count": 22,
   "metadata": {
    "ExecuteTime": {
     "end_time": "2022-02-22T10:37:50.451745Z",
     "start_time": "2022-02-22T10:37:50.436743Z"
    }
   },
   "outputs": [],
   "source": [
    "# EDA packages\n",
    "import pandas as pd\n",
    "import numpy as np\n"
   ]
  },
  {
   "cell_type": "code",
   "execution_count": 23,
   "metadata": {
    "ExecuteTime": {
     "end_time": "2022-02-22T10:37:50.886502Z",
     "start_time": "2022-02-22T10:37:50.880515Z"
    }
   },
   "outputs": [],
   "source": [
    "# ML Packages\n",
    "from sklearn.feature_extraction.text import CountVectorizer\n",
    "from sklearn.feature_extraction import DictVectorizer\n",
    "#from sklearn.feature_extraction.text import TfidfVectorizer\n"
   ]
  },
  {
   "cell_type": "markdown",
   "metadata": {},
   "source": [
    "# Load our data"
   ]
  },
  {
   "cell_type": "code",
   "execution_count": 24,
   "metadata": {
    "ExecuteTime": {
     "end_time": "2022-02-22T10:38:05.440242Z",
     "start_time": "2022-02-22T10:37:51.352445Z"
    }
   },
   "outputs": [],
   "source": [
    "# Load our data\n",
    "df = pd.read_excel(r\"C:\\Users\\Jebbar Abdelkader\\Desktop\\Garbage\\Dataset.xlsx\")"
   ]
  },
  {
   "cell_type": "markdown",
   "metadata": {},
   "source": [
    "# shape of our data"
   ]
  },
  {
   "cell_type": "code",
   "execution_count": 25,
   "metadata": {
    "ExecuteTime": {
     "end_time": "2022-02-22T10:38:05.456696Z",
     "start_time": "2022-02-22T10:38:05.441234Z"
    }
   },
   "outputs": [
    {
     "data": {
      "text/plain": [
       "(563914, 2)"
      ]
     },
     "execution_count": 25,
     "metadata": {},
     "output_type": "execute_result"
    }
   ],
   "source": [
    "df.shape"
   ]
  },
  {
   "cell_type": "code",
   "execution_count": 26,
   "metadata": {
    "ExecuteTime": {
     "end_time": "2022-02-22T10:38:05.472687Z",
     "start_time": "2022-02-22T10:38:05.457701Z"
    }
   },
   "outputs": [
    {
     "data": {
      "text/plain": [
       "Index(['name', 'sex'], dtype='object')"
      ]
     },
     "execution_count": 26,
     "metadata": {},
     "output_type": "execute_result"
    }
   ],
   "source": [
    "# Data Cleaning\n",
    "# Checking for column name consistency\n",
    "df.columns"
   ]
  },
  {
   "cell_type": "code",
   "execution_count": 27,
   "metadata": {
    "ExecuteTime": {
     "end_time": "2022-02-22T10:38:05.488443Z",
     "start_time": "2022-02-22T10:38:05.474687Z"
    }
   },
   "outputs": [
    {
     "data": {
      "text/plain": [
       "name    object\n",
       "sex     object\n",
       "dtype: object"
      ]
     },
     "execution_count": 27,
     "metadata": {},
     "output_type": "execute_result"
    }
   ],
   "source": [
    "# Data Types\n",
    "df.dtypes"
   ]
  },
  {
   "cell_type": "markdown",
   "metadata": {},
   "source": [
    "# Checking for Missing Values"
   ]
  },
  {
   "cell_type": "code",
   "execution_count": 28,
   "metadata": {
    "ExecuteTime": {
     "end_time": "2022-02-22T10:38:05.534461Z",
     "start_time": "2022-02-22T10:38:05.489454Z"
    }
   },
   "outputs": [
    {
     "data": {
      "text/plain": [
       "name    0\n",
       "sex     0\n",
       "dtype: int64"
      ]
     },
     "execution_count": 28,
     "metadata": {},
     "output_type": "execute_result"
    }
   ],
   "source": [
    "# Checking for Missing Values\n",
    "df.isnull().isnull().sum()"
   ]
  },
  {
   "cell_type": "code",
   "execution_count": 29,
   "metadata": {
    "ExecuteTime": {
     "end_time": "2022-02-22T10:38:05.581462Z",
     "start_time": "2022-02-22T10:38:05.535452Z"
    }
   },
   "outputs": [
    {
     "data": {
      "text/plain": [
       "(157669, 2)"
      ]
     },
     "execution_count": 29,
     "metadata": {},
     "output_type": "execute_result"
    }
   ],
   "source": [
    "# Number of Female Names\n",
    "df[df.sex == 'F'].shape"
   ]
  },
  {
   "cell_type": "code",
   "execution_count": 30,
   "metadata": {
    "ExecuteTime": {
     "end_time": "2022-02-22T10:38:05.628100Z",
     "start_time": "2022-02-22T10:38:05.582452Z"
    }
   },
   "outputs": [
    {
     "data": {
      "text/plain": [
       "(406245, 2)"
      ]
     },
     "execution_count": 30,
     "metadata": {},
     "output_type": "execute_result"
    }
   ],
   "source": [
    "# Number of Male Names\n",
    "df[df.sex == 'M'].shape"
   ]
  },
  {
   "cell_type": "code",
   "execution_count": 31,
   "metadata": {
    "ExecuteTime": {
     "end_time": "2022-02-22T10:38:05.660102Z",
     "start_time": "2022-02-22T10:38:05.629098Z"
    }
   },
   "outputs": [
    {
     "data": {
      "text/plain": [
       "(0, 2)"
      ]
     },
     "execution_count": 31,
     "metadata": {},
     "output_type": "execute_result"
    }
   ],
   "source": [
    "df[df.sex == 'N'].shape"
   ]
  },
  {
   "cell_type": "code",
   "execution_count": 32,
   "metadata": {
    "ExecuteTime": {
     "end_time": "2022-02-22T10:38:05.675100Z",
     "start_time": "2022-02-22T10:38:05.661090Z"
    }
   },
   "outputs": [],
   "source": [
    "df_names = df"
   ]
  },
  {
   "cell_type": "code",
   "execution_count": 33,
   "metadata": {
    "ExecuteTime": {
     "end_time": "2022-02-22T10:38:05.783926Z",
     "start_time": "2022-02-22T10:38:05.677091Z"
    },
    "scrolled": true
   },
   "outputs": [],
   "source": [
    "# Replacing All F,M and N with 0, 1 and 2 respectively\n",
    "df_names.sex.replace({'F':0,'M':1},inplace=True)"
   ]
  },
  {
   "cell_type": "code",
   "execution_count": 34,
   "metadata": {
    "ExecuteTime": {
     "end_time": "2022-02-22T10:38:05.799920Z",
     "start_time": "2022-02-22T10:38:05.784918Z"
    }
   },
   "outputs": [
    {
     "data": {
      "text/plain": [
       "array([1, 0], dtype=int64)"
      ]
     },
     "execution_count": 34,
     "metadata": {},
     "output_type": "execute_result"
    }
   ],
   "source": [
    "df_names.sex.unique()"
   ]
  },
  {
   "cell_type": "code",
   "execution_count": 35,
   "metadata": {
    "ExecuteTime": {
     "end_time": "2022-02-22T10:38:05.816008Z",
     "start_time": "2022-02-22T10:38:05.800917Z"
    }
   },
   "outputs": [
    {
     "data": {
      "text/plain": [
       "name    object\n",
       "sex      int64\n",
       "dtype: object"
      ]
     },
     "execution_count": 35,
     "metadata": {},
     "output_type": "execute_result"
    }
   ],
   "source": [
    "df_names.dtypes"
   ]
  },
  {
   "cell_type": "code",
   "execution_count": 36,
   "metadata": {
    "ExecuteTime": {
     "end_time": "2022-02-22T10:38:05.830842Z",
     "start_time": "2022-02-22T10:38:05.816921Z"
    }
   },
   "outputs": [],
   "source": [
    "Xfeatures =df_names['name']"
   ]
  },
  {
   "cell_type": "markdown",
   "metadata": {},
   "source": [
    "# Feature Extraction "
   ]
  },
  {
   "cell_type": "code",
   "execution_count": 37,
   "metadata": {
    "ExecuteTime": {
     "end_time": "2022-02-22T10:38:07.315743Z",
     "start_time": "2022-02-22T10:38:05.831835Z"
    }
   },
   "outputs": [],
   "source": [
    "# Feature Extraction \n",
    "cv = CountVectorizer()\n",
    "X = cv.fit_transform(Xfeatures)"
   ]
  },
  {
   "cell_type": "code",
   "execution_count": 38,
   "metadata": {
    "ExecuteTime": {
     "end_time": "2022-02-22T10:38:07.377735Z",
     "start_time": "2022-02-22T10:38:07.316726Z"
    }
   },
   "outputs": [
    {
     "data": {
      "text/plain": [
       "['_mohammed',\n",
       " '_s',\n",
       " 'aababou',\n",
       " 'aaballa',\n",
       " 'aaban',\n",
       " 'aabana',\n",
       " 'aabas',\n",
       " 'aabaslama',\n",
       " 'aabassi',\n",
       " 'aabbar',\n",
       " 'aabbas',\n",
       " 'aabbassy',\n",
       " 'aabbou',\n",
       " 'aabbouki',\n",
       " 'aabd',\n",
       " 'aabdati',\n",
       " 'aabdelatif',\n",
       " 'aabdeljalil',\n",
       " 'aabdelouahab',\n",
       " 'aabderahman',\n",
       " 'aabdi',\n",
       " 'aabdouni',\n",
       " 'aabed',\n",
       " 'aabedi',\n",
       " 'aabedin',\n",
       " 'aabedy',\n",
       " 'aabella',\n",
       " 'aabha',\n",
       " 'aabi',\n",
       " 'aabiba',\n",
       " 'aabibi',\n",
       " 'aabid',\n",
       " 'aabida',\n",
       " 'aabidi',\n",
       " 'aabidine',\n",
       " 'aabir',\n",
       " 'aabirate',\n",
       " 'aabirouche',\n",
       " 'aabirrouche',\n",
       " 'aablla',\n",
       " 'aabou',\n",
       " 'aaboud',\n",
       " 'aabriella',\n",
       " 'aachar',\n",
       " 'aachati',\n",
       " 'aachchaqui',\n",
       " 'aachir',\n",
       " 'aachor',\n",
       " 'aachour',\n",
       " 'aachraoui',\n",
       " 'aada',\n",
       " 'aadaim',\n",
       " 'aadam',\n",
       " 'aadan',\n",
       " 'aadaoui',\n",
       " 'aadarsh',\n",
       " 'aaddi',\n",
       " 'aaddou',\n",
       " 'aadel',\n",
       " 'aaden',\n",
       " 'aadesh',\n",
       " 'aadhav',\n",
       " 'aadhavan',\n",
       " 'aadhi',\n",
       " 'aadhira',\n",
       " 'aadhvik',\n",
       " 'aadhya',\n",
       " 'aadhyan',\n",
       " 'aadi',\n",
       " 'aadian',\n",
       " 'aadiati',\n",
       " 'aadil',\n",
       " 'aadile',\n",
       " 'aadim',\n",
       " 'aadin',\n",
       " 'aadish',\n",
       " 'aadison',\n",
       " 'aadit',\n",
       " 'aadith',\n",
       " 'aadithya',\n",
       " 'aaditri',\n",
       " 'aaditya',\n",
       " 'aadiv',\n",
       " 'aadmi',\n",
       " 'aadnan',\n",
       " 'aadon',\n",
       " 'aadoui',\n",
       " 'aadouz',\n",
       " 'aadrian',\n",
       " 'aadrika',\n",
       " 'aadrit',\n",
       " 'aadvik',\n",
       " 'aadvika',\n",
       " 'aadya',\n",
       " 'aadyn',\n",
       " 'aafaf',\n",
       " 'aafafe',\n",
       " 'aafak',\n",
       " 'aafia',\n",
       " 'aafiani',\n",
       " 'aafif',\n",
       " 'aafifa',\n",
       " 'aafir',\n",
       " 'aafrae',\n",
       " 'aafreen',\n",
       " 'aagam',\n",
       " 'aage',\n",
       " 'aagot',\n",
       " 'aagouby',\n",
       " 'aahaan',\n",
       " 'aahan',\n",
       " 'aahana',\n",
       " 'aahil',\n",
       " 'aahir',\n",
       " 'aahliyah',\n",
       " 'aahna',\n",
       " 'aahron',\n",
       " 'aaicha',\n",
       " 'aaida',\n",
       " 'aaidan',\n",
       " 'aaiden',\n",
       " 'aaidyn',\n",
       " 'aaila',\n",
       " 'aailiyah',\n",
       " 'aailyah',\n",
       " 'aaima',\n",
       " 'aair',\n",
       " 'aaira',\n",
       " 'aairah',\n",
       " 'aaisha',\n",
       " 'aaishah',\n",
       " 'aaissi',\n",
       " 'aaiyana',\n",
       " 'aaiza',\n",
       " 'aaja',\n",
       " 'aajah',\n",
       " 'aajaji',\n",
       " 'aajaylah',\n",
       " 'aajib',\n",
       " 'aajli',\n",
       " 'aajon',\n",
       " 'aajou',\n",
       " 'aajoub',\n",
       " 'aajoul',\n",
       " 'aakanksha',\n",
       " 'aakari',\n",
       " 'aakarsh',\n",
       " 'aakash',\n",
       " 'aakeem',\n",
       " 'aaki',\n",
       " 'aakib',\n",
       " 'aakil',\n",
       " 'aakilah',\n",
       " 'aakioui',\n",
       " 'aakira',\n",
       " 'aakiyah',\n",
       " 'aakki',\n",
       " 'aakouk',\n",
       " 'aakrich',\n",
       " 'aakriti',\n",
       " 'aala',\n",
       " 'aalaa',\n",
       " 'aalae',\n",
       " 'aalaiya',\n",
       " 'aalaiyah',\n",
       " 'aalami',\n",
       " 'aalana',\n",
       " 'aalanah',\n",
       " 'aalani',\n",
       " 'aalaoui',\n",
       " 'aalap',\n",
       " 'aalaya',\n",
       " 'aalayah',\n",
       " 'aalayiah',\n",
       " 'aalayjah',\n",
       " 'aalayna',\n",
       " 'aalaysha',\n",
       " 'aalaysia',\n",
       " 'aalea',\n",
       " 'aaleah',\n",
       " 'aaleahya',\n",
       " 'aaleena',\n",
       " 'aaleeya',\n",
       " 'aaleeyah',\n",
       " 'aaleiah',\n",
       " 'aaleigha',\n",
       " 'aaleiyah',\n",
       " 'aalej',\n",
       " 'aalem',\n",
       " 'aalena',\n",
       " 'aalexis',\n",
       " 'aalexus',\n",
       " 'aaleya',\n",
       " 'aaleyah',\n",
       " 'aali',\n",
       " 'aalia',\n",
       " 'aaliah',\n",
       " 'aaliana',\n",
       " 'aalias',\n",
       " 'aaliayah',\n",
       " 'aaliayh',\n",
       " 'aalicia',\n",
       " 'aaliha',\n",
       " 'aalijah',\n",
       " 'aalili',\n",
       " 'aalilija',\n",
       " 'aalim',\n",
       " 'aalimah',\n",
       " 'aalina',\n",
       " 'aalinah',\n",
       " 'aaliouat',\n",
       " 'aaliouet',\n",
       " 'aalisa',\n",
       " 'aalisha',\n",
       " 'aalivia',\n",
       " 'aaliwa',\n",
       " 'aaliya',\n",
       " 'aaliyaa',\n",
       " 'aaliyah',\n",
       " 'aaliyaha',\n",
       " 'aaliyahmarie',\n",
       " 'aaliyahrose',\n",
       " 'aaliyan',\n",
       " 'aaliyana',\n",
       " 'aaliyanna',\n",
       " 'aaliyha',\n",
       " 'aaliyiah',\n",
       " 'aalla',\n",
       " 'aallae',\n",
       " 'aallam',\n",
       " 'aallaou',\n",
       " 'aallaoui',\n",
       " 'aallatoun',\n",
       " 'aalliyah',\n",
       " 'aallouch',\n",
       " 'aallyah',\n",
       " 'aalok',\n",
       " 'aalon',\n",
       " 'aalouch',\n",
       " 'aaloui',\n",
       " 'aalya',\n",
       " 'aalyah',\n",
       " 'aalycia',\n",
       " 'aalyha',\n",
       " 'aalyia',\n",
       " 'aalyiah',\n",
       " 'aalyna',\n",
       " 'aalysia',\n",
       " 'aalyssa',\n",
       " 'aalyvia',\n",
       " 'aamal',\n",
       " 'aamanda',\n",
       " 'aamanee',\n",
       " 'aamani',\n",
       " 'aamar',\n",
       " 'aamara',\n",
       " 'aamari',\n",
       " 'aamarion',\n",
       " 'aamaya',\n",
       " 'aamber',\n",
       " 'aamena',\n",
       " 'aamer',\n",
       " 'aamia',\n",
       " 'aamid',\n",
       " 'aamil',\n",
       " 'aamilah',\n",
       " 'aamimi',\n",
       " 'aamina',\n",
       " 'aaminah',\n",
       " 'aamir',\n",
       " 'aamira',\n",
       " 'aamirah',\n",
       " 'aamirat',\n",
       " 'aamiri',\n",
       " 'aamiya',\n",
       " 'aamiyah',\n",
       " 'aammari',\n",
       " 'aamna',\n",
       " 'aamoni',\n",
       " 'aamor',\n",
       " 'aamori',\n",
       " 'aamouch',\n",
       " 'aamoud',\n",
       " 'aamoum',\n",
       " 'aamouri',\n",
       " 'aamrane',\n",
       " 'aamrani',\n",
       " 'aamraoui',\n",
       " 'aamri',\n",
       " 'aamrou',\n",
       " 'aamya',\n",
       " 'aamyah',\n",
       " 'aana',\n",
       " 'aanan',\n",
       " 'aanand',\n",
       " 'aananou',\n",
       " 'aanav',\n",
       " 'aanaya',\n",
       " 'aanchal',\n",
       " 'aania',\n",
       " 'aaniah',\n",
       " 'aaniba',\n",
       " 'aanijah',\n",
       " 'aanika',\n",
       " 'aanisah',\n",
       " 'aaniya',\n",
       " 'aaniyah',\n",
       " 'aaniylah',\n",
       " 'aanour',\n",
       " 'aanouz',\n",
       " 'aansh',\n",
       " 'aanshi',\n",
       " 'aantar',\n",
       " 'aanvi',\n",
       " 'aanya',\n",
       " 'aanyah',\n",
       " 'aanyla',\n",
       " 'aaouad',\n",
       " 'aaoualy',\n",
       " 'aaouam',\n",
       " 'aaouatef',\n",
       " 'aaouchai',\n",
       " 'aaouinate',\n",
       " 'aaourai',\n",
       " 'aaourfi',\n",
       " 'aapri',\n",
       " 'aaqib',\n",
       " 'aaqil',\n",
       " 'aara',\n",
       " 'aarab',\n",
       " 'aarabe',\n",
       " 'aarabella',\n",
       " 'aarabhi',\n",
       " 'aarabi',\n",
       " 'aaradhana',\n",
       " 'aaradhy',\n",
       " 'aaradhya',\n",
       " 'aaraf',\n",
       " 'aarafat',\n",
       " 'aarafi',\n",
       " 'aaraichi',\n",
       " 'aaraiz',\n",
       " 'aaraj',\n",
       " 'aaraje',\n",
       " 'aaralyn',\n",
       " 'aaralynn',\n",
       " 'aaran',\n",
       " 'aaraon',\n",
       " 'aaras',\n",
       " 'aarass',\n",
       " 'aaratrika',\n",
       " 'aarav',\n",
       " 'aaravi',\n",
       " 'aaraya',\n",
       " 'aarbaoui',\n",
       " 'aarbi',\n",
       " 'aarchi',\n",
       " 'aareaar',\n",
       " 'aaren',\n",
       " 'aareon',\n",
       " 'aareona',\n",
       " 'aari',\n",
       " 'aaria',\n",
       " 'aariah',\n",
       " 'aarian',\n",
       " 'aariana',\n",
       " 'aarianna',\n",
       " 'aarib',\n",
       " 'aariba',\n",
       " 'aaribi',\n",
       " 'aaric',\n",
       " 'aarica',\n",
       " 'aarich',\n",
       " 'aarick',\n",
       " 'aarie',\n",
       " 'aariel',\n",
       " 'aarielle',\n",
       " 'aarien',\n",
       " 'aarif',\n",
       " 'aarik',\n",
       " 'aarika',\n",
       " 'aariketh',\n",
       " 'aarilyn',\n",
       " 'aarilynn',\n",
       " 'aarin',\n",
       " 'aarini',\n",
       " 'aarion',\n",
       " 'aariona',\n",
       " 'aarionna',\n",
       " 'aaris',\n",
       " 'aarish',\n",
       " 'aarit',\n",
       " 'aariv',\n",
       " 'aariya',\n",
       " 'aariyah',\n",
       " 'aariyan',\n",
       " 'aariyana',\n",
       " 'aariyanna',\n",
       " 'aariyona',\n",
       " 'aariyonna',\n",
       " 'aariz',\n",
       " 'aarj',\n",
       " 'aarjav',\n",
       " 'aarjoun',\n",
       " 'aarn',\n",
       " 'aarna',\n",
       " 'aarnav',\n",
       " 'aarnavi',\n",
       " 'aarne',\n",
       " 'aaro',\n",
       " 'aaroh',\n",
       " 'aarohan',\n",
       " 'aarohi',\n",
       " 'aarolyn',\n",
       " 'aaron',\n",
       " 'aarona',\n",
       " 'aaronae',\n",
       " 'aaronda',\n",
       " 'aaronette',\n",
       " 'aaronisha',\n",
       " 'aaronjacob',\n",
       " 'aaronjames',\n",
       " 'aaronjohn',\n",
       " 'aaronjoseph',\n",
       " 'aaronjosh',\n",
       " 'aaronjoshua',\n",
       " 'aaronlee',\n",
       " 'aaronmichael',\n",
       " 'aaronn',\n",
       " 'aaroosh',\n",
       " 'aarou',\n",
       " 'aaroug',\n",
       " 'aarourou',\n",
       " 'aarrade',\n",
       " 'aarrar',\n",
       " 'aarras',\n",
       " 'aarren',\n",
       " 'aarron',\n",
       " 'aarsh',\n",
       " 'aarshi',\n",
       " 'aarshiya',\n",
       " 'aarthi',\n",
       " 'aarti',\n",
       " 'aaruhi',\n",
       " 'aarush',\n",
       " 'aarushi',\n",
       " 'aarvi',\n",
       " 'aarvin',\n",
       " 'aarya',\n",
       " 'aaryah',\n",
       " 'aaryahi',\n",
       " 'aaryan',\n",
       " 'aaryana',\n",
       " 'aaryanna',\n",
       " 'aaryash',\n",
       " 'aaryav',\n",
       " 'aaryn',\n",
       " 'aaryon',\n",
       " 'aaryona',\n",
       " 'aarza',\n",
       " 'aasam',\n",
       " 'aaser',\n",
       " 'aasha',\n",
       " 'aashana',\n",
       " 'aashay',\n",
       " 'aashi',\n",
       " 'aashia',\n",
       " 'aashika',\n",
       " 'aashini',\n",
       " 'aashir',\n",
       " 'aashirya',\n",
       " 'aashish',\n",
       " 'aashita',\n",
       " 'aashiyana',\n",
       " 'aashka',\n",
       " 'aashman',\n",
       " 'aashna',\n",
       " 'aashni',\n",
       " 'aashray',\n",
       " 'aashrita',\n",
       " 'aashrith',\n",
       " 'aashritha',\n",
       " 'aashvi',\n",
       " 'aasia',\n",
       " 'aasikri',\n",
       " 'aasim',\n",
       " 'aasin',\n",
       " 'aasir',\n",
       " 'aasiya',\n",
       " 'aasiyah',\n",
       " 'aasmae',\n",
       " 'aason',\n",
       " 'aasri',\n",
       " 'aassim',\n",
       " 'aassoumi',\n",
       " 'aastha',\n",
       " 'aatar',\n",
       " 'aatare',\n",
       " 'aatea',\n",
       " 'aatfallah',\n",
       " 'aathan',\n",
       " 'aati',\n",
       " 'aatif',\n",
       " 'aatifi',\n",
       " 'aatik',\n",
       " 'aatika',\n",
       " 'aatil',\n",
       " 'aatimad',\n",
       " 'aatiq',\n",
       " 'aatish',\n",
       " 'aatissam',\n",
       " 'aatmane',\n",
       " 'aatouch',\n",
       " 'aattach',\n",
       " 'aattachi',\n",
       " 'aattar',\n",
       " 'aava',\n",
       " 'aavah',\n",
       " 'aavash',\n",
       " 'aaven',\n",
       " 'aavi',\n",
       " 'aavin',\n",
       " 'aavion',\n",
       " 'aavya',\n",
       " 'aavyan',\n",
       " 'aavyn',\n",
       " 'aaya',\n",
       " 'aayaan',\n",
       " 'aayache',\n",
       " 'aayad',\n",
       " 'aayadi',\n",
       " 'aayah',\n",
       " 'aayam',\n",
       " 'aayan',\n",
       " 'aayana',\n",
       " 'aayanah',\n",
       " 'aayanna',\n",
       " 'aayansh',\n",
       " 'aayat',\n",
       " 'aaydan',\n",
       " 'aayden',\n",
       " 'aayla',\n",
       " 'aaylah',\n",
       " 'aayliah',\n",
       " 'aayoud',\n",
       " 'aayouni',\n",
       " 'aayra',\n",
       " 'aayu',\n",
       " 'aayush',\n",
       " 'aayusha',\n",
       " 'aayushi',\n",
       " 'aaza',\n",
       " 'aazan',\n",
       " 'aazaoui',\n",
       " 'aazarou',\n",
       " 'aazdag',\n",
       " 'aazddin',\n",
       " 'aazeddine',\n",
       " 'aazeddinne',\n",
       " 'aazibou',\n",
       " 'aazim',\n",
       " 'aazimou',\n",
       " 'aazioui',\n",
       " 'aaziyah',\n",
       " 'aaziz',\n",
       " 'aaziza',\n",
       " 'aazizi',\n",
       " 'aazki',\n",
       " 'aaznaoui',\n",
       " 'aaznoubalae',\n",
       " 'aazouz',\n",
       " 'aazouzi',\n",
       " 'aazzane',\n",
       " 'aazzaoui',\n",
       " 'aazzi',\n",
       " 'ab',\n",
       " 'aba',\n",
       " 'abaache',\n",
       " 'abaair',\n",
       " 'abaakil',\n",
       " 'abaali',\n",
       " 'abaamrane',\n",
       " 'abaan',\n",
       " 'abaaqil',\n",
       " 'abaarou',\n",
       " 'ababaker',\n",
       " 'ababou',\n",
       " 'abachil',\n",
       " 'abachouch',\n",
       " 'abachri',\n",
       " 'abad',\n",
       " 'abada',\n",
       " 'abadade',\n",
       " 'abadan',\n",
       " 'abadarrine',\n",
       " 'abadi',\n",
       " 'abadour',\n",
       " 'abagael',\n",
       " 'abagail',\n",
       " 'abagaile',\n",
       " 'abagale',\n",
       " 'abagayle',\n",
       " 'abaggar',\n",
       " 'abaghdad',\n",
       " 'abaha',\n",
       " 'abahabibi',\n",
       " 'abahmane',\n",
       " 'abahmaoui',\n",
       " 'abahnini',\n",
       " 'abahri',\n",
       " 'abahsain',\n",
       " 'abaid',\n",
       " 'abaidat',\n",
       " 'abaigael',\n",
       " 'abaigail',\n",
       " 'abaigeal',\n",
       " 'abaila',\n",
       " 'abaill',\n",
       " 'abair',\n",
       " 'abaiss',\n",
       " 'abajtour',\n",
       " 'abakacem',\n",
       " 'abakar',\n",
       " 'abakarim',\n",
       " 'abakhti',\n",
       " 'abakka',\n",
       " 'abakkal',\n",
       " 'abakour',\n",
       " 'abakrim',\n",
       " 'abala',\n",
       " 'abaladim',\n",
       " 'abali',\n",
       " 'abalil',\n",
       " 'aballa',\n",
       " 'aballagh',\n",
       " 'aballaoui',\n",
       " 'aballoul',\n",
       " 'abalouch',\n",
       " 'abamni',\n",
       " 'aban',\n",
       " 'abane',\n",
       " 'abannar',\n",
       " 'abanoub',\n",
       " 'abaoubida',\n",
       " 'abaoui',\n",
       " 'abara',\n",
       " 'abaragh',\n",
       " 'abarbou',\n",
       " 'abardiy',\n",
       " 'abarghou',\n",
       " 'abarhane',\n",
       " 'abari',\n",
       " 'abarkan',\n",
       " 'abarki',\n",
       " 'abarkin',\n",
       " 'abarouch',\n",
       " 'abaroun',\n",
       " 'abaroune',\n",
       " 'abarra',\n",
       " 'abarrah',\n",
       " 'abarrat',\n",
       " 'abarrou',\n",
       " 'abas',\n",
       " 'abasi',\n",
       " 'abass',\n",
       " 'abassaidi',\n",
       " 'abassari',\n",
       " 'abassi',\n",
       " 'abassia',\n",
       " 'abassor',\n",
       " 'abataleb',\n",
       " 'abatorab',\n",
       " 'abatour',\n",
       " 'abattouy',\n",
       " 'abattouyi',\n",
       " 'abayessef',\n",
       " 'abayomi',\n",
       " 'abaz',\n",
       " 'abazil',\n",
       " 'abb',\n",
       " 'abba',\n",
       " 'abbaala',\n",
       " 'abbaas',\n",
       " 'abbach',\n",
       " 'abbad',\n",
       " 'abbada',\n",
       " 'abbadi',\n",
       " 'abbady',\n",
       " 'abbagail',\n",
       " 'abbagale',\n",
       " 'abbagayle',\n",
       " 'abbana',\n",
       " 'abbaoui',\n",
       " 'abbar',\n",
       " 'abbari',\n",
       " 'abbas',\n",
       " 'abbase',\n",
       " 'abbasidi',\n",
       " 'abbass',\n",
       " 'abbasse',\n",
       " 'abbassi',\n",
       " 'abbassy',\n",
       " 'abbazi',\n",
       " 'abbdallah',\n",
       " 'abbdeladim',\n",
       " 'abbdellah',\n",
       " 'abbdelmajid',\n",
       " 'abbdesslam',\n",
       " 'abbe',\n",
       " 'abbee',\n",
       " 'abbegail',\n",
       " 'abbegale',\n",
       " 'abbegayle',\n",
       " 'abbeis',\n",
       " 'abbes',\n",
       " 'abbess',\n",
       " 'abbey',\n",
       " 'abbeygail',\n",
       " 'abbeygale',\n",
       " 'abbi',\n",
       " 'abbida',\n",
       " 'abbidra',\n",
       " 'abbie',\n",
       " 'abbiegail',\n",
       " 'abbiegale',\n",
       " 'abbiegayle',\n",
       " 'abbigael',\n",
       " 'abbigail',\n",
       " 'abbigaile',\n",
       " 'abbigal',\n",
       " 'abbigale',\n",
       " 'abbigayl',\n",
       " 'abbigayle',\n",
       " 'abbilyn',\n",
       " 'abbioui',\n",
       " 'abbis',\n",
       " 'abbot',\n",
       " 'abbott',\n",
       " 'abbou',\n",
       " 'abbouatta',\n",
       " 'abboubi',\n",
       " 'abbouby',\n",
       " 'abboud',\n",
       " 'abboudi',\n",
       " 'abboul',\n",
       " 'abbour',\n",
       " 'abbouti',\n",
       " 'abbra',\n",
       " 'abbriella',\n",
       " 'abbrielle',\n",
       " 'abbs',\n",
       " 'abby',\n",
       " 'abbye',\n",
       " 'abbygael',\n",
       " 'abbygail',\n",
       " 'abbygaile',\n",
       " 'abbygale',\n",
       " 'abbygayl',\n",
       " 'abbygayle',\n",
       " 'abbylynn',\n",
       " 'abcde',\n",
       " 'abchir',\n",
       " 'abd',\n",
       " 'abdaim',\n",
       " 'abdaimi',\n",
       " 'abdaine',\n",
       " 'abdala',\n",
       " 'abdalaaziz',\n",
       " 'abdalah',\n",
       " 'abdalas',\n",
       " 'abdalfattah',\n",
       " 'abdalhafid',\n",
       " 'abdali',\n",
       " 'abdalilah',\n",
       " 'abdalkabir',\n",
       " 'abdalkhalki',\n",
       " 'abdalla',\n",
       " 'abdallah',\n",
       " 'abdallaoui',\n",
       " 'abdallas',\n",
       " 'abdallatif',\n",
       " 'abdalmajid',\n",
       " 'abdalrahman',\n",
       " 'abdalrhman',\n",
       " 'abdals',\n",
       " 'abdanabi',\n",
       " 'abdanbi',\n",
       " 'abdani',\n",
       " 'abdanour',\n",
       " 'abdaoui',\n",
       " 'abdarazzak',\n",
       " 'abdarhim',\n",
       " 'abdari',\n",
       " 'abdarrahmane',\n",
       " 'abdassamad',\n",
       " 'abdati',\n",
       " 'abddaim',\n",
       " 'abddelatif',\n",
       " 'abddeslam',\n",
       " 'abddezzaim',\n",
       " 'abde',\n",
       " 'abdealaziz',\n",
       " 'abdeali',\n",
       " 'abdealkader',\n",
       " 'abdeallah',\n",
       " 'abdeallatif',\n",
       " 'abdeaziz',\n",
       " 'abdechafia',\n",
       " 'abdechafik',\n",
       " 'abdedaim',\n",
       " 'abdedaym',\n",
       " 'abdeddaher',\n",
       " 'abdeddaim',\n",
       " 'abdeddaime',\n",
       " 'abdeddaym',\n",
       " 'abdeddine',\n",
       " 'abdedine',\n",
       " 'abdedlaaziz',\n",
       " 'abdedrahim',\n",
       " 'abdeellah',\n",
       " 'abdefettah',\n",
       " 'abdeghani',\n",
       " 'abdehafid',\n",
       " 'abdehak',\n",
       " 'abdehakim',\n",
       " 'abdeilah',\n",
       " 'abdeillah',\n",
       " 'abdejalil',\n",
       " 'abdejalile',\n",
       " 'abdejebbar',\n",
       " 'abdejghani',\n",
       " 'abdejkebir',\n",
       " 'abdejlil',\n",
       " 'abdekamel',\n",
       " 'abdekarim',\n",
       " 'abdekebir',\n",
       " 'abdekhalek',\n",
       " 'abdekhalik',\n",
       " 'abdeklati',\n",
       " 'abdeklaziz',\n",
       " 'abdekrim',\n",
       " 'abdel',\n",
       " 'abdelaadim',\n",
       " 'abdelaadime',\n",
       " 'abdelaah',\n",
       " 'abdelaal',\n",
       " 'abdelaali',\n",
       " 'abdelaalim',\n",
       " 'abdelaaly',\n",
       " 'abdelaati',\n",
       " 'abdelaaty',\n",
       " 'abdelaaziz',\n",
       " 'abdelaazyz',\n",
       " 'abdeladdim',\n",
       " 'abdeladem',\n",
       " 'abdeladil',\n",
       " 'abdeladim',\n",
       " 'abdeladime',\n",
       " 'abdelafattah',\n",
       " 'abdelaghni',\n",
       " 'abdelah',\n",
       " 'abdelahad',\n",
       " 'abdelahadi',\n",
       " 'abdelahdi',\n",
       " 'abdelahk',\n",
       " 'abdelak',\n",
       " 'abdelakader',\n",
       " 'abdelakbir',\n",
       " 'abdelakder',\n",
       " 'abdelakrim',\n",
       " 'abdelal',\n",
       " 'abdelalh',\n",
       " 'abdelali',\n",
       " 'abdelalim',\n",
       " 'abdelalime',\n",
       " 'abdelaly',\n",
       " 'abdelam',\n",
       " 'abdelamane',\n",
       " 'abdelami',\n",
       " 'abdelamim',\n",
       " 'abdelamine',\n",
       " 'abdelamjid',\n",
       " 'abdelaoui',\n",
       " 'abdelati',\n",
       " 'abdelatif',\n",
       " 'abdelatik',\n",
       " 'abdelatti',\n",
       " 'abdelattif',\n",
       " 'abdelaz',\n",
       " 'abdelazi',\n",
       " 'abdelaziaz',\n",
       " 'abdelazie',\n",
       " 'abdelaziiz',\n",
       " 'abdelaziz',\n",
       " 'abdelazize',\n",
       " 'abdelazizi',\n",
       " 'abdelazyz',\n",
       " 'abdelazziz',\n",
       " 'abdelbacet',\n",
       " 'abdelbadie',\n",
       " 'abdelbaki',\n",
       " 'abdelbaky',\n",
       " 'abdelbaqi',\n",
       " 'abdelbaqui',\n",
       " 'abdelbar',\n",
       " 'abdelbarea',\n",
       " 'abdelbari',\n",
       " 'abdelbarie',\n",
       " 'abdelbaset',\n",
       " 'abdelbassat',\n",
       " 'abdelbassate',\n",
       " 'abdelbasset',\n",
       " 'abdelbassete',\n",
       " 'abdelbassit',\n",
       " 'abdelbassite',\n",
       " 'abdelbast',\n",
       " 'abdelekrim',\n",
       " 'abdelelah',\n",
       " 'abdelellah',\n",
       " 'abdelfadel',\n",
       " 'abdelfadil',\n",
       " 'abdelfatah',\n",
       " 'abdelfateh',\n",
       " 'abdelfath',\n",
       " 'abdelfattah',\n",
       " 'abdelfattam',\n",
       " 'abdelfatteh',\n",
       " 'abdelfdil',\n",
       " 'abdelfetah',\n",
       " 'abdelfettah',\n",
       " 'abdelfettahe',\n",
       " 'abdelffattah',\n",
       " 'abdelfida',\n",
       " 'abdelfttah',\n",
       " 'abdelgafar',\n",
       " 'abdelgani',\n",
       " 'abdelganine',\n",
       " 'abdelgawad',\n",
       " 'abdelghafar',\n",
       " 'abdelghaffar',\n",
       " 'abdelghafor',\n",
       " 'abdelghafour',\n",
       " 'abdelghaleb',\n",
       " 'abdelghali',\n",
       " 'abdelghan',\n",
       " 'abdelghani',\n",
       " 'abdelghanie',\n",
       " 'abdelghaoui',\n",
       " 'abdelghni',\n",
       " 'abdelghouch',\n",
       " 'abdelha',\n",
       " 'abdelhabib',\n",
       " 'abdelhad',\n",
       " 'abdelhadi',\n",
       " 'abdelhadib',\n",
       " 'abdelhady',\n",
       " 'abdelhafed',\n",
       " 'abdelhafez',\n",
       " 'abdelhafid',\n",
       " 'abdelhai',\n",
       " 'abdelhak',\n",
       " 'abdelhake',\n",
       " 'abdelhakem',\n",
       " 'abdelhakim',\n",
       " 'abdelhali',\n",
       " 'abdelhalim',\n",
       " 'abdelhalkim',\n",
       " 'abdelham',\n",
       " 'abdelhamed',\n",
       " 'abdelhamid',\n",
       " 'abdelhanin',\n",
       " 'abdelhanine',\n",
       " 'abdelhannane',\n",
       " 'abdelhaq',\n",
       " 'abdelhaqe',\n",
       " 'abdelhaquim',\n",
       " 'abdelhay',\n",
       " 'abdelhaye',\n",
       " 'abdelhelah',\n",
       " 'abdelhfid',\n",
       " 'abdelhgafour',\n",
       " 'abdelhjani',\n",
       " 'abdelhk',\n",
       " 'abdelhkim',\n",
       " 'abdelhouaheb',\n",
       " 'abdelhouahed',\n",
       " 'abdelihah',\n",
       " 'abdeliilah',\n",
       " 'abdelil',\n",
       " 'abdelilah',\n",
       " 'abdelilahe',\n",
       " 'abdelilak',\n",
       " 'abdelillah',\n",
       " 'abdelilllah',\n",
       " 'abdeljabar',\n",
       " 'abdeljabbar',\n",
       " 'abdeljaber',\n",
       " 'abdeljaid',\n",
       " 'abdeljalal',\n",
       " 'abdeljali',\n",
       " ...]"
      ]
     },
     "execution_count": 38,
     "metadata": {},
     "output_type": "execute_result"
    }
   ],
   "source": [
    "cv.get_feature_names()"
   ]
  },
  {
   "cell_type": "code",
   "execution_count": 39,
   "metadata": {
    "ExecuteTime": {
     "end_time": "2022-02-22T10:38:31.725742Z",
     "start_time": "2022-02-22T10:38:31.718738Z"
    }
   },
   "outputs": [],
   "source": [
    "from sklearn.model_selection import train_test_split"
   ]
  },
  {
   "cell_type": "code",
   "execution_count": 40,
   "metadata": {
    "ExecuteTime": {
     "end_time": "2022-02-22T10:38:54.421577Z",
     "start_time": "2022-02-22T10:38:32.600740Z"
    }
   },
   "outputs": [],
   "source": [
    "# Features \n",
    "X\n",
    "# Labels\n",
    "y = df_names.sex"
   ]
  },
  {
   "cell_type": "code",
   "execution_count": 59,
   "metadata": {
    "ExecuteTime": {
     "end_time": "2022-02-22T10:39:35.982989Z",
     "start_time": "2022-02-22T10:39:35.931641Z"
    }
   },
   "outputs": [],
   "source": [
    "X_train, X_test, y_train, y_test = train_test_split(X, y, test_size=0.3, random_state=42)"
   ]
  },
  {
   "cell_type": "markdown",
   "metadata": {},
   "source": [
    "# Naive Bayes Classifier"
   ]
  },
  {
   "cell_type": "code",
   "execution_count": 60,
   "metadata": {
    "ExecuteTime": {
     "end_time": "2022-02-22T10:39:38.035626Z",
     "start_time": "2022-02-22T10:39:37.965618Z"
    }
   },
   "outputs": [
    {
     "data": {
      "text/plain": [
       "0.8783153539234521"
      ]
     },
     "execution_count": 60,
     "metadata": {},
     "output_type": "execute_result"
    }
   ],
   "source": [
    "# Naive Bayes Classifier\n",
    "from sklearn.naive_bayes import MultinomialNB\n",
    "clf = MultinomialNB()\n",
    "clf.fit(X_train,y_train)\n",
    "clf.score(X_test,y_test)\n"
   ]
  },
  {
   "cell_type": "markdown",
   "metadata": {},
   "source": [
    "# Accuracy of our Model"
   ]
  },
  {
   "cell_type": "code",
   "execution_count": 61,
   "metadata": {
    "ExecuteTime": {
     "end_time": "2022-02-22T10:39:39.480203Z",
     "start_time": "2022-02-22T10:39:39.457203Z"
    }
   },
   "outputs": [
    {
     "name": "stdout",
     "output_type": "stream",
     "text": [
      "Accuracy of Model 87.8315353923452 %\n"
     ]
    }
   ],
   "source": [
    "# Accuracy of our Model\n",
    "print(\"Accuracy of Model\",clf.score(X_test,y_test)*100,\"%\")"
   ]
  },
  {
   "cell_type": "code",
   "execution_count": 62,
   "metadata": {
    "ExecuteTime": {
     "end_time": "2022-02-22T10:39:40.243658Z",
     "start_time": "2022-02-22T10:39:40.203595Z"
    }
   },
   "outputs": [
    {
     "name": "stdout",
     "output_type": "stream",
     "text": [
      "Accuracy of Model 98.47975497733947 %\n"
     ]
    }
   ],
   "source": [
    "# Accuracy of our Model\n",
    "print(\"Accuracy of Model\",clf.score(X_train,y_train)*100,\"%\")"
   ]
  },
  {
   "cell_type": "markdown",
   "metadata": {},
   "source": [
    "### Sample Prediction"
   ]
  },
  {
   "cell_type": "code",
   "execution_count": 63,
   "metadata": {
    "ExecuteTime": {
     "end_time": "2022-02-22T10:39:44.151568Z",
     "start_time": "2022-02-22T10:39:44.140571Z"
    }
   },
   "outputs": [],
   "source": [
    "# Sample1 Prediction\n",
    "sample_name = [\"fatiha\"]\n",
    "vect = cv.transform(sample_name).toarray()"
   ]
  },
  {
   "cell_type": "code",
   "execution_count": 64,
   "metadata": {
    "ExecuteTime": {
     "end_time": "2022-02-22T10:39:44.339309Z",
     "start_time": "2022-02-22T10:39:44.327301Z"
    }
   },
   "outputs": [
    {
     "data": {
      "text/plain": [
       "array([[0, 0, 0, ..., 0, 0, 0]], dtype=int64)"
      ]
     },
     "execution_count": 64,
     "metadata": {},
     "output_type": "execute_result"
    }
   ],
   "source": [
    "vect"
   ]
  },
  {
   "cell_type": "code",
   "execution_count": 65,
   "metadata": {
    "ExecuteTime": {
     "end_time": "2022-02-22T10:39:44.539697Z",
     "start_time": "2022-02-22T10:39:44.531700Z"
    }
   },
   "outputs": [
    {
     "data": {
      "text/plain": [
       "array([0], dtype=int64)"
      ]
     },
     "execution_count": 65,
     "metadata": {},
     "output_type": "execute_result"
    }
   ],
   "source": [
    "# Female is 0, Male is 1,none is 2\n",
    "clf.predict(vect)"
   ]
  },
  {
   "cell_type": "code",
   "execution_count": 66,
   "metadata": {
    "ExecuteTime": {
     "end_time": "2022-02-22T10:39:44.772575Z",
     "start_time": "2022-02-22T10:39:44.764577Z"
    }
   },
   "outputs": [],
   "source": [
    "# Sample2 Prediction\n",
    "sample_name1 = [\"mhammed atae allah\"]\n",
    "vect1 = cv.transform(sample_name1).toarray()"
   ]
  },
  {
   "cell_type": "code",
   "execution_count": 67,
   "metadata": {
    "ExecuteTime": {
     "end_time": "2022-02-22T10:39:45.019695Z",
     "start_time": "2022-02-22T10:39:45.012708Z"
    }
   },
   "outputs": [
    {
     "data": {
      "text/plain": [
       "array([1], dtype=int64)"
      ]
     },
     "execution_count": 67,
     "metadata": {},
     "output_type": "execute_result"
    }
   ],
   "source": [
    "clf.predict(vect1)"
   ]
  },
  {
   "cell_type": "code",
   "execution_count": 68,
   "metadata": {
    "ExecuteTime": {
     "end_time": "2022-02-22T10:39:45.238053Z",
     "start_time": "2022-02-22T10:39:45.227057Z"
    }
   },
   "outputs": [],
   "source": [
    "# Sample3 Prediction of Russian Names\n",
    "sample_name2 = [\"fateh\"]\n",
    "vect2 = cv.transform(sample_name2).toarray()"
   ]
  },
  {
   "cell_type": "code",
   "execution_count": 69,
   "metadata": {
    "ExecuteTime": {
     "end_time": "2022-02-22T10:39:46.083345Z",
     "start_time": "2022-02-22T10:39:46.063804Z"
    }
   },
   "outputs": [
    {
     "data": {
      "text/plain": [
       "array([1], dtype=int64)"
      ]
     },
     "execution_count": 69,
     "metadata": {},
     "output_type": "execute_result"
    }
   ],
   "source": [
    "clf.predict(vect2)"
   ]
  },
  {
   "cell_type": "markdown",
   "metadata": {},
   "source": [
    "# Sample Prediction of Random Names"
   ]
  },
  {
   "cell_type": "code",
   "execution_count": 70,
   "metadata": {
    "ExecuteTime": {
     "end_time": "2022-02-22T10:39:47.108230Z",
     "start_time": "2022-02-22T10:39:47.105231Z"
    }
   },
   "outputs": [],
   "source": [
    "# Sample3 Prediction of Random Names\n",
    "sample_name3 = [\"kabir\"]\n",
    "vect3 = cv.transform(sample_name3).toarray()"
   ]
  },
  {
   "cell_type": "code",
   "execution_count": 71,
   "metadata": {
    "ExecuteTime": {
     "end_time": "2022-02-22T10:39:48.893088Z",
     "start_time": "2022-02-22T10:39:48.883090Z"
    }
   },
   "outputs": [
    {
     "data": {
      "text/plain": [
       "array([[0.01812307, 0.98187693]])"
      ]
     },
     "execution_count": 71,
     "metadata": {},
     "output_type": "execute_result"
    }
   ],
   "source": [
    "clf.predict_proba(vect3)"
   ]
  },
  {
   "cell_type": "code",
   "execution_count": 72,
   "metadata": {
    "ExecuteTime": {
     "end_time": "2022-02-22T10:39:53.964838Z",
     "start_time": "2022-02-22T10:39:53.954899Z"
    }
   },
   "outputs": [],
   "source": [
    "# A function to do it\n",
    "def genderpredictor(a):\n",
    "    test_name = [a]\n",
    "    vector = cv.transform(test_name).toarray()\n",
    "    if clf.predict(vector) == 0:\n",
    "        print(\"Female\")\n",
    "    else:\n",
    "        print(\"Male\")\n",
    "    "
   ]
  },
  {
   "cell_type": "code",
   "execution_count": 73,
   "metadata": {
    "ExecuteTime": {
     "end_time": "2022-02-22T10:39:55.405893Z",
     "start_time": "2022-02-22T10:39:55.384911Z"
    }
   },
   "outputs": [
    {
     "name": "stdout",
     "output_type": "stream",
     "text": [
      "Female\n",
      "None\n",
      "Male\n",
      "None\n",
      "Male\n",
      "None\n",
      "Female\n",
      "None\n"
     ]
    }
   ],
   "source": [
    "namelist = [\"Yaa\",\"Yaw\",\"Femi\",\"Masha\"]\n",
    "for i in namelist:\n",
    "    print(genderpredictor(i))"
   ]
  },
  {
   "cell_type": "markdown",
   "metadata": {},
   "source": [
    "### Using a custom function for feature analysis"
   ]
  },
  {
   "cell_type": "code",
   "execution_count": 74,
   "metadata": {
    "ExecuteTime": {
     "end_time": "2022-02-22T10:40:07.734712Z",
     "start_time": "2022-02-22T10:40:07.729768Z"
    }
   },
   "outputs": [],
   "source": [
    "# By Analogy most female names ends in 'A' or 'E' or has the sound of 'A'\n",
    "def features(name):\n",
    "    name = name.lower()\n",
    "    return {\n",
    "        'first-letter': name[0], # First letter\n",
    "        'first2-letters': name[0:2], # First 2 letters\n",
    "        'first3-letters': name[0:3], # First 3 letters\n",
    "        'last-letter': name[-1],\n",
    "        'last2-letters': name[-2:],\n",
    "        'last3-letters': name[-3:],\n",
    "    }"
   ]
  },
  {
   "cell_type": "code",
   "execution_count": 75,
   "metadata": {
    "ExecuteTime": {
     "end_time": "2022-02-22T10:40:08.574739Z",
     "start_time": "2022-02-22T10:40:08.569739Z"
    }
   },
   "outputs": [
    {
     "name": "stdout",
     "output_type": "stream",
     "text": [
      "[{'first-letter': 'a', 'first2-letters': 'an', 'first3-letters': 'ann', 'last-letter': 'a', 'last2-letters': 'na', 'last3-letters': 'nna'}\n",
      " {'first-letter': 'h', 'first2-letters': 'ha', 'first3-letters': 'han', 'last-letter': 'h', 'last2-letters': 'ah', 'last3-letters': 'nah'}\n",
      " {'first-letter': 'p', 'first2-letters': 'pe', 'first3-letters': 'pet', 'last-letter': 'r', 'last2-letters': 'er', 'last3-letters': 'ter'}\n",
      " {'first-letter': 'j', 'first2-letters': 'jo', 'first3-letters': 'joh', 'last-letter': 'n', 'last2-letters': 'hn', 'last3-letters': 'ohn'}\n",
      " {'first-letter': 'v', 'first2-letters': 'vl', 'first3-letters': 'vla', 'last-letter': 'r', 'last2-letters': 'ir', 'last3-letters': 'mir'}\n",
      " {'first-letter': 'm', 'first2-letters': 'mo', 'first3-letters': 'moh', 'last-letter': 'd', 'last2-letters': 'ed', 'last3-letters': 'med'}]\n"
     ]
    }
   ],
   "source": [
    "# Vectorize the features function\n",
    "features = np.vectorize(features)\n",
    "print(features([\"Anna\", \"Hannah\", \"Peter\",\"John\",\"Vladmir\",\"Mohammed\"]))"
   ]
  },
  {
   "cell_type": "code",
   "execution_count": 76,
   "metadata": {
    "ExecuteTime": {
     "end_time": "2022-02-22T10:40:09.678792Z",
     "start_time": "2022-02-22T10:40:09.313724Z"
    }
   },
   "outputs": [],
   "source": [
    "# Extract the features for the dataset\n",
    "df_X = features(df_names['name'])"
   ]
  },
  {
   "cell_type": "code",
   "execution_count": 77,
   "metadata": {
    "ExecuteTime": {
     "end_time": "2022-02-22T10:40:11.709184Z",
     "start_time": "2022-02-22T10:40:11.702187Z"
    }
   },
   "outputs": [],
   "source": [
    "df_y = df_names['sex']"
   ]
  },
  {
   "cell_type": "code",
   "execution_count": 78,
   "metadata": {
    "ExecuteTime": {
     "end_time": "2022-02-22T10:40:12.399411Z",
     "start_time": "2022-02-22T10:40:12.391413Z"
    }
   },
   "outputs": [
    {
     "name": "stdout",
     "output_type": "stream",
     "text": [
      "  (0, 1)\t1.0\n",
      "  (0, 3)\t1.0\n",
      "  (0, 5)\t1.0\n",
      "  (0, 7)\t1.0\n",
      "  (0, 9)\t1.0\n",
      "  (0, 10)\t1.0\n",
      "  (1, 0)\t1.0\n",
      "  (1, 2)\t1.0\n",
      "  (1, 4)\t1.0\n",
      "  (1, 6)\t1.0\n",
      "  (1, 8)\t1.0\n",
      "  (1, 11)\t1.0\n"
     ]
    }
   ],
   "source": [
    "from sklearn.feature_extraction import DictVectorizer\n",
    " \n",
    "corpus = features([\"Mike\", \"Julia\"])\n",
    "dv = DictVectorizer()\n",
    "dv.fit(corpus)\n",
    "transformed = dv.transform(corpus)\n",
    "print(transformed)\n",
    " "
   ]
  },
  {
   "cell_type": "code",
   "execution_count": 79,
   "metadata": {
    "ExecuteTime": {
     "end_time": "2022-02-22T10:40:14.477068Z",
     "start_time": "2022-02-22T10:40:14.471068Z"
    }
   },
   "outputs": [
    {
     "data": {
      "text/plain": [
       "['first-letter=j',\n",
       " 'first-letter=m',\n",
       " 'first2-letters=ju',\n",
       " 'first2-letters=mi',\n",
       " 'first3-letters=jul',\n",
       " 'first3-letters=mik',\n",
       " 'last-letter=a',\n",
       " 'last-letter=e',\n",
       " 'last2-letters=ia',\n",
       " 'last2-letters=ke',\n",
       " 'last3-letters=ike',\n",
       " 'last3-letters=lia']"
      ]
     },
     "execution_count": 79,
     "metadata": {},
     "output_type": "execute_result"
    }
   ],
   "source": [
    "dv.get_feature_names()"
   ]
  },
  {
   "cell_type": "code",
   "execution_count": 80,
   "metadata": {
    "ExecuteTime": {
     "end_time": "2022-02-22T10:40:16.000514Z",
     "start_time": "2022-02-22T10:40:15.947503Z"
    }
   },
   "outputs": [],
   "source": [
    "# Train Test Split\n",
    "dfX_train, dfX_test, dfy_train, dfy_test = train_test_split(df_X, df_y, test_size=0.33, random_state=33)"
   ]
  },
  {
   "cell_type": "code",
   "execution_count": 81,
   "metadata": {
    "ExecuteTime": {
     "end_time": "2022-02-22T10:40:16.882167Z",
     "start_time": "2022-02-22T10:40:16.874155Z"
    }
   },
   "outputs": [
    {
     "data": {
      "text/plain": [
       "array([{'first-letter': 's', 'first2-letters': 'sa', 'first3-letters': 'sal', 'last-letter': 'd', 'last2-letters': 'ed', 'last3-letters': 'med'},\n",
       "       {'first-letter': 'm', 'first2-letters': 'mo', 'first3-letters': 'moh', 'last-letter': 'n', 'last2-letters': 'in', 'last3-letters': 'min'},\n",
       "       {'first-letter': 'm', 'first2-letters': 'mi', 'first3-letters': 'mim', 'last-letter': 'e', 'last2-letters': 'ne', 'last3-letters': 'une'},\n",
       "       ...,\n",
       "       {'first-letter': 'h', 'first2-letters': 'ho', 'first3-letters': 'hou', 'last-letter': 'a', 'last2-letters': 'da', 'last3-letters': 'uda'},\n",
       "       {'first-letter': 'a', 'first2-letters': 'ah', 'first3-letters': 'ahm', 'last-letter': 'd', 'last2-letters': 'ed', 'last3-letters': 'med'},\n",
       "       {'first-letter': 'd', 'first2-letters': 'da', 'first3-letters': 'day', 'last-letter': 'n', 'last2-letters': 'en', 'last3-letters': 'ven'}],\n",
       "      dtype=object)"
      ]
     },
     "execution_count": 81,
     "metadata": {},
     "output_type": "execute_result"
    }
   ],
   "source": [
    "dfX_train"
   ]
  },
  {
   "cell_type": "code",
   "execution_count": 82,
   "metadata": {
    "ExecuteTime": {
     "end_time": "2022-02-22T10:40:19.456004Z",
     "start_time": "2022-02-22T10:40:17.795693Z"
    }
   },
   "outputs": [
    {
     "data": {
      "text/plain": [
       "<377822x10380 sparse matrix of type '<class 'numpy.float64'>'\n",
       "\twith 2266932 stored elements in Compressed Sparse Row format>"
      ]
     },
     "execution_count": 82,
     "metadata": {},
     "output_type": "execute_result"
    }
   ],
   "source": [
    "\n",
    "dv = DictVectorizer()\n",
    "dv.fit_transform(dfX_train)\n"
   ]
  },
  {
   "cell_type": "markdown",
   "metadata": {},
   "source": [
    "# data of names "
   ]
  },
  {
   "cell_type": "code",
   "execution_count": 615,
   "metadata": {
    "ExecuteTime": {
     "end_time": "2022-02-16T21:34:16.404761Z",
     "start_time": "2022-02-16T21:34:15.989262Z"
    }
   },
   "outputs": [],
   "source": [
    "#female=pd.read_excel(r\"C:\\Users\\Jebbar Abdelkader\\Desktop\\Gender-prediction\\dataset_garbage\\ListeFE.xlsx\")\n",
    "\n",
    "#DGI_prenom=pd.read_excel(r\"C:\\Users\\Jebbar Abdelkader\\Desktop\\Prénoms_DGI_sans_numéros_Abderrahmane.xlsx\")"
   ]
  },
  {
   "cell_type": "code",
   "execution_count": 83,
   "metadata": {
    "ExecuteTime": {
     "end_time": "2022-02-22T10:44:39.681348Z",
     "start_time": "2022-02-22T10:43:16.902023Z"
    }
   },
   "outputs": [],
   "source": [
    "pp_19_stock=pd.read_excel(r\"C:\\Users\\Jebbar Abdelkader\\Desktop\\confidentialite\\Base 2019\\Personnes physiques\\pp_19_stock.xlsx\")"
   ]
  },
  {
   "cell_type": "code",
   "execution_count": 85,
   "metadata": {
    "ExecuteTime": {
     "end_time": "2022-02-22T10:46:53.549838Z",
     "start_time": "2022-02-22T10:46:53.445723Z"
    }
   },
   "outputs": [
    {
     "data": {
      "text/html": [
       "<div>\n",
       "<style scoped>\n",
       "    .dataframe tbody tr th:only-of-type {\n",
       "        vertical-align: middle;\n",
       "    }\n",
       "\n",
       "    .dataframe tbody tr th {\n",
       "        vertical-align: top;\n",
       "    }\n",
       "\n",
       "    .dataframe thead th {\n",
       "        text-align: right;\n",
       "    }\n",
       "</style>\n",
       "<table border=\"1\" class=\"dataframe\">\n",
       "  <thead>\n",
       "    <tr style=\"text-align: right;\">\n",
       "      <th></th>\n",
       "      <th>IDENTIFIANT_FISCAL</th>\n",
       "      <th>IDENTIFIANT_COMMUN_ENTREPRISE</th>\n",
       "      <th>RC_unique</th>\n",
       "      <th>NUMERO_DU_REGISTRE_DU_COMMERCE</th>\n",
       "      <th>CODE_CENTRE_REGISTRE_COMMERCE</th>\n",
       "      <th>NUMERO_DE_LA_CNSS</th>\n",
       "      <th>NOM_OU_RAISON_SOCIALE</th>\n",
       "      <th>ADRESSE</th>\n",
       "      <th>CODE_ANNEE</th>\n",
       "      <th>ID_TECHNIQUE</th>\n",
       "      <th>...</th>\n",
       "      <th>Nombre_employés_12_2019</th>\n",
       "      <th>Tranches_ca</th>\n",
       "      <th>LIB_REGION</th>\n",
       "      <th>Activité</th>\n",
       "      <th>Tranches_CA</th>\n",
       "      <th>Libellé Section</th>\n",
       "      <th>REGION</th>\n",
       "      <th>Tranches_CA_18</th>\n",
       "      <th>Tranches_CA_17</th>\n",
       "      <th>tranche_17_18_19</th>\n",
       "    </tr>\n",
       "  </thead>\n",
       "  <tbody>\n",
       "    <tr>\n",
       "      <th>0</th>\n",
       "      <td>25225478.0</td>\n",
       "      <td>2.073931e+12</td>\n",
       "      <td>0000_NA</td>\n",
       "      <td>0000</td>\n",
       "      <td>NaN</td>\n",
       "      <td>1000101.0</td>\n",
       "      <td>TARBI MINA</td>\n",
       "      <td>N2 BAB ZORGANE 1 ER ETAGE IMM CHERIF</td>\n",
       "      <td>2019</td>\n",
       "      <td>0a2c184fbfdd84ba517e4c080199949e</td>\n",
       "      <td>...</td>\n",
       "      <td>3.0</td>\n",
       "      <td>NaN</td>\n",
       "      <td>Souss-Massa</td>\n",
       "      <td>8622</td>\n",
       "      <td>NaN</td>\n",
       "      <td>SANTÉ HUMAINE ET ACTION SOCIALE</td>\n",
       "      <td>Souss-Massa</td>\n",
       "      <td>]0 , 1]</td>\n",
       "      <td>NaN</td>\n",
       "      <td>]0 , 1]</td>\n",
       "    </tr>\n",
       "    <tr>\n",
       "      <th>1</th>\n",
       "      <td>73662580.0</td>\n",
       "      <td>1.164771e+12</td>\n",
       "      <td>18172_NA</td>\n",
       "      <td>18172</td>\n",
       "      <td>NaN</td>\n",
       "      <td>1000125.0</td>\n",
       "      <td>TOUILE AHMED</td>\n",
       "      <td>DOUAR KASBA  LAMHADI EL GUERDANE</td>\n",
       "      <td>2019</td>\n",
       "      <td>a91f2e3831615918b1716135b1b7140e</td>\n",
       "      <td>...</td>\n",
       "      <td>1.0</td>\n",
       "      <td>NaN</td>\n",
       "      <td>Souss-Massa</td>\n",
       "      <td>3314</td>\n",
       "      <td>NaN</td>\n",
       "      <td>INDUSTRIE MANUFACTURIÈRE</td>\n",
       "      <td>Souss-Massa</td>\n",
       "      <td>NaN</td>\n",
       "      <td>CA NULL</td>\n",
       "      <td>CA NULL</td>\n",
       "    </tr>\n",
       "    <tr>\n",
       "      <th>2</th>\n",
       "      <td>78000180.0</td>\n",
       "      <td>1.848616e+12</td>\n",
       "      <td>3986_NA</td>\n",
       "      <td>3986</td>\n",
       "      <td>NaN</td>\n",
       "      <td>1000199.0</td>\n",
       "      <td>OUTADRART  LAHOUCINE</td>\n",
       "      <td>SOUK TNINE TAFINGOULT OULAD BERHIL</td>\n",
       "      <td>2019</td>\n",
       "      <td>51e1ed44dbd3e5bbd07f3ee7ff765b0f</td>\n",
       "      <td>...</td>\n",
       "      <td>1.0</td>\n",
       "      <td>NaN</td>\n",
       "      <td>Souss-Massa</td>\n",
       "      <td>4729</td>\n",
       "      <td>NaN</td>\n",
       "      <td>COMMERCE ; RÉPARATION D'AUTOMOBILES ET DE MOTO...</td>\n",
       "      <td>Souss-Massa</td>\n",
       "      <td>]1 , 3]</td>\n",
       "      <td>NaN</td>\n",
       "      <td>]1 , 3]</td>\n",
       "    </tr>\n",
       "    <tr>\n",
       "      <th>3</th>\n",
       "      <td>77635319.0</td>\n",
       "      <td>2.133845e+12</td>\n",
       "      <td>7816_66</td>\n",
       "      <td>7816</td>\n",
       "      <td>66.0</td>\n",
       "      <td>1000214.0</td>\n",
       "      <td>MAHRAJ HASSAN</td>\n",
       "      <td>KISSARIAT AL MANIRA JNANE JAMAA</td>\n",
       "      <td>2019</td>\n",
       "      <td>f33bfe2dd61905596bf73def430cbc8b</td>\n",
       "      <td>...</td>\n",
       "      <td>NaN</td>\n",
       "      <td>]0 , 1]</td>\n",
       "      <td>Souss-Massa</td>\n",
       "      <td>4778</td>\n",
       "      <td>]0 , 1]</td>\n",
       "      <td>COMMERCE ; RÉPARATION D'AUTOMOBILES ET DE MOTO...</td>\n",
       "      <td>Souss-Massa</td>\n",
       "      <td>NaN</td>\n",
       "      <td>]0 , 1]</td>\n",
       "      <td>]0 , 1]</td>\n",
       "    </tr>\n",
       "    <tr>\n",
       "      <th>4</th>\n",
       "      <td>40259590.0</td>\n",
       "      <td>2.132185e+12</td>\n",
       "      <td>17570_NA</td>\n",
       "      <td>17570</td>\n",
       "      <td>NaN</td>\n",
       "      <td>1000238.0</td>\n",
       "      <td>AMZIL  AHMED</td>\n",
       "      <td>BLOC B N 56 HAY ASSALAM AIT IAAZA</td>\n",
       "      <td>2019</td>\n",
       "      <td>28e5e3012f5630820f4d6cae91e2c62c</td>\n",
       "      <td>...</td>\n",
       "      <td>1.0</td>\n",
       "      <td>NaN</td>\n",
       "      <td>Souss-Massa</td>\n",
       "      <td>3250</td>\n",
       "      <td>NaN</td>\n",
       "      <td>INDUSTRIE MANUFACTURIÈRE</td>\n",
       "      <td>Souss-Massa</td>\n",
       "      <td>NaN</td>\n",
       "      <td>]0 , 1]</td>\n",
       "      <td>]0 , 1]</td>\n",
       "    </tr>\n",
       "  </tbody>\n",
       "</table>\n",
       "<p>5 rows × 86 columns</p>\n",
       "</div>"
      ],
      "text/plain": [
       "   IDENTIFIANT_FISCAL  IDENTIFIANT_COMMUN_ENTREPRISE RC_unique  \\\n",
       "0          25225478.0                   2.073931e+12   0000_NA   \n",
       "1          73662580.0                   1.164771e+12  18172_NA   \n",
       "2          78000180.0                   1.848616e+12   3986_NA   \n",
       "3          77635319.0                   2.133845e+12   7816_66   \n",
       "4          40259590.0                   2.132185e+12  17570_NA   \n",
       "\n",
       "  NUMERO_DU_REGISTRE_DU_COMMERCE  CODE_CENTRE_REGISTRE_COMMERCE  \\\n",
       "0                           0000                            NaN   \n",
       "1                          18172                            NaN   \n",
       "2                           3986                            NaN   \n",
       "3                           7816                           66.0   \n",
       "4                          17570                            NaN   \n",
       "\n",
       "   NUMERO_DE_LA_CNSS NOM_OU_RAISON_SOCIALE  \\\n",
       "0          1000101.0            TARBI MINA   \n",
       "1          1000125.0          TOUILE AHMED   \n",
       "2          1000199.0  OUTADRART  LAHOUCINE   \n",
       "3          1000214.0         MAHRAJ HASSAN   \n",
       "4          1000238.0          AMZIL  AHMED   \n",
       "\n",
       "                                ADRESSE  CODE_ANNEE  \\\n",
       "0  N2 BAB ZORGANE 1 ER ETAGE IMM CHERIF        2019   \n",
       "1      DOUAR KASBA  LAMHADI EL GUERDANE        2019   \n",
       "2    SOUK TNINE TAFINGOULT OULAD BERHIL        2019   \n",
       "3       KISSARIAT AL MANIRA JNANE JAMAA        2019   \n",
       "4     BLOC B N 56 HAY ASSALAM AIT IAAZA        2019   \n",
       "\n",
       "                       ID_TECHNIQUE  ... Nombre_employés_12_2019  Tranches_ca  \\\n",
       "0  0a2c184fbfdd84ba517e4c080199949e  ...                     3.0          NaN   \n",
       "1  a91f2e3831615918b1716135b1b7140e  ...                     1.0          NaN   \n",
       "2  51e1ed44dbd3e5bbd07f3ee7ff765b0f  ...                     1.0          NaN   \n",
       "3  f33bfe2dd61905596bf73def430cbc8b  ...                     NaN      ]0 , 1]   \n",
       "4  28e5e3012f5630820f4d6cae91e2c62c  ...                     1.0          NaN   \n",
       "\n",
       "    LIB_REGION  Activité  Tranches_CA  \\\n",
       "0  Souss-Massa      8622          NaN   \n",
       "1  Souss-Massa      3314          NaN   \n",
       "2  Souss-Massa      4729          NaN   \n",
       "3  Souss-Massa      4778      ]0 , 1]   \n",
       "4  Souss-Massa      3250          NaN   \n",
       "\n",
       "                                     Libellé Section       REGION  \\\n",
       "0                    SANTÉ HUMAINE ET ACTION SOCIALE  Souss-Massa   \n",
       "1                           INDUSTRIE MANUFACTURIÈRE  Souss-Massa   \n",
       "2  COMMERCE ; RÉPARATION D'AUTOMOBILES ET DE MOTO...  Souss-Massa   \n",
       "3  COMMERCE ; RÉPARATION D'AUTOMOBILES ET DE MOTO...  Souss-Massa   \n",
       "4                           INDUSTRIE MANUFACTURIÈRE  Souss-Massa   \n",
       "\n",
       "   Tranches_CA_18 Tranches_CA_17  tranche_17_18_19  \n",
       "0         ]0 , 1]            NaN           ]0 , 1]  \n",
       "1             NaN        CA NULL           CA NULL  \n",
       "2         ]1 , 3]            NaN           ]1 , 3]  \n",
       "3             NaN        ]0 , 1]           ]0 , 1]  \n",
       "4             NaN        ]0 , 1]           ]0 , 1]  \n",
       "\n",
       "[5 rows x 86 columns]"
      ]
     },
     "execution_count": 85,
     "metadata": {},
     "output_type": "execute_result"
    }
   ],
   "source": [
    "pp_19_stock.head()"
   ]
  },
  {
   "cell_type": "code",
   "execution_count": 107,
   "metadata": {
    "ExecuteTime": {
     "end_time": "2022-02-22T11:21:00.075301Z",
     "start_time": "2022-02-22T11:21:00.072312Z"
    }
   },
   "outputs": [
    {
     "data": {
      "text/plain": [
       "(143305, 87)"
      ]
     },
     "execution_count": 107,
     "metadata": {},
     "output_type": "execute_result"
    }
   ],
   "source": [
    "pp_19_stock.shape"
   ]
  },
  {
   "cell_type": "code",
   "execution_count": 157,
   "metadata": {
    "ExecuteTime": {
     "end_time": "2022-02-22T16:57:45.696737Z",
     "start_time": "2022-02-22T16:57:45.672831Z"
    }
   },
   "outputs": [
    {
     "data": {
      "text/plain": [
       "-512"
      ]
     },
     "execution_count": 157,
     "metadata": {},
     "output_type": "execute_result"
    }
   ],
   "source": [
    "142793-143305"
   ]
  },
  {
   "cell_type": "code",
   "execution_count": 108,
   "metadata": {
    "ExecuteTime": {
     "end_time": "2022-02-22T11:21:10.413568Z",
     "start_time": "2022-02-22T11:21:10.396568Z"
    }
   },
   "outputs": [],
   "source": [
    "#pp_19_stock['name']=pp_19_stock['NOM_OU_RAISON_SOCIALE'].apply(lambda x:x.str.replace('’','').lower().strip())"
   ]
  },
  {
   "cell_type": "code",
   "execution_count": 114,
   "metadata": {
    "ExecuteTime": {
     "end_time": "2022-02-22T13:20:18.043624Z",
     "start_time": "2022-02-22T13:20:17.994971Z"
    }
   },
   "outputs": [],
   "source": [
    "pp_19_stock['NOM_OU_RAISON_SOCIALE']=pp_19_stock['NOM_OU_RAISON_SOCIALE'].replace(np.nan,'Non renseignée')"
   ]
  },
  {
   "cell_type": "code",
   "execution_count": 115,
   "metadata": {
    "ExecuteTime": {
     "end_time": "2022-02-22T13:20:19.350717Z",
     "start_time": "2022-02-22T13:20:19.325238Z"
    }
   },
   "outputs": [],
   "source": [
    "import unidecode"
   ]
  },
  {
   "cell_type": "code",
   "execution_count": 116,
   "metadata": {
    "ExecuteTime": {
     "end_time": "2022-02-22T13:20:20.010465Z",
     "start_time": "2022-02-22T13:20:20.005323Z"
    }
   },
   "outputs": [],
   "source": [
    "#for ind in pp_19_stock['NOM_OU_RAISON_SOCIALE']:\n",
    "   # try:\n",
    "     #   print(int(ind))\n",
    "    #except:\n",
    "        \n",
    "       # pp_19_stock['name']=pp_19_stock['NOM_OU_RAISON_SOCIALE'].replace(ind,unidecode.unidecode(ind))\n",
    "        \n",
    "    \n",
    "    \n"
   ]
  },
  {
   "cell_type": "code",
   "execution_count": 117,
   "metadata": {
    "ExecuteTime": {
     "end_time": "2022-02-22T13:20:20.248779Z",
     "start_time": "2022-02-22T13:20:20.215469Z"
    }
   },
   "outputs": [],
   "source": [
    "list_noms=set(pp_19_stock['NOM_OU_RAISON_SOCIALE'].to_list())"
   ]
  },
  {
   "cell_type": "code",
   "execution_count": 118,
   "metadata": {
    "ExecuteTime": {
     "end_time": "2022-02-22T13:20:20.784984Z",
     "start_time": "2022-02-22T13:20:20.585228Z"
    }
   },
   "outputs": [
    {
     "name": "stdout",
     "output_type": "stream",
     "text": [
      "136795\n",
      "1\n"
     ]
    }
   ],
   "source": [
    "list_prenoms=[]\n",
    "list_siege_sociale=[]\n",
    "for i in list_noms:\n",
    "    try :\n",
    "        list_siege_sociale.append(int(i))     \n",
    "    except:\n",
    "        list_prenoms.append(i)\n",
    "print(len(list_prenoms))\n",
    "print(len(list_siege_sociale))"
   ]
  },
  {
   "cell_type": "code",
   "execution_count": 119,
   "metadata": {
    "ExecuteTime": {
     "end_time": "2022-02-22T13:20:20.810999Z",
     "start_time": "2022-02-22T13:20:20.786903Z"
    }
   },
   "outputs": [
    {
     "data": {
      "text/plain": [
       "['KHMIRA',\n",
       " 'CHATO HOCIN',\n",
       " 'GUANOUNI MUSTAPHA',\n",
       " 'ABOUZIDANE MOHAMMED',\n",
       " 'ZAIDANE ABDERRAZZAK',\n",
       " 'MOUTAOUKIL BOUJEMEA',\n",
       " 'GASSA BADR',\n",
       " 'TAKLANI ABDELLATIF PP',\n",
       " 'MR  SAHA MOHAMMED',\n",
       " 'MLLE ALAOUI LALLA BOUCHRA',\n",
       " 'BIDA ALI',\n",
       " 'REDA FATHMI MOHAMED',\n",
       " 'AREQTI ABDELLAH',\n",
       " 'EL MOUTAOUKIL LAHCEN',\n",
       " 'HOMMANY REDOUANE',\n",
       " 'EL KANDOUSSI  LOUBNA',\n",
       " 'FARHAN ABDELLATIF',\n",
       " 'EL YAZRI ABDELLATIF',\n",
       " 'BINIZ ALI',\n",
       " 'LAMARTI LARBI',\n",
       " 'OFQUIR SAID',\n",
       " 'SBIRI ALAA',\n",
       " 'MR KTIRI MOHAMED',\n",
       " 'HERCULES-III',\n",
       " 'MESROUR RACHID',\n",
       " 'CHOUAIBI JAMAL EDDINE',\n",
       " 'SALMOUN AHMED',\n",
       " 'EL ABRARI JAOUHARI SIDI JAMAL',\n",
       " 'HIJJA 4',\n",
       " 'EL FANNIRI ABDELKADER',\n",
       " 'DARIF ALI',\n",
       " 'AMERNI MOHAMED',\n",
       " 'BOUDYAMAN ABDELALI',\n",
       " 'ZAALOUK SAID',\n",
       " 'OUBERKOUCH BOUBKER',\n",
       " 'MARHABA DEUX',\n",
       " 'CHIBANE EL HOUSSAINE',\n",
       " 'BOUAZZAH SAIDA  CAFE PARISTA',\n",
       " 'DARMOUCH AMINA',\n",
       " 'MR ADERGHAL LAHOUCINE',\n",
       " 'DRIHEM AZIZ',\n",
       " 'LAHRECH SONIA',\n",
       " 'AMANOUZ AHMED',\n",
       " 'NASSIRI JAMAL',\n",
       " 'AZOUR ABDELAZIZ',\n",
       " 'EL HAJOUI GHZIEL SAMIRA',\n",
       " 'BEN DAIF BOUSSELHAM',\n",
       " 'EL KASSIBI MALIKA',\n",
       " 'TAROUMA 47',\n",
       " 'TAOUFIK CHARAF',\n",
       " 'HRIMECH AHMED',\n",
       " 'AMOUSSI HAMID',\n",
       " 'BOYAALA CHAIB',\n",
       " 'BENNANI KHIR ABDELFATAH',\n",
       " 'HILALI NADIA',\n",
       " 'ACHBANI ABDFELKARIM',\n",
       " 'EL ANDALOUSSI AHMED',\n",
       " 'ALAOUI AHMED MOHAMED',\n",
       " 'ASSOULI AHMED',\n",
       " 'DOUKKOUK RACHID',\n",
       " 'LAILA 15',\n",
       " 'TAFOUKT 6',\n",
       " 'BELHOUSSE MOHAMED',\n",
       " 'KJI RACHID',\n",
       " 'AIT LHAJ ATMANE',\n",
       " 'DR SEKKAT ASMAA PP',\n",
       " 'DEROUI KHADIJA',\n",
       " 'BAYA SAMIRA',\n",
       " 'OUIDAN YASSINE',\n",
       " 'TOUZANI OUADIE',\n",
       " 'BAHOSSE ZAKIYA',\n",
       " 'EL HAOUDI ABDESELAM',\n",
       " 'MR ABID ABDELLAH',\n",
       " 'ADRIF TAHR',\n",
       " 'MOULAKA RAHMA',\n",
       " 'TAFENGOULT',\n",
       " 'BINAKDANE MHAMED',\n",
       " 'NASSER ABDELKADER',\n",
       " 'SATRA',\n",
       " 'BOUMDER BRAHIM',\n",
       " 'BAH SAID',\n",
       " 'EL MAKHLOUFI MOHAMMED',\n",
       " 'EL HAYMAR EL HASSANE',\n",
       " 'MR HACHIM ABDELTEF',\n",
       " 'DKIOUAK MOHAMED',\n",
       " 'HERITIERS BOUSLIKHANE ABDERRAHMANE',\n",
       " 'AMRAS SALAH',\n",
       " 'EL MENANI MOHAMED',\n",
       " 'MOHAMED HADDAD',\n",
       " 'CHAABAN EL HOUARI',\n",
       " 'BEN HAMOU ABDESLAM',\n",
       " 'ETS MERROUN AHMED',\n",
       " 'HABBARI BACHIR',\n",
       " 'MR ZEKRI  ZUHAIR',\n",
       " 'EL MERGANI ABDESSLAM',\n",
       " 'GHAITI ABDELLATIF ET GHAITI AHMED',\n",
       " 'CHIMA II',\n",
       " 'ABSA DRISS',\n",
       " 'EL MASBAHI SANA PHARMACIE RAYHANE',\n",
       " 'OUIHI AHMED',\n",
       " 'AIT LARBI LHOUSSAINE',\n",
       " 'BELHAJ ABDESSALAM',\n",
       " 'LAMFERRAGE EL HASSAN',\n",
       " 'BAROUTI ABDELALI',\n",
       " 'BATANE MOMAMMED',\n",
       " 'KADIM RACHID',\n",
       " 'LHASSAR EL MOSTAFA',\n",
       " 'MEKANE ALI',\n",
       " 'BOUFARRAS DRISS',\n",
       " \"FENNANE M'HAMED\",\n",
       " 'OKKELI MOHAMED',\n",
       " 'SLAOUI YOUSSEF',\n",
       " 'DR KADDOURI BOUBKEUR',\n",
       " 'ESSNANI NABIL',\n",
       " 'DR AZIZE FATIHA',\n",
       " 'PHARMACIE ALMASJID',\n",
       " 'RHIATE HICHAM',\n",
       " 'ES-SEBA ABDESLAM',\n",
       " 'EL AOUNI BRAHIM',\n",
       " 'FATTOUMA 5',\n",
       " 'SOUFI ABDELLAH',\n",
       " 'ABDOUH AHMED',\n",
       " 'TAZOUMHANTE II',\n",
       " 'TEMSAMANI MKADEM YASSIN',\n",
       " 'OUTAROUCHT MOHAMED',\n",
       " 'BENZIT HASSNAA',\n",
       " 'ANEJAR MOHAMED',\n",
       " 'MOUHSSINE ZIANI',\n",
       " 'BOUASAID AHMED BEN MBAREK',\n",
       " 'BUQUER ABDELKADER',\n",
       " 'NAKOUBI MOHAMED',\n",
       " 'DEHNANI NAOUAL',\n",
       " 'CHAHTIT MOHAMEDET RIFIFATNA',\n",
       " 'GHANNAM DRISS',\n",
       " 'HAMIDI YASSINE',\n",
       " 'BENHIDA OMAR',\n",
       " 'EZZGHARI AHMED',\n",
       " 'BENCHEKH BOUJEMAA',\n",
       " 'AKASBI TAIB',\n",
       " 'AHIDAR MIMOUN',\n",
       " 'SAADI ABDELLALI',\n",
       " 'BAOU AICHA',\n",
       " 'IBRAHIMI YOUSSEF',\n",
       " 'EL KALANI ABDERRAHIM',\n",
       " 'SAMIR ABDERRAHIM',\n",
       " 'BALADI RACHID',\n",
       " 'MME BENLAMMOU AMINA',\n",
       " 'TOUIL EL HASSAN',\n",
       " 'IRAKI MORAD',\n",
       " 'MME ALAOUI BELGHITI NADA',\n",
       " 'BOULAICH HAJRAOUI AMED',\n",
       " 'AHSSAINI MIMOUN',\n",
       " 'SALHI JAMAL',\n",
       " 'AADOUCH MUSTAPHA',\n",
       " 'EL GHANMI YOUSSEF',\n",
       " 'CHERKAOUI SALAH',\n",
       " 'DAMOUME HICHAM',\n",
       " 'DR EL YAKOUBI MOHAMED EL AMIN',\n",
       " 'EL HASSAN ATLAGH',\n",
       " 'EL MOUNIBE ALI',\n",
       " 'BAHNINI OMAR',\n",
       " 'DOUKALI SAADIA ET EL IBRAHIMI RACHID',\n",
       " 'HASKOURI IMAD',\n",
       " 'KHAROUICHE HASSAN',\n",
       " 'EL MOUMNI ABDELILAH',\n",
       " 'HILAL ABDELOUAFI',\n",
       " 'ATTID ANOUAR',\n",
       " 'HAMID  III',\n",
       " 'GUERBAZ BADR',\n",
       " 'ROCHDI KHADIJA',\n",
       " 'BOUZAG MINA',\n",
       " 'ZEMMOURI MOHAMED B MEKKI',\n",
       " 'SAMET MOHAMED',\n",
       " 'DR BENCHEKROUN SAKINA',\n",
       " 'MR EL GHANDOUR ABDELHADI',\n",
       " 'FATIMA ZOHRA NIANE',\n",
       " 'SADRA II',\n",
       " 'BEN HAMMADI MOHAMED',\n",
       " 'IMASSINEN',\n",
       " 'BOULKOUT ALI',\n",
       " 'BERISSOUL MY AHMED & CTRS',\n",
       " 'NAIT TAMESDNA AHMED',\n",
       " 'N JIMI BOUAZZA',\n",
       " 'EL YOUSSEFI MOHAMMED',\n",
       " 'DAHBI DALILA',\n",
       " 'EL- GAZZAR DRISS',\n",
       " 'LASSIL MOHAMMED',\n",
       " 'BELDI NADIL',\n",
       " 'MR EL FAQIR FAYSSALE',\n",
       " 'EDKHAILI MILOUD',\n",
       " 'ALAOUI ISMAILI IMAD',\n",
       " 'CHGUER ZOHRA',\n",
       " 'KANZA 4',\n",
       " 'MEHZOUM ABDELMJID',\n",
       " 'ESSABER  ABDELAZIZ',\n",
       " 'MR EL OUALLAJI ABDERRAZAK',\n",
       " 'EL KABBAJ SARRA',\n",
       " 'EL MOUMEN  MAHJOUBA',\n",
       " 'DARAAOUI TAWFIK',\n",
       " 'MR RAFIK HASSAN P PH',\n",
       " 'AMINE 5',\n",
       " 'MME OUDGHIRI BEN OTTMANE IMANE',\n",
       " 'MOUSTAGHFIR MBAREK',\n",
       " 'EL HAFID RACHIDA',\n",
       " 'EL FERSSAOUI MOHAMED',\n",
       " 'EDDHIMA MOSTAFA',\n",
       " 'LAHLOUMI MOHAMED',\n",
       " 'CHARKAOUI ABDELHAK ET IRAN HASSAN',\n",
       " 'ZIZZI   RABIE',\n",
       " 'ENANAI AMINA',\n",
       " 'NEJNAOUI MOHAMED',\n",
       " 'BSIBSI OMAR',\n",
       " 'BOUZAIDI CHEIKHI AZIZA',\n",
       " 'LYSENKO OLENA',\n",
       " 'DR AZZEDDINE HOUSSAINI',\n",
       " 'IRIGH LAHCEN',\n",
       " 'BOUYESSEF MOHAMED',\n",
       " 'DADA OUALID',\n",
       " 'IGAOUI MOHAMMAD',\n",
       " 'EL KESSIRI ABDELILLAH',\n",
       " 'MOUTANA ABDELKADER',\n",
       " 'LOUDA MOHAMMED',\n",
       " 'EL HABLI CHARAF',\n",
       " 'SANDAOUI MOHAMED',\n",
       " 'SARRA',\n",
       " 'KTAIBI ABDERRAHIM',\n",
       " 'LAHLOU  HICHAM',\n",
       " 'MME CHEBTIT FATIMA',\n",
       " 'HICHAM  TAALABI',\n",
       " 'AZOUAGH KHAMIS',\n",
       " 'MASKI AMINA RAWD MAMAN AMINA',\n",
       " 'EL MHARZI MOHAMED',\n",
       " 'ALMI RACHID',\n",
       " 'AMIN EL OUANSAIDI ET BILAL',\n",
       " 'BOUZIANE EL MILOUDI',\n",
       " 'MR MELLOUL AHMED',\n",
       " 'MAAROUF FATIMA',\n",
       " 'RGUIG ASSAKALI THAMI',\n",
       " 'MR NOUSS BEN LAHCEN',\n",
       " \"EL ATTAR M'HAMED\",\n",
       " 'HICHAM ES SLIMANI ET FOUZIA DKHISSI',\n",
       " 'DR BADRE WADGHIRI',\n",
       " 'HASSAN YAHYA',\n",
       " 'MR ENNOUALI AHMED',\n",
       " \"EL OUAZGHARI M'HAMED\",\n",
       " 'EL BOURKADI ABDELKADER',\n",
       " 'EL YAALAOUI MOHAMMED',\n",
       " 'EL BOUKFAOUI MY TAIB',\n",
       " 'KIFAHI AHMED',\n",
       " 'SOUILM BOUJEMAA',\n",
       " 'MAHFOUD ABIDAR',\n",
       " 'ET THOLTHY MOHAMED',\n",
       " 'DOUZIT MUSTAPHA',\n",
       " 'MR RAMDANI LARBI',\n",
       " 'SAHIB AHMED',\n",
       " 'OUDADA RACHID',\n",
       " 'EL MANSSOUR KHALID',\n",
       " 'TAGHDA IV',\n",
       " 'DR FOUISSI ABDERRAHIM',\n",
       " 'ALI CHRAIBI',\n",
       " 'AMAHLOUD MOHAMED',\n",
       " 'AIT OUHA RACHID',\n",
       " 'BOUTAIBI ABDELAZIZ',\n",
       " 'ESSADDIQI ABDERRAZAQ',\n",
       " 'GHARBI OMAR',\n",
       " 'AZAHAF AHMED ET MOHAMED',\n",
       " 'MR CHENNATY SAID',\n",
       " 'DAHRY  REDOUANE',\n",
       " 'RAISS ZINEB',\n",
       " 'EL GHALI ABDERRAHIM',\n",
       " 'EL GARNI MOUHCINE',\n",
       " 'BOUNAKHLA AZZOUZ',\n",
       " 'BOUAYAD SAAD',\n",
       " 'MOHSSINE MARIA',\n",
       " 'ZGHARI LAYACHI',\n",
       " 'YABOU ABDERRAHMAN',\n",
       " 'MR RHADFANE MOHAMED',\n",
       " 'SEFAH MOHAMED',\n",
       " 'MR LALAMA ABDELLAH',\n",
       " 'AZIZ RAOUAH',\n",
       " 'AIT TORJDALT MED',\n",
       " 'DAHMANI AHMED',\n",
       " 'EL MEJDOUBI MOHAMED',\n",
       " 'KHODJI SAIDA',\n",
       " 'LACHGAR ABDELAZIZ',\n",
       " 'ENNEIMY BOUAZZA',\n",
       " 'SOUAD AFIF',\n",
       " 'AOUTAH MOHAMED',\n",
       " 'AKRACH CHAHID',\n",
       " 'EL HSAIBI EL BACHIR',\n",
       " 'OULAHRIR MUSTAPHA',\n",
       " 'EL HACHIMI MOUNIR',\n",
       " 'YAQINE MOHAMMED',\n",
       " 'JELLOUL SAID',\n",
       " 'IDIR RKIA',\n",
       " 'KAFIL MOHAMMED',\n",
       " 'EL HANSALI ABDERRAHIM',\n",
       " 'ABOUSEIR AHMED',\n",
       " 'TAGUAROUNT ABDELMALEK',\n",
       " 'NAIT SAID MED',\n",
       " 'MOUSSAOUI JAMAL',\n",
       " 'EL ASSALIA',\n",
       " 'ABOU EL HOUDA  FATNA',\n",
       " 'ZRAIDI ABDELLAH',\n",
       " 'BERRADA MARYAM ET BERRADA AMINE',\n",
       " 'MOUZAKKI MOHAMED',\n",
       " 'BENZEKRI   ANAS',\n",
       " 'ALLAOUI AHMED',\n",
       " 'EL GHAZI BOUCHAIB',\n",
       " 'CHATER MED',\n",
       " 'OUHAINE ALI ET NAIT ADDI MOHAMED',\n",
       " 'BAKHALLOU SAID',\n",
       " 'ARMAS MUSTAPHA',\n",
       " 'COUDER FRANCOIS PAUL LUC MARIE',\n",
       " 'OULIDI OUSSAMA',\n",
       " 'KAFFOU SALAH EDDINE',\n",
       " 'CHIGUER HAKIM',\n",
       " 'LAMHARZI MOHAMMED',\n",
       " 'BOUDRA IJLAL',\n",
       " 'BENDAOUD CHERRAKI',\n",
       " 'AARAB ABDELKBIR',\n",
       " 'DR EL HADRI MOHAMED',\n",
       " 'BOULALE ZHOR',\n",
       " 'BOUMOUH MOHAMED',\n",
       " 'MIMOUNI ABDELLAH',\n",
       " 'MAROUANE RACHID',\n",
       " 'BOUJARNIJA ZOUHAIR',\n",
       " 'AARABOUAL OTMAN',\n",
       " 'AGMIR ISMAIL',\n",
       " 'BELAAROUSSI MOSTAFA',\n",
       " 'ELISSATI ABDELHALIM',\n",
       " 'HAMZA  IIII',\n",
       " 'BERRADA EL AZIZI MOHAMED NABIL',\n",
       " 'TAOUBA LAILA',\n",
       " 'DR CASALS CELINE JEANNE MARIE',\n",
       " 'ABDEDAIM RACHID',\n",
       " 'AGHATTAS EL KAMMAS IMAN',\n",
       " 'ELOUAGHLIDI ZOUHIR',\n",
       " 'DAMOUN MRIAM',\n",
       " 'LAFTAINI ABDELGHANI',\n",
       " 'SEQQAT DAKHAMASAMIRA PP',\n",
       " 'EL KALLACHI JAMAL',\n",
       " 'MHAMED FATHALI',\n",
       " 'DR EL HMAIDI M HAMED',\n",
       " 'OUARDA V',\n",
       " 'RADOUANE FATNA%EPOUSE TAHRI LARBI',\n",
       " 'AISSOUNI ATIKA',\n",
       " 'EL ARBITI FARID',\n",
       " 'AMRAOUI BOUCHAIB',\n",
       " 'MR CHAKROUNE AHMED',\n",
       " 'EZZIATE SAMIR',\n",
       " 'HADI ABDELLAH',\n",
       " 'MAZIANI ALI',\n",
       " 'ZITAN AHMED',\n",
       " 'DAMGHI MOHAMMED',\n",
       " 'MAHFOUD ABDELLAH',\n",
       " 'EL GHORCH MOHAMED',\n",
       " 'OUAHOUAH HADDOU',\n",
       " 'MR BEKHASS  MOHAMMED',\n",
       " 'RABEH MOHAMMED',\n",
       " 'HAMAMA AHMED AHMED',\n",
       " 'AMAJJOUD MOHAMED',\n",
       " 'ADOUI MOHAMED',\n",
       " 'MTRE FREHOU MOHAMED',\n",
       " 'ABDOU 3',\n",
       " 'SOUADI EJJI-LLALI',\n",
       " 'JDAYAA RABIA',\n",
       " 'YACOUBI KHBIZA ABDELHAK',\n",
       " 'BOUZAROUTA MOHAMMED',\n",
       " 'TAZIT MOHAMED',\n",
       " 'BAID ABDENASER',\n",
       " 'AZEGAGH NADIA',\n",
       " 'EL HASNAOUI ABDELLAH',\n",
       " 'HAMMAL  EL MOSTAFA',\n",
       " 'DR HADJ FOUAD BERDAI',\n",
       " 'BENNIS NOUZHA',\n",
       " 'DR HAIKEL YOUSSEF',\n",
       " 'LAKBOURI ABDELMAJID',\n",
       " 'MR SAHEL MOHAMED',\n",
       " 'BENTAHA BENAMAR',\n",
       " 'MR BOKASBA AADEL',\n",
       " 'Dr HOUSSAM OUAZZANI LALLA NAIMA',\n",
       " 'AAID MOHAMED',\n",
       " 'BENSAFIR BRAHIM',\n",
       " 'EL BAKKARI ABDELALI',\n",
       " 'TAHIRI FATIMA',\n",
       " 'TLAITMAST OZEKAR',\n",
       " 'BENKHADRA RAID',\n",
       " 'TAIBI DAHANI',\n",
       " 'SARIRA ALI',\n",
       " 'ADNAN NAIT ORJDAL',\n",
       " 'BEN ABDERRAHMAN KHADIJA',\n",
       " 'EL MANSOURY HASSAN',\n",
       " 'DOUNIT HAJ HASSAN',\n",
       " 'BELKACEM RACHID',\n",
       " 'REZKI ABDELMAJID ABDESSAMAD, NABIL',\n",
       " 'ALAOUI BELGHITI AHMED',\n",
       " 'SAYYAD OUSSAMA',\n",
       " 'LRHIATI AHMED',\n",
       " 'NAJIM EL MAHDI',\n",
       " 'JIB EL AZZE',\n",
       " 'DARKAOUI AHMIDA',\n",
       " 'AFILAL MOHAMED EL AMIN',\n",
       " 'EL BOUKHARI ABDESLAM ET BENMIRA YOUS',\n",
       " 'DR BENSLIMANE ABDERRAHIM',\n",
       " 'MR MERCHICH MOHAMED',\n",
       " 'AGNAOU ZAINA',\n",
       " 'RACHIDA 4',\n",
       " 'HILALI SOUAD',\n",
       " 'MR AMATTACH MILOUD',\n",
       " 'ABDENAJIH LHCEN',\n",
       " 'AKDIDACH MHAMED',\n",
       " 'MR SAMI SOAID',\n",
       " 'MOURADI MOHAMED',\n",
       " 'DR BADYINE SOUFIYAN',\n",
       " 'MR BENSAIDI MOHAMMED',\n",
       " 'EL KARKRAOUI ABDERRAHMAN',\n",
       " 'HADJ KACEM MOHAMMED',\n",
       " 'MR AIT KERROUM LARBI',\n",
       " 'AAMAROUCHI MIMOUN',\n",
       " 'SOUSSI KASSABI YOUSSEF',\n",
       " 'OULED AHMED ABDELMALEK',\n",
       " 'AMINA OUBAIDALLAH',\n",
       " 'IDRISSI FATH MY HASSAN',\n",
       " 'JAOUAD EL MAIMOUNI',\n",
       " 'HADDANE MED',\n",
       " 'ABOU LAMER ALLAL',\n",
       " 'MOUIDA II',\n",
       " 'MR BOURASS  ABDELKBIR',\n",
       " 'AAZZAB RACHID',\n",
       " 'EL MAHOUN MOULAY LAHCEN',\n",
       " 'MR RHILA EL MATI CAFE EL FATH',\n",
       " 'EL AZHARI  SARA',\n",
       " 'HACHMI BEN AHMED',\n",
       " 'ESSADEQ MOHAMED',\n",
       " 'KHROUBBA HAFID',\n",
       " 'JAHA MOHAMED',\n",
       " 'SMILI SOUAD',\n",
       " 'MR MOUSSAOUI MOHAMED',\n",
       " 'ABOUKAL MOHAMED',\n",
       " 'MAITRE LAHLOU ABDELKADER',\n",
       " 'KASBI BOUCHAIB',\n",
       " 'TALLIH ABDELALI',\n",
       " 'LAAOUICHI FATHALLAH',\n",
       " 'DR CHEKKORI ABDALLAH',\n",
       " 'EL HIRM BRAHIM',\n",
       " 'OUBRAIM ACHRAF',\n",
       " 'DR LOUKTAM AHMED',\n",
       " 'CHAHBI MUSTAPHA',\n",
       " 'BAMAAROUF MHAMED',\n",
       " 'OUJAA BRIK',\n",
       " 'MEJDOUBI JAMAL J D CORPORATION',\n",
       " 'OMARI ZIZ',\n",
       " 'RGAIBI MOHAMMED',\n",
       " 'ABDERRADA MOHAMED',\n",
       " 'SORAYA TAMRI ET AMIRA RONDA',\n",
       " 'CHEL_LOUBI MOHAMED',\n",
       " 'BENABAD ABDESSADEQ',\n",
       " 'YACOUBI ABDELAZIZ',\n",
       " 'BELASRI HAMID',\n",
       " 'KOUMIZA MOHAMMED SALAH',\n",
       " 'MR BEKKAOUI AHMED',\n",
       " 'AICHA 3 3-5301',\n",
       " 'BENAZZOUZ MED NAJIB',\n",
       " 'NAJIB BENCHEKROUN',\n",
       " 'BENJEL BRAHIM',\n",
       " 'HANINE TARIK',\n",
       " 'ENNAKI',\n",
       " 'EL ANSSARI MOHAMED',\n",
       " 'ESSAIH RACHIDA',\n",
       " 'EL ABASSI KELTOUMA',\n",
       " 'BJAGHOU EL HOUSSAINE',\n",
       " 'BENLARABI SAAD',\n",
       " 'ZAHRAOUI ABDELALI',\n",
       " 'BENGHDIFA NOUREDDINE',\n",
       " 'NOUINI ABDELKRIM',\n",
       " 'LASRIFI SOUAAD',\n",
       " 'HRAOUI HAMID',\n",
       " 'BEN MAYMOUN KHALID',\n",
       " 'BELHASSAN LAKBIRA',\n",
       " 'MR BEN MENGASH MESHAL',\n",
       " 'HACHIMI EL HASSAN',\n",
       " 'OUZZINE ABDELAZIZ',\n",
       " 'BUAMAR HAMADI',\n",
       " 'ABBOUDA SAFIA',\n",
       " 'EL HOUTA ABDERRAHMAN',\n",
       " 'IBRAHIMI ELHOSSAIN',\n",
       " 'ISMAMATNE MY DRISS',\n",
       " 'BEN HMIDOU ZIANI HICHAM',\n",
       " 'ZERGOUN ABDESLAM',\n",
       " 'SIDI ABDALLAH',\n",
       " 'NAJIM ABDERRAHIM',\n",
       " 'JAMILA EL HEMAM',\n",
       " 'EL GHORFI MOUNA',\n",
       " 'CHAABANE LHOU',\n",
       " 'AIT YAHYA JAOUAD',\n",
       " 'HAFID RQIA',\n",
       " 'IDRISSI JILALI P PH',\n",
       " 'NMOU MALIKA',\n",
       " 'ESSAFI ABDELKADER',\n",
       " 'EL OMARI ALI',\n",
       " 'ENNIOUA ABDELLAH ET DAHIM ALI',\n",
       " 'IZENKAD ZAINA PP',\n",
       " 'DRIOUCH LAHCEN',\n",
       " 'BELKACEM ABDERRAHMANE',\n",
       " 'RIMAH HICHAM',\n",
       " 'AIT ABED MOHAMED',\n",
       " 'HADJ FIKRI',\n",
       " 'M SRARRY BOUJEMAA',\n",
       " 'RAMZI NAJIB',\n",
       " 'MAROUANE MSIK',\n",
       " 'DKHISSI SEDDIK',\n",
       " 'CHEBBAK ABDELLAH',\n",
       " 'EL MASLOUHI MERYEM',\n",
       " 'BOUJEMLA  OMAR',\n",
       " 'HILLALI MOHAMMED',\n",
       " 'LAHNIOUI MED',\n",
       " 'OUSRI ABDERRAHIM',\n",
       " 'MR ROUSSAFI BRAHIM',\n",
       " 'OUCHAGOUR M HAMED',\n",
       " 'DR ADJAR ABDALLAH',\n",
       " 'RZIN   ABDELKADER',\n",
       " 'GRIANI HASSANE',\n",
       " 'EL MOUDDEN AHMED',\n",
       " 'MR IDIZI ALI',\n",
       " 'IRAMDANE ABDALLAH',\n",
       " 'ERRAMI HERITS PREST PAR MHAMED ERRAM',\n",
       " 'FAOUZI FATIMA ZAHRA',\n",
       " 'ZARIOH OMAR',\n",
       " 'BENSTITOUFATIMA',\n",
       " 'MR KHCHACH MOHAMMED',\n",
       " 'ESSINDALI ALI',\n",
       " 'ARHERBI FATIMA ZOHRA',\n",
       " 'DR MAALA KAOUTAR',\n",
       " 'AHMED SAIDI',\n",
       " 'EL-AKAD AZIZ',\n",
       " 'EL KADIRI AHMED',\n",
       " 'AMANOUANOU MINA',\n",
       " 'ELYOUSSFI AICHA',\n",
       " 'ACHICHI MOHAMMED',\n",
       " 'EL KAOUI ETTAHAR',\n",
       " 'KHALIF LAHCEN',\n",
       " 'EL GOURARI SAID',\n",
       " 'CHAFIK DOUIRI',\n",
       " 'NACHIT EL MOKHTAR',\n",
       " 'MAJDOUBI JAOUAD',\n",
       " 'EL ABDELLAOUI ABDELATIF',\n",
       " 'MR BENAMAR SAID',\n",
       " 'FEGROUCH ABDELGHANI',\n",
       " 'DOUCH BOUCHAIB',\n",
       " 'SAYARH MOHAMED',\n",
       " 'MME BENADERRAZIK ZAKIA',\n",
       " 'DR ZIRARI KHAIJA',\n",
       " 'LABROUFI ABDELMAJID',\n",
       " 'ADERRAB ALI',\n",
       " 'EL IDRISSI RKIA',\n",
       " 'SNIRI MOHAMED',\n",
       " 'EL AMRAOUI KARIM',\n",
       " 'MR MACHKOUK ABDELALI',\n",
       " 'MOATAZIL ABDELLATIF',\n",
       " 'PAPETERIE STAR NET LACHKAR KADDOUR',\n",
       " 'HAJJI III',\n",
       " 'RACHDI BRAHIM',\n",
       " 'DR EL ASSALI ABDELILAH',\n",
       " 'BAHIT FATIMA',\n",
       " 'MME EL MOUEDDEN KHADIJA',\n",
       " 'EL GUEDDARI HAMID',\n",
       " 'MOUTIK',\n",
       " 'EL ACHKAR SELLAM',\n",
       " 'MALLAK YOUSSEF',\n",
       " 'KAMAL YOUNIS',\n",
       " 'BENSAID LAHSEN',\n",
       " 'BAYYAY HAMMOUCH',\n",
       " 'ADELIE2',\n",
       " 'DERFOUFI CHARAF EDDINE',\n",
       " 'JERROUDI EL JILALI',\n",
       " 'BERDOUZI IKRAM',\n",
       " 'MARTOUB MOHAMED',\n",
       " 'DARDORY IBRAHIME',\n",
       " 'EL.KARFADI AWATIF',\n",
       " 'EL BADAOUY ABDELHAK',\n",
       " 'MME BENGHAZALA SOAD',\n",
       " 'EL AABED ADIL',\n",
       " 'BOUGRINE SAMIHA',\n",
       " 'LOUILI 2',\n",
       " 'TAJJIOU SAID',\n",
       " 'MR TOUIS SLIMANE',\n",
       " 'MR KHECHAI ALLAL',\n",
       " 'MR MANSOURI HADDA',\n",
       " 'DR OUSSERHIR ABDELILAH',\n",
       " 'ABABSA BELKACEM',\n",
       " 'MR JADALLI ABDERRAHIM',\n",
       " 'SERROUKH NAIMA',\n",
       " 'ABDELKABIR KARKOURI',\n",
       " 'EL BRRAH SALAH',\n",
       " 'EL HAMDI ALAOUI AMINE',\n",
       " 'AJARMOUNE HAJ OMAR',\n",
       " 'ROLLING JACQUES',\n",
       " 'CHEMI II',\n",
       " 'HRTS MOUMOU PAR  EL KHADIR MOUMOU',\n",
       " 'HARBI FATNA',\n",
       " 'EL BARBARI ABDELLAH',\n",
       " 'AMANZOU ABDELLATIF',\n",
       " 'ALWIFAQ II',\n",
       " 'EL BAJAOUI MIMOUN',\n",
       " 'LAKHAL EL MOKHTAR',\n",
       " 'LAMHAIFID MAHFOUD',\n",
       " 'ALAMI CHAMS MOHAMMED ALI',\n",
       " 'FANNAN OMAR',\n",
       " 'CHARA 4',\n",
       " 'BOUDRAIM AHMED',\n",
       " 'BENABOU MOHAMED',\n",
       " 'EL FANE LAMIAA',\n",
       " 'EL MUSTAPHA MRIDA',\n",
       " 'EL AMRAOUI ABDERRAHIM',\n",
       " 'ROUISSI NOURDDIN',\n",
       " 'HERITIERS AIT BOURHIM MOHAMED PAR AIT BOURHIM ALI',\n",
       " 'LAOULADI MOHAMMED',\n",
       " 'BOUKHORB OUADIE',\n",
       " 'AZEROUAL BRAHIM',\n",
       " 'JAY KORAICHI ABDELAHAD',\n",
       " 'SOUFIANE GHAILANE OMARI',\n",
       " 'HASSINI RACHID',\n",
       " 'MR ANOUCH L HOUCINE',\n",
       " 'MR EL KADDOURI  MOHAMED',\n",
       " 'MOUNTASSIR HANAA',\n",
       " 'RHAYOUZ RACHID',\n",
       " 'BAKAS SMAIL',\n",
       " 'BOUHAZZA AMINE',\n",
       " 'AL HADDAD MOHAMED BEN HASSAN',\n",
       " 'BENALI MOHAMED EL YAHYAOUI MUSTAPHA',\n",
       " 'SEDRATI M HAMED',\n",
       " 'SMIMA NAJAT',\n",
       " 'MIAD MOSTAFA',\n",
       " 'SMAINI ABDESSLAM',\n",
       " 'MR ABRARAY ALLAL',\n",
       " 'DAMIR AMAL',\n",
       " 'DR SAADANI BRAHIM PP',\n",
       " 'KHALFAOUI JAOUAD',\n",
       " 'AZHARI MOHAMED AMINE',\n",
       " 'NOUALI MOHAMED',\n",
       " 'YABI NAJWA',\n",
       " 'SARIM NOURIDDIN',\n",
       " 'CHADI MOHAMED',\n",
       " 'YAHYAOUI ABDELKARIM',\n",
       " 'NORA II',\n",
       " 'OUFARA SAID',\n",
       " 'EL KADILY ABDEAZIZ',\n",
       " 'SKALI HOUSSEINI MOUHCINE',\n",
       " 'EZZAHRAOUI MLOUD',\n",
       " 'FREJ ABDERRAHMAN',\n",
       " 'MAJMOU M HAMMED',\n",
       " 'BOUMGOUTI OMAR ET OTMAN',\n",
       " 'EL BAKRI AHMED',\n",
       " 'EL AKKAL ABDELKADER',\n",
       " 'HAY YUYI ABDESLAM',\n",
       " 'ROUGUI FATIHA',\n",
       " 'JALIL LATIFA',\n",
       " 'LAKLOUMI MOHAMED',\n",
       " 'OUSSALEH TAOUFIK',\n",
       " 'ALAOUI MHAMDI MOHAMED',\n",
       " 'MR WAAMER OMAR',\n",
       " 'EL BARAKA 8',\n",
       " 'MOUTII YOUNES',\n",
       " 'EL ACHI  MIMOUNE',\n",
       " 'TARIB BOUCHAIB',\n",
       " 'MR BOUJAZIM MOHAMED HMIDO',\n",
       " 'MR ABOU EL AZHAR MOHAMED',\n",
       " 'ABDELLAOUI ANDALOUSSI AHMED',\n",
       " 'AHROUCH IBRAHIM',\n",
       " 'MME EL ALAOUI LALLA NADIA',\n",
       " 'AMELLAH ISMAIL',\n",
       " 'AIT SIDI AHMED FATIMA',\n",
       " 'LQEZIE YOUSSEF',\n",
       " 'EL ALAMI MOUNTASSIR',\n",
       " 'DARKAOUI ABDELLAH',\n",
       " 'MR BERDAI SEDDIK',\n",
       " 'BOUMAALIF YOUSSEF',\n",
       " 'DR AMINE ABDELKADER',\n",
       " 'MOUNTASSIRA 3',\n",
       " 'FARAK OMAR',\n",
       " 'MAHJOUBI YOUSSEF',\n",
       " 'OUAANA A ALI',\n",
       " 'RMILI ABDERRAZAK',\n",
       " 'BARCOUSSI EL MUSTAPHA',\n",
       " 'BOUKHOUIT HLAL',\n",
       " 'ABDELKRIM RIFI',\n",
       " 'EL BOUKAABIA ABDELHAK',\n",
       " 'ZOUITA BELAID',\n",
       " 'SERGHINI AHMED',\n",
       " 'EL HARRAK EL MOKHTAR',\n",
       " 'BARHOUZE MOHAMED',\n",
       " 'AFTASSE II',\n",
       " 'MOURTADA ABDELLATIF',\n",
       " 'NAITLHO HASNAA',\n",
       " 'JOUAMI MILOUD',\n",
       " 'MME EL KDADRA SOUAD',\n",
       " 'IDOUCHI ABDELLAH',\n",
       " 'EL RHAZI AMINE',\n",
       " 'NEJDIOUI   MOHAMED',\n",
       " 'LABED LAID',\n",
       " 'AKSIME LARBI',\n",
       " 'DR KABLI FEISSEL',\n",
       " 'EL MALOULI DRISS',\n",
       " 'BAKIRI ADNANE',\n",
       " 'MR RACHID BOUABID',\n",
       " 'RHAFOUR SAID ET ABDELLAH',\n",
       " 'BELEMJID LAHOUCINE ABDELLAH ET MOHAM',\n",
       " 'EL MASRAR AHMED',\n",
       " 'EL BOUKKOUCHI KHALIL',\n",
       " 'AMENNAYE LAHOUCINE',\n",
       " 'AOULAD HMEDOU MOHAMED',\n",
       " 'MR SBAH AHMED',\n",
       " 'BAHATE MOHAMED',\n",
       " 'FARES A AHMED',\n",
       " 'BELABBES SAID',\n",
       " 'ABRACHE SAID',\n",
       " 'KRIMI  JAMAL',\n",
       " 'BOUA KOBENA SEKRE',\n",
       " 'AIT ECHIKH HASSAN',\n",
       " 'EL BOURGUI MED',\n",
       " 'BOUSHABI MOHAMMED',\n",
       " 'TENMOUD 3',\n",
       " 'SAAOUDI AYOUB',\n",
       " 'MURIEL  III',\n",
       " 'BOUHIRA ABDELATIF',\n",
       " 'LAGUNIDI CHAKIB',\n",
       " 'AIT OUSSAID BRAHIM',\n",
       " 'ETABLISSEMENT IMAM MALEK',\n",
       " 'DR ZEMROUR KHALID',\n",
       " 'RETTABI EL KBIR',\n",
       " 'DR RYADI  LHOUSSAINE',\n",
       " 'HALHOUL  MOHAMED',\n",
       " 'MR EL YAMANI TALAL',\n",
       " 'MAROUAN JAOUAD',\n",
       " 'LHACHMI NOR-ED-DINE',\n",
       " 'OUARSSAS BOUSSELHAM',\n",
       " 'MR BICHA HAJ AHMED ET ASSOCIES',\n",
       " 'MR EL YAHYAOUI SAID',\n",
       " 'CHAYATE LAHCEN CABINET LAHCEN CHAYAT',\n",
       " 'WASSOU LHOUSSINE',\n",
       " 'MR  NEJME LOTFI',\n",
       " 'AIT  HAMMOU  LAHCEN',\n",
       " 'OUKHMOU SALAH',\n",
       " 'EISENKOPE FRANCOISE',\n",
       " 'SAFI YASSINE',\n",
       " 'MR GUIRRANE MUSTAPHA',\n",
       " 'EL HAJJAOUI NABIL EL HAJJAOUI NABIL',\n",
       " 'HAJJANI  JILALI',\n",
       " 'MALAH ABDELLATIF',\n",
       " 'OUBIZ ABDENBY',\n",
       " 'ABDECHAFI ABBOUDI',\n",
       " 'EL KHATTAB KHALID',\n",
       " 'TOUIZIDA ABDELHADI',\n",
       " 'EL BOUHYAOUI EL IDRISSI LEGHLIMI',\n",
       " 'HERTS LAGHRISSI HAJ ALI',\n",
       " 'EL HABCHI ECHCHTYOUY',\n",
       " 'MR BOUJEMAOUI MOUHSINE',\n",
       " 'AZREG ZAHRA',\n",
       " 'DAOUDI BTISSAM',\n",
       " 'ZAATER ABDELKADER',\n",
       " 'FJER JAMAL',\n",
       " 'HAMDOUN BELKASMI HAMMAM AL NOUR',\n",
       " 'OUADGHIRI HASSANI YOUSSEF',\n",
       " 'EL YOUSSOUFI SAAD',\n",
       " 'EL HACHMI GURAICHE',\n",
       " 'ELAZZOZI ABDELKADER',\n",
       " 'TAOUZI ABDELAZIZ',\n",
       " 'CHENHAJI AHMED',\n",
       " 'AMASSAS  MOHAMMED',\n",
       " 'ZIZI MOHAMED',\n",
       " 'FILALI HASSOUN ABDELILAH',\n",
       " 'WARAB IJOU',\n",
       " 'BENTHAMI -LSMC- BENMOUMEN',\n",
       " 'PHAM VAN GHI JACQUES',\n",
       " 'AIT EL HOU MOHAMED',\n",
       " 'EL HAJOUI ADNANE',\n",
       " 'RAJA ABDERRAHIM',\n",
       " 'ESSAIDI HAMZA',\n",
       " 'BELAMM KEBIR',\n",
       " 'EL KHADIRI HAMID',\n",
       " 'BARAKAT HASSAN',\n",
       " 'GHANI MOHAMED',\n",
       " 'EL MEZIANE MOHAMED',\n",
       " 'AMINE ABDELILAH',\n",
       " 'SBYOU ABDERRAHMANE',\n",
       " 'MR CHRARBI CHRIF',\n",
       " 'ARAHAL FATIMA',\n",
       " 'TAKHICHI DRISS',\n",
       " 'CHATTABI ABDELAZIZ',\n",
       " 'LAHRACH AICHA',\n",
       " 'CHOUKRI HAMID',\n",
       " 'MOUSSTAID BRAHIM QUINCAILLERIE ANDAL',\n",
       " 'BERROUHO AMINA',\n",
       " 'MAHRACH MOHAMMED',\n",
       " 'FETTAH IDRISS',\n",
       " 'MR MESBAH MOHAMED',\n",
       " 'AMAOUI AHMED',\n",
       " 'AAFIR LAHOUCINE',\n",
       " 'HDOUD ABDELHAMID',\n",
       " 'MODERA MOHAMED',\n",
       " 'ABDELLAOUI EL HOUSSIN',\n",
       " 'ESSABAR NABIL',\n",
       " 'BEN NAJMA ABDESLAM',\n",
       " 'DROBIT KO OXANA HASNAA',\n",
       " 'BEN BACHIR MED NAJIB',\n",
       " 'JAZERA',\n",
       " 'KARIMI LAKBIR',\n",
       " 'KOUHATI HAMID',\n",
       " 'ED DAFILI ADIL',\n",
       " 'ALAMI NOURREDDINE',\n",
       " 'MR HARKATI AZZEDDINE',\n",
       " 'MEHDI ALAOUI',\n",
       " 'ISMAILI MEHDI',\n",
       " 'DALILI MUSTAPHA',\n",
       " 'BELAHRECH 2',\n",
       " 'MR EL OUIRINI RACHID',\n",
       " 'AGHBALOU SANAE',\n",
       " 'HMIMOU AZIZ',\n",
       " 'DOUAIRI AMAR',\n",
       " 'MR LITTIOUI HAMZA',\n",
       " 'EDDINI ABDELLAH',\n",
       " 'NOKRACHI ABDELLAH',\n",
       " 'TRITAH NABIL',\n",
       " 'HANNOUCHE ISMAIL AMINE',\n",
       " 'SEMMAR MOHAMMED WINANOOR SPACE',\n",
       " 'MLLE TBER HOURIYA',\n",
       " 'MR OISKHINE MOHAMED',\n",
       " 'EL KALLY ABDELKADER',\n",
       " 'EL OUAHIANI AHMED',\n",
       " 'CHELLAF EL HAMMANI FOUAD',\n",
       " 'ZERHOUNI KHAL HADI',\n",
       " 'PHARMACIE AIN MEZOUAR',\n",
       " 'EL AATIFI ABDERRAHIM',\n",
       " 'MR EL MOUMOUHI MOHAMED',\n",
       " 'HOURIAT AL BAHR II',\n",
       " 'AHIDAR ABDENNASSER',\n",
       " 'CHADAKH SOFYANE',\n",
       " 'ANZID BRAHIM',\n",
       " 'ABAKKA JAMAL-EDDINE',\n",
       " 'AMHAL AHMED',\n",
       " 'HIMDI SAMIRA',\n",
       " 'MRS RHABRI MOHAMED ET EL FASSI MOHAM',\n",
       " 'TAYBI M BAREK',\n",
       " 'ID CHARIF LAHCEN',\n",
       " 'ABIR MOHAMED',\n",
       " 'MOULAY HASSAN',\n",
       " 'BELHAOUI BOULAID',\n",
       " 'BAI MARWA',\n",
       " 'HACHIMI MY EL GHALI',\n",
       " 'BENHOURIA MALIKA',\n",
       " 'BIJJA ABDELLATIF',\n",
       " 'HAJIJ EL HASSAN',\n",
       " 'SAHBI SALOUA',\n",
       " 'HADDOUGUI MOHAMED',\n",
       " 'EL BOUMEDIANI AZZOUZ',\n",
       " 'BOULIK AHMED',\n",
       " 'EZZERAIDI ALI',\n",
       " 'MOUFID KHALID',\n",
       " 'MISBAH 2',\n",
       " 'LHANSALIYA',\n",
       " 'EL MFADLI MUHAMAD',\n",
       " 'RAHIOUI ABDERRAHMAN',\n",
       " 'ANKOT KHALID',\n",
       " 'EL MOUDEN AHMED',\n",
       " 'AMOUCHE LAHOUCINE',\n",
       " 'BOUTYAB MONIR',\n",
       " 'ROBIO MED ET HER AIT AHMED OUALI BEL',\n",
       " 'ALGOUZMARI BOUCHAIB PHARMACIE PAM',\n",
       " 'MR HOMSI MOHAMED ZOHAIR',\n",
       " 'BAALLA NADIA',\n",
       " 'EL HAITOUT MOHAMED',\n",
       " 'MR EL ABDAOUI AHMAD ETS KINZE TRAIT',\n",
       " 'AKOUBACH DINA',\n",
       " 'OUTAUF ABDELHAFID',\n",
       " 'CHBIROU SAID',\n",
       " 'BOURJI CHERGUI NAJAT',\n",
       " 'OURRAOUI YASSIR',\n",
       " 'RHRIB HICHAM',\n",
       " 'ECHAKKOR ABDESLAM',\n",
       " 'CHRIF EL AROUSI ABDERRAHMANE',\n",
       " 'MR YASSIF OMAR',\n",
       " 'DR  ARRAMANI  MINA',\n",
       " 'DR MAZRINA ABDERRAZAK',\n",
       " 'MR ATIQ BOU M HAMMED',\n",
       " 'TAJEDDINE ALAMI',\n",
       " 'ABDOUS JAMAL',\n",
       " 'DAGHOUR BOUBKER',\n",
       " 'AKRACH MOHAMMED',\n",
       " 'DR LOUIZI SARA',\n",
       " 'MOUTAKI HAMID',\n",
       " 'EL HAFRAOUI  ALI',\n",
       " 'AIMOUCH 2',\n",
       " 'BELAID LAKHDIRI',\n",
       " 'EL HARRAK MUSTAPHA',\n",
       " 'KOUNDAR ABDELLAH',\n",
       " 'MR ASMAMANE ABDELHADI',\n",
       " 'OUANNANE',\n",
       " 'LAGHMICH LANJRI NOUZHA',\n",
       " 'MR OURBAT MOHAMED',\n",
       " 'MR BENSSI MANSOUR',\n",
       " 'JAAFARI OMAR',\n",
       " 'BADRI MOHAMMED',\n",
       " 'BARKA BRAHIME',\n",
       " 'ZAYNOUNE AHMED',\n",
       " 'BAHJI AMALE',\n",
       " 'DR ARIHI MOURAD',\n",
       " 'YASSINE MOHAMED',\n",
       " 'FILALI CHAKOUR MOHAMMED',\n",
       " 'CHARAI  ABDESSADAK',\n",
       " 'RAHMOUNI EL ALAMI',\n",
       " 'LAKBIR EL AID',\n",
       " 'STITOU FARIDA',\n",
       " 'GAOUA JAMAL',\n",
       " 'SLIM CHKOUNDA SLIM JOUDE',\n",
       " 'BELANAYA ABDELAZIZ',\n",
       " 'BOURJAJ DRISS',\n",
       " 'BOUKHOUIT FARID',\n",
       " 'PITOFA II',\n",
       " 'IZRI TARIK',\n",
       " 'MEJDOUBI LAHFID',\n",
       " 'NAJI LAHCEN',\n",
       " 'RAISSOUNI  RAISSOUN',\n",
       " 'ABDERRAHMANE ANZID',\n",
       " 'DR MAHER ABDELLATIF',\n",
       " \"EL -MYR L'HOUCINE\",\n",
       " 'LAHRACH  MOHAMED',\n",
       " 'EL AYACHI MAIMOUNI',\n",
       " 'ZAHRAOUI MAJIDA',\n",
       " 'AHCHOUCHANE',\n",
       " 'DR AZZOUZI JAMAL EDDINE',\n",
       " 'SOODI ABOU RABBINA ALLAH',\n",
       " 'DR WYDADI MUSTAPHA',\n",
       " 'WISKANE MOURAD',\n",
       " 'EZZAHRI DRISS',\n",
       " 'OUMAZICH AHMED',\n",
       " 'LAFNINE MHAMED',\n",
       " 'AIT BEN TALEB AOMAR',\n",
       " 'MME CUENDE LEGARA ANA MARIA',\n",
       " 'HAMDIA',\n",
       " 'MOUSSA IBRAHIMI',\n",
       " 'SAQI M HAMED',\n",
       " 'HIMMI ABDELMOUNAIM',\n",
       " 'AMZIL ABDELLAH',\n",
       " 'BSIR KHALID',\n",
       " 'ABAZID ABDELLAH',\n",
       " 'EL-GAZOULI SAID',\n",
       " 'ZOUINIA 2',\n",
       " 'MR EL MESYKY MOHAMED',\n",
       " 'EL KARKRI ADIL',\n",
       " 'BOUMACHAYA SOUFIANE',\n",
       " 'MEGRINI CHERIF',\n",
       " 'JELLOUN MED',\n",
       " 'SAYARH OMAR',\n",
       " 'DENNOUN MOHAMMED',\n",
       " 'MOUMIT ALLAL',\n",
       " 'CHATER EL HASSAN',\n",
       " 'KALDA HASSAN',\n",
       " 'KARAM YOUSSEF',\n",
       " 'EL AMMARTI ABDELLAH',\n",
       " 'BOUHARROU MOHAMED',\n",
       " 'TATAM II',\n",
       " 'GOUMIH 3',\n",
       " 'FENNANE EL MOSTAFA',\n",
       " 'ZAHRAOUI ZAHRA',\n",
       " 'MR MOUTAHIR BOUAZZA',\n",
       " 'MR MAGHFOUR RACHID',\n",
       " 'BOUCHTI ABDEL HAMID',\n",
       " 'DIHAJI MOHAMED',\n",
       " 'HADOUCH MOHAMED',\n",
       " 'MR OUSSOUSS MOHAMED',\n",
       " 'MR EL GOUIRA ABDELKADER',\n",
       " 'EL KHLIFI LAYACHI',\n",
       " 'EL MRINI MOHAMED',\n",
       " 'CHRIDOU SAMIRA CNT D COUF E ESTH CAL',\n",
       " 'TAZI ABDELILAH',\n",
       " 'GUENNOUN MOHAAMMED AMINE',\n",
       " 'AHAJAM SEDDIK',\n",
       " 'KADDIOUI SAID',\n",
       " 'EL OUARDI IDIR',\n",
       " 'HELLAOUI HASNAA',\n",
       " 'OMARI MED',\n",
       " 'KHENNINE MILOUD',\n",
       " 'CHANOUNA',\n",
       " 'MAZRAR LAHCEN',\n",
       " 'LAAFAR KHADIJA',\n",
       " 'MR EL MAFHOUM THAMI',\n",
       " 'SEKAKI KAMAL',\n",
       " 'KHOUKHTOU LAHCEN',\n",
       " 'ABDERAHIM EL BAKKALY',\n",
       " 'OUJJI LHOU',\n",
       " 'EL GOULALI ABDELKARIM',\n",
       " 'KHANFOUCHI OMAR',\n",
       " 'EL FATIHI RAHAL',\n",
       " 'GUENNACH OUSSAMA',\n",
       " 'SEQUAQ ALI',\n",
       " 'YECHIWA MOHAMED',\n",
       " 'MR KARRAKCHOU RACHID',\n",
       " 'HASSNAOUI EL OUAZZANI',\n",
       " 'MOMOUH II',\n",
       " ...]"
      ]
     },
     "execution_count": 119,
     "metadata": {},
     "output_type": "execute_result"
    }
   ],
   "source": [
    "list_prenoms"
   ]
  },
  {
   "cell_type": "code",
   "execution_count": null,
   "metadata": {},
   "outputs": [],
   "source": []
  },
  {
   "cell_type": "code",
   "execution_count": null,
   "metadata": {},
   "outputs": [],
   "source": []
  },
  {
   "cell_type": "markdown",
   "metadata": {},
   "source": [
    "# Function for naive bayes"
   ]
  },
  {
   "cell_type": "code",
   "execution_count": 120,
   "metadata": {
    "ExecuteTime": {
     "end_time": "2022-02-22T13:20:22.302344Z",
     "start_time": "2022-02-22T13:20:22.295421Z"
    }
   },
   "outputs": [],
   "source": [
    "# A function to do it\n",
    "def genderpredictorNB(a):\n",
    "    test_name = [a]\n",
    "    vector = cv.transform(test_name).toarray()\n",
    "    if clf.predict(vector) == 0:\n",
    "        return \"Female\"\n",
    "    elif clf.predict(vector) == 1:\n",
    "        return \"Male\"\n",
    "    \n",
    "    else:\n",
    "        return \"None\""
   ]
  },
  {
   "cell_type": "code",
   "execution_count": 121,
   "metadata": {
    "ExecuteTime": {
     "end_time": "2022-02-22T13:21:39.525224Z",
     "start_time": "2022-02-22T13:20:23.195579Z"
    }
   },
   "outputs": [],
   "source": [
    "pp_19_stock['gender_NB']=pp_19_stock['NOM_OU_RAISON_SOCIALE'].apply(lambda x:genderpredictorNB(x))"
   ]
  },
  {
   "cell_type": "code",
   "execution_count": 122,
   "metadata": {
    "ExecuteTime": {
     "end_time": "2022-02-22T13:21:39.535121Z",
     "start_time": "2022-02-22T13:21:39.525224Z"
    }
   },
   "outputs": [],
   "source": [
    "#DGI_prenom['gender_NB']= DGI_prenom['name'].apply(lambda x:genderpredictorNB(x))"
   ]
  },
  {
   "cell_type": "code",
   "execution_count": 124,
   "metadata": {
    "ExecuteTime": {
     "end_time": "2022-02-22T13:22:02.784994Z",
     "start_time": "2022-02-22T13:22:02.765243Z"
    }
   },
   "outputs": [],
   "source": [
    "# probability predict\n",
    "def genderpredictorNB_P(a):\n",
    "    test_name = [a]\n",
    "    vector = cv.transform(test_name).toarray()\n",
    "    if clf.predict(vector) == 0:\n",
    "        return abs(clf.predict_proba(vector)[0][0])\n",
    "    elif clf.predict(vector) == 1:\n",
    "        return abs(clf.predict_proba(vector)[0][1])\n",
    "    \n",
    "    else:\n",
    "        return abs(clf.predict_proba(vector)[0][2])"
   ]
  },
  {
   "cell_type": "code",
   "execution_count": 125,
   "metadata": {
    "ExecuteTime": {
     "end_time": "2022-02-22T13:23:54.442458Z",
     "start_time": "2022-02-22T13:22:04.435223Z"
    }
   },
   "outputs": [],
   "source": [
    "pp_19_stock['proba_predict_NB']=pp_19_stock['NOM_OU_RAISON_SOCIALE'].apply(lambda x:genderpredictorNB_P(x))"
   ]
  },
  {
   "cell_type": "code",
   "execution_count": null,
   "metadata": {
    "ExecuteTime": {
     "end_time": "2022-02-22T13:21:39.569760Z",
     "start_time": "2022-02-22T13:21:39.569760Z"
    }
   },
   "outputs": [],
   "source": [
    "#DGI_prenom['proba_predict_NB']=DGI_prenom['name'].apply(lambda x:genderpredictorNB_P(x))"
   ]
  },
  {
   "cell_type": "markdown",
   "metadata": {},
   "source": [
    "# Model building Using DecisionTree"
   ]
  },
  {
   "cell_type": "code",
   "execution_count": 126,
   "metadata": {
    "ExecuteTime": {
     "end_time": "2022-02-22T13:24:34.278559Z",
     "start_time": "2022-02-22T13:23:54.442458Z"
    }
   },
   "outputs": [
    {
     "data": {
      "text/plain": [
       "DecisionTreeClassifier()"
      ]
     },
     "execution_count": 126,
     "metadata": {},
     "output_type": "execute_result"
    }
   ],
   "source": [
    "# Model building Using DecisionTree\n",
    "\n",
    "from sklearn.tree import DecisionTreeClassifier\n",
    " \n",
    "dclf = DecisionTreeClassifier()\n",
    "my_xfeatures =dv.transform(dfX_train)\n",
    "dclf.fit(my_xfeatures, dfy_train)\n"
   ]
  },
  {
   "cell_type": "code",
   "execution_count": 127,
   "metadata": {
    "ExecuteTime": {
     "end_time": "2022-02-22T13:24:37.545258Z",
     "start_time": "2022-02-22T13:24:34.278559Z"
    }
   },
   "outputs": [
    {
     "name": "stdout",
     "output_type": "stream",
     "text": [
      "0.9873617735335687\n",
      "0.9606323753842185\n"
     ]
    }
   ],
   "source": [
    "#Accuracy of Models Decision Tree Classifier Works better than Naive Bayes\n",
    "#Accuracy on training set\n",
    "print(dclf.score(dv.transform(dfX_train), dfy_train)) \n",
    " # Accuracy on test set\n",
    "print(dclf.score(dv.transform(dfX_test), dfy_test))"
   ]
  },
  {
   "cell_type": "markdown",
   "metadata": {},
   "source": [
    "# A function od decision tree"
   ]
  },
  {
   "cell_type": "code",
   "execution_count": 128,
   "metadata": {
    "ExecuteTime": {
     "end_time": "2022-02-22T13:24:37.555164Z",
     "start_time": "2022-02-22T13:24:37.549009Z"
    }
   },
   "outputs": [],
   "source": [
    "\n",
    "def genderpredictorDT(a):\n",
    "    test_name1 = [a]\n",
    "    transform_dv =dv.transform(features(test_name1))\n",
    "    vector = transform_dv.toarray()\n",
    "    if dclf.predict(vector) == 0:\n",
    "        return \"Female\"\n",
    "    elif dclf.predict(vector) == 1:\n",
    "        return \"Male\"\n",
    "    else:\n",
    "        return \"None\""
   ]
  },
  {
   "cell_type": "code",
   "execution_count": 129,
   "metadata": {
    "ExecuteTime": {
     "end_time": "2022-02-22T13:25:02.725151Z",
     "start_time": "2022-02-22T13:24:37.557404Z"
    }
   },
   "outputs": [],
   "source": [
    "pp_19_stock['gender_DT']=pp_19_stock['NOM_OU_RAISON_SOCIALE'].apply(lambda x:genderpredictorDT(x))"
   ]
  },
  {
   "cell_type": "code",
   "execution_count": 130,
   "metadata": {
    "ExecuteTime": {
     "end_time": "2022-02-22T13:25:02.733397Z",
     "start_time": "2022-02-22T13:25:02.725151Z"
    }
   },
   "outputs": [],
   "source": [
    "#DGI_prenom['gender_DT']=DGI_prenom['name'].apply(lambda x:genderpredictorDT(x))"
   ]
  },
  {
   "cell_type": "code",
   "execution_count": 131,
   "metadata": {
    "ExecuteTime": {
     "end_time": "2022-02-22T13:25:02.774131Z",
     "start_time": "2022-02-22T13:25:02.736349Z"
    }
   },
   "outputs": [],
   "source": [
    "# probability predict\n",
    "def genderpredictorDT_P(a):\n",
    "    test_name = [a]\n",
    "    vector = dv.transform(features(test_name)).toarray()\n",
    "    if dclf.predict(vector) == 0:\n",
    "        return abs(dclf.predict_proba(vector)[0][0])\n",
    "    elif dclf.predict(vector) == 1:\n",
    "        return abs(dclf.predict_proba(vector)[0][1])\n",
    "    \n",
    "    else:\n",
    "        return abs(dclf.predict_proba(vector)[0][2])"
   ]
  },
  {
   "cell_type": "code",
   "execution_count": 132,
   "metadata": {
    "ExecuteTime": {
     "end_time": "2022-02-22T13:25:36.816997Z",
     "start_time": "2022-02-22T13:25:02.774131Z"
    }
   },
   "outputs": [],
   "source": [
    "pp_19_stock['proba_predict_DT']=pp_19_stock['NOM_OU_RAISON_SOCIALE'].apply(lambda x:genderpredictorDT_P(x))"
   ]
  },
  {
   "cell_type": "code",
   "execution_count": 133,
   "metadata": {
    "ExecuteTime": {
     "end_time": "2022-02-22T13:25:36.833081Z",
     "start_time": "2022-02-22T13:25:36.818017Z"
    }
   },
   "outputs": [],
   "source": [
    "#DGI_prenom['proba_predict_DT']=DGI_prenom['name'].apply(lambda x:genderpredictorDT_P(x))"
   ]
  },
  {
   "cell_type": "markdown",
   "metadata": {},
   "source": [
    "# Create Random Forest Model"
   ]
  },
  {
   "cell_type": "code",
   "execution_count": 135,
   "metadata": {
    "ExecuteTime": {
     "end_time": "2022-02-22T13:37:37.260548Z",
     "start_time": "2022-02-22T13:25:59.022099Z"
    }
   },
   "outputs": [
    {
     "data": {
      "text/plain": [
       "RandomForestClassifier(n_estimators=120)"
      ]
     },
     "execution_count": 135,
     "metadata": {},
     "output_type": "execute_result"
    }
   ],
   "source": [
    "#Import Random Forest Model\n",
    "from sklearn.ensemble import RandomForestClassifier\n",
    "\n",
    "#Create a Gaussian Classifier\n",
    "Rclf=RandomForestClassifier(n_estimators=120)\n",
    "\n",
    "#Train the model using the training sets y_pred=clf.predict(X_test)\n",
    "Rclf.fit(my_xfeatures, dfy_train)     \n"
   ]
  },
  {
   "cell_type": "markdown",
   "metadata": {},
   "source": [
    "# A function to do it"
   ]
  },
  {
   "cell_type": "code",
   "execution_count": 136,
   "metadata": {
    "ExecuteTime": {
     "end_time": "2022-02-22T13:37:37.280566Z",
     "start_time": "2022-02-22T13:37:37.260548Z"
    }
   },
   "outputs": [],
   "source": [
    "def genderpredictorRF(a):\n",
    "    test_name1 = [a]\n",
    "    transform_dv =dv.transform(features(test_name1))\n",
    "    vector = transform_dv.toarray()\n",
    "    if Rclf.predict(vector) == 0:\n",
    "        return \"Female\"\n",
    "    elif Rclf.predict(vector) == 1:\n",
    "        return \"Male\"\n",
    "    else:\n",
    "        return \"None\""
   ]
  },
  {
   "cell_type": "code",
   "execution_count": 137,
   "metadata": {
    "ExecuteTime": {
     "end_time": "2022-02-22T14:03:21.547977Z",
     "start_time": "2022-02-22T13:37:37.280566Z"
    }
   },
   "outputs": [],
   "source": [
    "pp_19_stock['gender_RF']=pp_19_stock['NOM_OU_RAISON_SOCIALE'].apply(lambda x:genderpredictorRF(x))"
   ]
  },
  {
   "cell_type": "code",
   "execution_count": 138,
   "metadata": {
    "ExecuteTime": {
     "end_time": "2022-02-22T14:03:21.563757Z",
     "start_time": "2022-02-22T14:03:21.547977Z"
    }
   },
   "outputs": [],
   "source": [
    "#DGI_prenom['gender_RF']=DGI_prenom['name'].apply(lambda x:genderpredictorRF(x))"
   ]
  },
  {
   "cell_type": "code",
   "execution_count": 139,
   "metadata": {
    "ExecuteTime": {
     "end_time": "2022-02-22T14:03:21.604259Z",
     "start_time": "2022-02-22T14:03:21.565934Z"
    }
   },
   "outputs": [],
   "source": [
    "# probability predict\n",
    "def genderpredictorRF_P(a):\n",
    "    test_name = [a]\n",
    "    vector = dv.transform(features(test_name)).toarray()\n",
    "    if Rclf.predict(vector) == 0:\n",
    "        return abs(Rclf.predict_proba(vector)[0][0])\n",
    "    elif Rclf.predict(vector) == 1:\n",
    "        return abs(Rclf.predict_proba(vector)[0][1])\n",
    "    \n",
    "    else:\n",
    "        return abs(Rclf.predict_proba(vector)[0][2])"
   ]
  },
  {
   "cell_type": "code",
   "execution_count": 142,
   "metadata": {
    "ExecuteTime": {
     "end_time": "2022-02-22T15:25:31.227936Z",
     "start_time": "2022-02-22T14:43:45.696582Z"
    }
   },
   "outputs": [],
   "source": [
    "pp_19_stock['proba_predict_RF']=pp_19_stock['NOM_OU_RAISON_SOCIALE'].apply(lambda x:genderpredictorRF_P(x))"
   ]
  },
  {
   "cell_type": "code",
   "execution_count": 143,
   "metadata": {
    "ExecuteTime": {
     "end_time": "2022-02-22T15:25:31.243107Z",
     "start_time": "2022-02-22T15:25:31.227936Z"
    }
   },
   "outputs": [],
   "source": [
    "#DGI_prenom['proba_predict_RF']=DGI_prenom['name'].apply(lambda x:genderpredictorRF_P(x))"
   ]
  },
  {
   "cell_type": "code",
   "execution_count": 145,
   "metadata": {
    "ExecuteTime": {
     "end_time": "2022-02-22T15:25:31.577810Z",
     "start_time": "2022-02-22T15:25:31.424212Z"
    }
   },
   "outputs": [
    {
     "data": {
      "text/html": [
       "<div>\n",
       "<style scoped>\n",
       "    .dataframe tbody tr th:only-of-type {\n",
       "        vertical-align: middle;\n",
       "    }\n",
       "\n",
       "    .dataframe tbody tr th {\n",
       "        vertical-align: top;\n",
       "    }\n",
       "\n",
       "    .dataframe thead th {\n",
       "        text-align: right;\n",
       "    }\n",
       "</style>\n",
       "<table border=\"1\" class=\"dataframe\">\n",
       "  <thead>\n",
       "    <tr style=\"text-align: right;\">\n",
       "      <th></th>\n",
       "      <th>IDENTIFIANT_FISCAL</th>\n",
       "      <th>IDENTIFIANT_COMMUN_ENTREPRISE</th>\n",
       "      <th>RC_unique</th>\n",
       "      <th>NUMERO_DU_REGISTRE_DU_COMMERCE</th>\n",
       "      <th>CODE_CENTRE_REGISTRE_COMMERCE</th>\n",
       "      <th>NUMERO_DE_LA_CNSS</th>\n",
       "      <th>NOM_OU_RAISON_SOCIALE</th>\n",
       "      <th>ADRESSE</th>\n",
       "      <th>CODE_ANNEE</th>\n",
       "      <th>ID_TECHNIQUE</th>\n",
       "      <th>...</th>\n",
       "      <th>Tranches_CA_18</th>\n",
       "      <th>Tranches_CA_17</th>\n",
       "      <th>tranche_17_18_19</th>\n",
       "      <th>name</th>\n",
       "      <th>gender_NB</th>\n",
       "      <th>proba_predict_NB</th>\n",
       "      <th>gender_DT</th>\n",
       "      <th>proba_predict_DT</th>\n",
       "      <th>gender_RF</th>\n",
       "      <th>proba_predict_RF</th>\n",
       "    </tr>\n",
       "  </thead>\n",
       "  <tbody>\n",
       "    <tr>\n",
       "      <th>0</th>\n",
       "      <td>25225478.0</td>\n",
       "      <td>2.073931e+12</td>\n",
       "      <td>0000_NA</td>\n",
       "      <td>0000</td>\n",
       "      <td>NaN</td>\n",
       "      <td>1000101.0</td>\n",
       "      <td>TARBI MINA</td>\n",
       "      <td>N2 BAB ZORGANE 1 ER ETAGE IMM CHERIF</td>\n",
       "      <td>2019</td>\n",
       "      <td>0a2c184fbfdd84ba517e4c080199949e</td>\n",
       "      <td>...</td>\n",
       "      <td>]0 , 1]</td>\n",
       "      <td>NaN</td>\n",
       "      <td>]0 , 1]</td>\n",
       "      <td>TARBI MINA</td>\n",
       "      <td>Female</td>\n",
       "      <td>0.974199</td>\n",
       "      <td>Female</td>\n",
       "      <td>1.000000</td>\n",
       "      <td>Female</td>\n",
       "      <td>1.000000</td>\n",
       "    </tr>\n",
       "    <tr>\n",
       "      <th>1</th>\n",
       "      <td>73662580.0</td>\n",
       "      <td>1.164771e+12</td>\n",
       "      <td>18172_NA</td>\n",
       "      <td>18172</td>\n",
       "      <td>NaN</td>\n",
       "      <td>1000125.0</td>\n",
       "      <td>TOUILE AHMED</td>\n",
       "      <td>DOUAR KASBA  LAMHADI EL GUERDANE</td>\n",
       "      <td>2019</td>\n",
       "      <td>a91f2e3831615918b1716135b1b7140e</td>\n",
       "      <td>...</td>\n",
       "      <td>NaN</td>\n",
       "      <td>CA NULL</td>\n",
       "      <td>CA NULL</td>\n",
       "      <td>TOUILE AHMED</td>\n",
       "      <td>Male</td>\n",
       "      <td>0.995242</td>\n",
       "      <td>Male</td>\n",
       "      <td>1.000000</td>\n",
       "      <td>Male</td>\n",
       "      <td>1.000000</td>\n",
       "    </tr>\n",
       "    <tr>\n",
       "      <th>2</th>\n",
       "      <td>78000180.0</td>\n",
       "      <td>1.848616e+12</td>\n",
       "      <td>3986_NA</td>\n",
       "      <td>3986</td>\n",
       "      <td>NaN</td>\n",
       "      <td>1000199.0</td>\n",
       "      <td>OUTADRART  LAHOUCINE</td>\n",
       "      <td>SOUK TNINE TAFINGOULT OULAD BERHIL</td>\n",
       "      <td>2019</td>\n",
       "      <td>51e1ed44dbd3e5bbd07f3ee7ff765b0f</td>\n",
       "      <td>...</td>\n",
       "      <td>]1 , 3]</td>\n",
       "      <td>NaN</td>\n",
       "      <td>]1 , 3]</td>\n",
       "      <td>OUTADRART  LAHOUCINE</td>\n",
       "      <td>Male</td>\n",
       "      <td>0.926715</td>\n",
       "      <td>Male</td>\n",
       "      <td>1.000000</td>\n",
       "      <td>Male</td>\n",
       "      <td>1.000000</td>\n",
       "    </tr>\n",
       "    <tr>\n",
       "      <th>3</th>\n",
       "      <td>77635319.0</td>\n",
       "      <td>2.133845e+12</td>\n",
       "      <td>7816_66</td>\n",
       "      <td>7816</td>\n",
       "      <td>66.0</td>\n",
       "      <td>1000214.0</td>\n",
       "      <td>MAHRAJ HASSAN</td>\n",
       "      <td>KISSARIAT AL MANIRA JNANE JAMAA</td>\n",
       "      <td>2019</td>\n",
       "      <td>f33bfe2dd61905596bf73def430cbc8b</td>\n",
       "      <td>...</td>\n",
       "      <td>NaN</td>\n",
       "      <td>]0 , 1]</td>\n",
       "      <td>]0 , 1]</td>\n",
       "      <td>MAHRAJ HASSAN</td>\n",
       "      <td>Male</td>\n",
       "      <td>0.989772</td>\n",
       "      <td>Male</td>\n",
       "      <td>1.000000</td>\n",
       "      <td>Male</td>\n",
       "      <td>1.000000</td>\n",
       "    </tr>\n",
       "    <tr>\n",
       "      <th>4</th>\n",
       "      <td>40259590.0</td>\n",
       "      <td>2.132185e+12</td>\n",
       "      <td>17570_NA</td>\n",
       "      <td>17570</td>\n",
       "      <td>NaN</td>\n",
       "      <td>1000238.0</td>\n",
       "      <td>AMZIL  AHMED</td>\n",
       "      <td>BLOC B N 56 HAY ASSALAM AIT IAAZA</td>\n",
       "      <td>2019</td>\n",
       "      <td>28e5e3012f5630820f4d6cae91e2c62c</td>\n",
       "      <td>...</td>\n",
       "      <td>NaN</td>\n",
       "      <td>]0 , 1]</td>\n",
       "      <td>]0 , 1]</td>\n",
       "      <td>AMZIL  AHMED</td>\n",
       "      <td>Male</td>\n",
       "      <td>0.995692</td>\n",
       "      <td>Male</td>\n",
       "      <td>1.000000</td>\n",
       "      <td>Male</td>\n",
       "      <td>1.000000</td>\n",
       "    </tr>\n",
       "    <tr>\n",
       "      <th>...</th>\n",
       "      <td>...</td>\n",
       "      <td>...</td>\n",
       "      <td>...</td>\n",
       "      <td>...</td>\n",
       "      <td>...</td>\n",
       "      <td>...</td>\n",
       "      <td>...</td>\n",
       "      <td>...</td>\n",
       "      <td>...</td>\n",
       "      <td>...</td>\n",
       "      <td>...</td>\n",
       "      <td>...</td>\n",
       "      <td>...</td>\n",
       "      <td>...</td>\n",
       "      <td>...</td>\n",
       "      <td>...</td>\n",
       "      <td>...</td>\n",
       "      <td>...</td>\n",
       "      <td>...</td>\n",
       "      <td>...</td>\n",
       "      <td>...</td>\n",
       "    </tr>\n",
       "    <tr>\n",
       "      <th>143300</th>\n",
       "      <td>NaN</td>\n",
       "      <td>NaN</td>\n",
       "      <td>NaN</td>\n",
       "      <td>NaN</td>\n",
       "      <td>NaN</td>\n",
       "      <td>9989908.0</td>\n",
       "      <td>IMAD II</td>\n",
       "      <td>PORT JORF LASFAR</td>\n",
       "      <td>2019</td>\n",
       "      <td>1bbd6209c522874cd1d6f0bf3510d665</td>\n",
       "      <td>...</td>\n",
       "      <td>NaN</td>\n",
       "      <td>NaN</td>\n",
       "      <td>NaN</td>\n",
       "      <td>IMAD II</td>\n",
       "      <td>Male</td>\n",
       "      <td>0.991087</td>\n",
       "      <td>Male</td>\n",
       "      <td>1.000000</td>\n",
       "      <td>Male</td>\n",
       "      <td>0.589583</td>\n",
       "    </tr>\n",
       "    <tr>\n",
       "      <th>143301</th>\n",
       "      <td>NaN</td>\n",
       "      <td>NaN</td>\n",
       "      <td>NaN</td>\n",
       "      <td>NaN</td>\n",
       "      <td>NaN</td>\n",
       "      <td>9989940.0</td>\n",
       "      <td>HAYAT</td>\n",
       "      <td>PORT JORF LASFAR</td>\n",
       "      <td>2019</td>\n",
       "      <td>4da5e0bed9b5eed1968f4d86bc352f9f</td>\n",
       "      <td>...</td>\n",
       "      <td>NaN</td>\n",
       "      <td>NaN</td>\n",
       "      <td>NaN</td>\n",
       "      <td>HAYAT</td>\n",
       "      <td>Female</td>\n",
       "      <td>0.854567</td>\n",
       "      <td>Female</td>\n",
       "      <td>1.000000</td>\n",
       "      <td>Female</td>\n",
       "      <td>1.000000</td>\n",
       "    </tr>\n",
       "    <tr>\n",
       "      <th>143302</th>\n",
       "      <td>NaN</td>\n",
       "      <td>NaN</td>\n",
       "      <td>141792_NA</td>\n",
       "      <td>141792</td>\n",
       "      <td>NaN</td>\n",
       "      <td>9990111.0</td>\n",
       "      <td>HARKIK ABDELLAH</td>\n",
       "      <td>SD SMAIL A DROITE</td>\n",
       "      <td>2019</td>\n",
       "      <td>76bbc6b5ce05f7efca1b85480df963c0</td>\n",
       "      <td>...</td>\n",
       "      <td>NaN</td>\n",
       "      <td>NaN</td>\n",
       "      <td>NaN</td>\n",
       "      <td>HARKIK ABDELLAH</td>\n",
       "      <td>Male</td>\n",
       "      <td>0.941693</td>\n",
       "      <td>Male</td>\n",
       "      <td>1.000000</td>\n",
       "      <td>Male</td>\n",
       "      <td>0.912577</td>\n",
       "    </tr>\n",
       "    <tr>\n",
       "      <th>143303</th>\n",
       "      <td>NaN</td>\n",
       "      <td>4.175900e+11</td>\n",
       "      <td>373288_NA</td>\n",
       "      <td>373288</td>\n",
       "      <td>NaN</td>\n",
       "      <td>9992761.0</td>\n",
       "      <td>MR LAHBOUB AZZOUZ</td>\n",
       "      <td>BP  41139 AGENCE MEKDAD LAHRIZI  DOUAR LAAYAYS...</td>\n",
       "      <td>2019</td>\n",
       "      <td>7dfd718ad3c1dba948448064816f5f52</td>\n",
       "      <td>...</td>\n",
       "      <td>NaN</td>\n",
       "      <td>NaN</td>\n",
       "      <td>NaN</td>\n",
       "      <td>MR LAHBOUB AZZOUZ</td>\n",
       "      <td>Male</td>\n",
       "      <td>0.995887</td>\n",
       "      <td>Male</td>\n",
       "      <td>1.000000</td>\n",
       "      <td>Male</td>\n",
       "      <td>0.912303</td>\n",
       "    </tr>\n",
       "    <tr>\n",
       "      <th>143304</th>\n",
       "      <td>NaN</td>\n",
       "      <td>NaN</td>\n",
       "      <td>263380_NA</td>\n",
       "      <td>263380</td>\n",
       "      <td>NaN</td>\n",
       "      <td>9993222.0</td>\n",
       "      <td>EL BAZ  BAHSSINE</td>\n",
       "      <td>202  BLOC B  LISSASFA 2</td>\n",
       "      <td>2019</td>\n",
       "      <td>408669405d2c1b116b009211b3ea2b44</td>\n",
       "      <td>...</td>\n",
       "      <td>NaN</td>\n",
       "      <td>NaN</td>\n",
       "      <td>NaN</td>\n",
       "      <td>EL BAZ  BAHSSINE</td>\n",
       "      <td>Male</td>\n",
       "      <td>0.990327</td>\n",
       "      <td>Male</td>\n",
       "      <td>0.962371</td>\n",
       "      <td>Male</td>\n",
       "      <td>0.962126</td>\n",
       "    </tr>\n",
       "  </tbody>\n",
       "</table>\n",
       "<p>143305 rows × 93 columns</p>\n",
       "</div>"
      ],
      "text/plain": [
       "        IDENTIFIANT_FISCAL  IDENTIFIANT_COMMUN_ENTREPRISE  RC_unique  \\\n",
       "0               25225478.0                   2.073931e+12    0000_NA   \n",
       "1               73662580.0                   1.164771e+12   18172_NA   \n",
       "2               78000180.0                   1.848616e+12    3986_NA   \n",
       "3               77635319.0                   2.133845e+12    7816_66   \n",
       "4               40259590.0                   2.132185e+12   17570_NA   \n",
       "...                    ...                            ...        ...   \n",
       "143300                 NaN                            NaN        NaN   \n",
       "143301                 NaN                            NaN        NaN   \n",
       "143302                 NaN                            NaN  141792_NA   \n",
       "143303                 NaN                   4.175900e+11  373288_NA   \n",
       "143304                 NaN                            NaN  263380_NA   \n",
       "\n",
       "       NUMERO_DU_REGISTRE_DU_COMMERCE  CODE_CENTRE_REGISTRE_COMMERCE  \\\n",
       "0                                0000                            NaN   \n",
       "1                               18172                            NaN   \n",
       "2                                3986                            NaN   \n",
       "3                                7816                           66.0   \n",
       "4                               17570                            NaN   \n",
       "...                               ...                            ...   \n",
       "143300                            NaN                            NaN   \n",
       "143301                            NaN                            NaN   \n",
       "143302                         141792                            NaN   \n",
       "143303                         373288                            NaN   \n",
       "143304                         263380                            NaN   \n",
       "\n",
       "        NUMERO_DE_LA_CNSS NOM_OU_RAISON_SOCIALE  \\\n",
       "0               1000101.0            TARBI MINA   \n",
       "1               1000125.0          TOUILE AHMED   \n",
       "2               1000199.0  OUTADRART  LAHOUCINE   \n",
       "3               1000214.0         MAHRAJ HASSAN   \n",
       "4               1000238.0          AMZIL  AHMED   \n",
       "...                   ...                   ...   \n",
       "143300          9989908.0               IMAD II   \n",
       "143301          9989940.0                 HAYAT   \n",
       "143302          9990111.0       HARKIK ABDELLAH   \n",
       "143303          9992761.0     MR LAHBOUB AZZOUZ   \n",
       "143304          9993222.0      EL BAZ  BAHSSINE   \n",
       "\n",
       "                                                  ADRESSE  CODE_ANNEE  \\\n",
       "0                    N2 BAB ZORGANE 1 ER ETAGE IMM CHERIF        2019   \n",
       "1                        DOUAR KASBA  LAMHADI EL GUERDANE        2019   \n",
       "2                      SOUK TNINE TAFINGOULT OULAD BERHIL        2019   \n",
       "3                         KISSARIAT AL MANIRA JNANE JAMAA        2019   \n",
       "4                       BLOC B N 56 HAY ASSALAM AIT IAAZA        2019   \n",
       "...                                                   ...         ...   \n",
       "143300                                   PORT JORF LASFAR        2019   \n",
       "143301                                   PORT JORF LASFAR        2019   \n",
       "143302                                  SD SMAIL A DROITE        2019   \n",
       "143303  BP  41139 AGENCE MEKDAD LAHRIZI  DOUAR LAAYAYS...        2019   \n",
       "143304                            202  BLOC B  LISSASFA 2        2019   \n",
       "\n",
       "                            ID_TECHNIQUE  ... Tranches_CA_18  Tranches_CA_17  \\\n",
       "0       0a2c184fbfdd84ba517e4c080199949e  ...        ]0 , 1]             NaN   \n",
       "1       a91f2e3831615918b1716135b1b7140e  ...            NaN         CA NULL   \n",
       "2       51e1ed44dbd3e5bbd07f3ee7ff765b0f  ...        ]1 , 3]             NaN   \n",
       "3       f33bfe2dd61905596bf73def430cbc8b  ...            NaN         ]0 , 1]   \n",
       "4       28e5e3012f5630820f4d6cae91e2c62c  ...            NaN         ]0 , 1]   \n",
       "...                                  ...  ...            ...             ...   \n",
       "143300  1bbd6209c522874cd1d6f0bf3510d665  ...            NaN             NaN   \n",
       "143301  4da5e0bed9b5eed1968f4d86bc352f9f  ...            NaN             NaN   \n",
       "143302  76bbc6b5ce05f7efca1b85480df963c0  ...            NaN             NaN   \n",
       "143303  7dfd718ad3c1dba948448064816f5f52  ...            NaN             NaN   \n",
       "143304  408669405d2c1b116b009211b3ea2b44  ...            NaN             NaN   \n",
       "\n",
       "        tranche_17_18_19                  name  gender_NB proba_predict_NB  \\\n",
       "0                ]0 , 1]            TARBI MINA     Female         0.974199   \n",
       "1                CA NULL          TOUILE AHMED       Male         0.995242   \n",
       "2                ]1 , 3]  OUTADRART  LAHOUCINE       Male         0.926715   \n",
       "3                ]0 , 1]         MAHRAJ HASSAN       Male         0.989772   \n",
       "4                ]0 , 1]          AMZIL  AHMED       Male         0.995692   \n",
       "...                  ...                   ...        ...              ...   \n",
       "143300               NaN               IMAD II       Male         0.991087   \n",
       "143301               NaN                 HAYAT     Female         0.854567   \n",
       "143302               NaN       HARKIK ABDELLAH       Male         0.941693   \n",
       "143303               NaN     MR LAHBOUB AZZOUZ       Male         0.995887   \n",
       "143304               NaN      EL BAZ  BAHSSINE       Male         0.990327   \n",
       "\n",
       "        gender_DT  proba_predict_DT gender_RF  proba_predict_RF  \n",
       "0          Female          1.000000    Female          1.000000  \n",
       "1            Male          1.000000      Male          1.000000  \n",
       "2            Male          1.000000      Male          1.000000  \n",
       "3            Male          1.000000      Male          1.000000  \n",
       "4            Male          1.000000      Male          1.000000  \n",
       "...           ...               ...       ...               ...  \n",
       "143300       Male          1.000000      Male          0.589583  \n",
       "143301     Female          1.000000    Female          1.000000  \n",
       "143302       Male          1.000000      Male          0.912577  \n",
       "143303       Male          1.000000      Male          0.912303  \n",
       "143304       Male          0.962371      Male          0.962126  \n",
       "\n",
       "[143305 rows x 93 columns]"
      ]
     },
     "execution_count": 145,
     "metadata": {},
     "output_type": "execute_result"
    }
   ],
   "source": [
    "pp_19_stock"
   ]
  },
  {
   "cell_type": "code",
   "execution_count": 154,
   "metadata": {
    "ExecuteTime": {
     "end_time": "2022-02-22T16:29:33.631398Z",
     "start_time": "2022-02-22T16:29:33.600014Z"
    }
   },
   "outputs": [],
   "source": [
    "dgi_19_new=pp_19_stock[['name','gender_NB','proba_predict_NB','gender_DT','proba_predict_DT','gender_RF','proba_predict_RF']]"
   ]
  },
  {
   "cell_type": "code",
   "execution_count": null,
   "metadata": {},
   "outputs": [],
   "source": []
  },
  {
   "cell_type": "markdown",
   "metadata": {},
   "source": [
    "# Sample prediction"
   ]
  },
  {
   "cell_type": "code",
   "execution_count": 156,
   "metadata": {
    "ExecuteTime": {
     "end_time": "2022-02-22T16:30:40.987965Z",
     "start_time": "2022-02-22T16:30:27.319399Z"
    }
   },
   "outputs": [],
   "source": [
    "dgi_19_new.to_excel(r\"C:\\Users\\Jebbar Abdelkader\\Desktop\\pp_19_stock_new.xlsx\")"
   ]
  },
  {
   "cell_type": "code",
   "execution_count": null,
   "metadata": {},
   "outputs": [],
   "source": []
  },
  {
   "cell_type": "code",
   "execution_count": null,
   "metadata": {},
   "outputs": [],
   "source": []
  },
  {
   "cell_type": "code",
   "execution_count": null,
   "metadata": {},
   "outputs": [],
   "source": []
  },
  {
   "cell_type": "code",
   "execution_count": null,
   "metadata": {},
   "outputs": [],
   "source": []
  },
  {
   "cell_type": "code",
   "execution_count": null,
   "metadata": {},
   "outputs": [],
   "source": []
  },
  {
   "cell_type": "code",
   "execution_count": null,
   "metadata": {},
   "outputs": [],
   "source": []
  },
  {
   "cell_type": "code",
   "execution_count": null,
   "metadata": {},
   "outputs": [],
   "source": []
  },
  {
   "cell_type": "code",
   "execution_count": null,
   "metadata": {},
   "outputs": [],
   "source": []
  },
  {
   "cell_type": "code",
   "execution_count": null,
   "metadata": {},
   "outputs": [],
   "source": []
  },
  {
   "cell_type": "code",
   "execution_count": null,
   "metadata": {},
   "outputs": [],
   "source": []
  },
  {
   "cell_type": "code",
   "execution_count": null,
   "metadata": {},
   "outputs": [],
   "source": []
  },
  {
   "cell_type": "code",
   "execution_count": null,
   "metadata": {},
   "outputs": [],
   "source": []
  },
  {
   "cell_type": "code",
   "execution_count": null,
   "metadata": {},
   "outputs": [],
   "source": []
  },
  {
   "cell_type": "code",
   "execution_count": null,
   "metadata": {},
   "outputs": [],
   "source": []
  },
  {
   "cell_type": "code",
   "execution_count": null,
   "metadata": {},
   "outputs": [],
   "source": []
  },
  {
   "cell_type": "code",
   "execution_count": null,
   "metadata": {},
   "outputs": [],
   "source": []
  },
  {
   "cell_type": "code",
   "execution_count": 131,
   "metadata": {
    "ExecuteTime": {
     "end_time": "2022-02-18T01:01:15.450980Z",
     "start_time": "2022-02-18T01:01:15.395083Z"
    }
   },
   "outputs": [
    {
     "data": {
      "text/html": [
       "<div>\n",
       "<style scoped>\n",
       "    .dataframe tbody tr th:only-of-type {\n",
       "        vertical-align: middle;\n",
       "    }\n",
       "\n",
       "    .dataframe tbody tr th {\n",
       "        vertical-align: top;\n",
       "    }\n",
       "\n",
       "    .dataframe thead th {\n",
       "        text-align: right;\n",
       "    }\n",
       "</style>\n",
       "<table border=\"1\" class=\"dataframe\">\n",
       "  <thead>\n",
       "    <tr style=\"text-align: right;\">\n",
       "      <th></th>\n",
       "      <th>Unnamed: 0</th>\n",
       "      <th>IFU</th>\n",
       "      <th>NOM</th>\n",
       "      <th>PRENOMS</th>\n",
       "      <th>ICE</th>\n",
       "      <th>NUM_REGISTRE_COMMERCE</th>\n",
       "      <th>CODE_CENTRE_REGISTRE_COMMERCE</th>\n",
       "      <th>VILLE</th>\n",
       "      <th>NUM_CNSS</th>\n",
       "      <th>ADRESSE</th>\n",
       "      <th>...</th>\n",
       "      <th>CODE_FORME_JURIDIQUE</th>\n",
       "      <th>CHIFFRE_DAFFAIRE_FORFAITAIRE</th>\n",
       "      <th>CHIFFRE_DAFFAIRE_RNR</th>\n",
       "      <th>CODE_OPTION_IMPOT</th>\n",
       "      <th>gender_NB</th>\n",
       "      <th>proba_predict_NB</th>\n",
       "      <th>gender_DT</th>\n",
       "      <th>proba_predict_DT</th>\n",
       "      <th>gender_RF</th>\n",
       "      <th>proba_predict_RF</th>\n",
       "    </tr>\n",
       "  </thead>\n",
       "  <tbody>\n",
       "    <tr>\n",
       "      <th>0</th>\n",
       "      <td>590</td>\n",
       "      <td>32515352</td>\n",
       "      <td>ghazouani med</td>\n",
       "      <td>123456789</td>\n",
       "      <td>1.658054e+12</td>\n",
       "      <td>NaN</td>\n",
       "      <td>NaN</td>\n",
       "      <td>OUEZZANE (M)</td>\n",
       "      <td>NaN</td>\n",
       "      <td>10 MOSQUE MED IV LAADIR</td>\n",
       "      <td>...</td>\n",
       "      <td>11</td>\n",
       "      <td>0</td>\n",
       "      <td>4000.00</td>\n",
       "      <td>NaN</td>\n",
       "      <td>Male</td>\n",
       "      <td>0.665442</td>\n",
       "      <td>Male</td>\n",
       "      <td>1.0</td>\n",
       "      <td>Male</td>\n",
       "      <td>0.859028</td>\n",
       "    </tr>\n",
       "    <tr>\n",
       "      <th>1</th>\n",
       "      <td>1356</td>\n",
       "      <td>87875954</td>\n",
       "      <td>ahammar yahya</td>\n",
       "      <td>123456789</td>\n",
       "      <td>NaN</td>\n",
       "      <td>NaN</td>\n",
       "      <td>NaN</td>\n",
       "      <td>NADOR (M)</td>\n",
       "      <td>NaN</td>\n",
       "      <td>3 IMM 44 RUE TOKYO</td>\n",
       "      <td>...</td>\n",
       "      <td>11</td>\n",
       "      <td>0</td>\n",
       "      <td>11116.66</td>\n",
       "      <td>NaN</td>\n",
       "      <td>Male</td>\n",
       "      <td>0.664344</td>\n",
       "      <td>Female</td>\n",
       "      <td>1.0</td>\n",
       "      <td>Female</td>\n",
       "      <td>0.900278</td>\n",
       "    </tr>\n",
       "    <tr>\n",
       "      <th>2</th>\n",
       "      <td>1494</td>\n",
       "      <td>81900220</td>\n",
       "      <td>belaouchi siham</td>\n",
       "      <td>123456789</td>\n",
       "      <td>5.069450e+11</td>\n",
       "      <td>45600.0</td>\n",
       "      <td>61.0</td>\n",
       "      <td>TANGER</td>\n",
       "      <td>7509584.0</td>\n",
       "      <td>NOUINOUICH COM. BAHRAOUIYINE</td>\n",
       "      <td>...</td>\n",
       "      <td>11</td>\n",
       "      <td>0</td>\n",
       "      <td>1082421.65</td>\n",
       "      <td>NaN</td>\n",
       "      <td>Female</td>\n",
       "      <td>0.801664</td>\n",
       "      <td>Male</td>\n",
       "      <td>1.0</td>\n",
       "      <td>Male</td>\n",
       "      <td>0.983333</td>\n",
       "    </tr>\n",
       "    <tr>\n",
       "      <th>3</th>\n",
       "      <td>1511</td>\n",
       "      <td>87853598</td>\n",
       "      <td>kantal morad</td>\n",
       "      <td>123456789</td>\n",
       "      <td>5.078520e+11</td>\n",
       "      <td>32802.0</td>\n",
       "      <td>49.0</td>\n",
       "      <td>NADOR (M)</td>\n",
       "      <td>8086367.0</td>\n",
       "      <td>QY REGULARES</td>\n",
       "      <td>...</td>\n",
       "      <td>11</td>\n",
       "      <td>0</td>\n",
       "      <td>415377.23</td>\n",
       "      <td>NaN</td>\n",
       "      <td>Male</td>\n",
       "      <td>0.798325</td>\n",
       "      <td>Male</td>\n",
       "      <td>1.0</td>\n",
       "      <td>Male</td>\n",
       "      <td>0.925000</td>\n",
       "    </tr>\n",
       "    <tr>\n",
       "      <th>4</th>\n",
       "      <td>3293</td>\n",
       "      <td>91705621</td>\n",
       "      <td>el hard rkia</td>\n",
       "      <td>123456789</td>\n",
       "      <td>NaN</td>\n",
       "      <td>NaN</td>\n",
       "      <td>NaN</td>\n",
       "      <td>TEMARA (M)</td>\n",
       "      <td>NaN</td>\n",
       "      <td>1891 MASS I</td>\n",
       "      <td>...</td>\n",
       "      <td>11</td>\n",
       "      <td>0</td>\n",
       "      <td>0.00</td>\n",
       "      <td>NaN</td>\n",
       "      <td>Male</td>\n",
       "      <td>0.623709</td>\n",
       "      <td>Female</td>\n",
       "      <td>1.0</td>\n",
       "      <td>Female</td>\n",
       "      <td>0.983333</td>\n",
       "    </tr>\n",
       "    <tr>\n",
       "      <th>...</th>\n",
       "      <td>...</td>\n",
       "      <td>...</td>\n",
       "      <td>...</td>\n",
       "      <td>...</td>\n",
       "      <td>...</td>\n",
       "      <td>...</td>\n",
       "      <td>...</td>\n",
       "      <td>...</td>\n",
       "      <td>...</td>\n",
       "      <td>...</td>\n",
       "      <td>...</td>\n",
       "      <td>...</td>\n",
       "      <td>...</td>\n",
       "      <td>...</td>\n",
       "      <td>...</td>\n",
       "      <td>...</td>\n",
       "      <td>...</td>\n",
       "      <td>...</td>\n",
       "      <td>...</td>\n",
       "      <td>...</td>\n",
       "      <td>...</td>\n",
       "    </tr>\n",
       "    <tr>\n",
       "      <th>91</th>\n",
       "      <td>68345</td>\n",
       "      <td>72402010</td>\n",
       "      <td>boussiri  allal</td>\n",
       "      <td>123456789</td>\n",
       "      <td>2.273042e+12</td>\n",
       "      <td>NaN</td>\n",
       "      <td>NaN</td>\n",
       "      <td>OUARZAZATE (M)</td>\n",
       "      <td>NaN</td>\n",
       "      <td>OULED BRAHIM AMZAOUROU SKOURA</td>\n",
       "      <td>...</td>\n",
       "      <td>11</td>\n",
       "      <td>0</td>\n",
       "      <td>236250.00</td>\n",
       "      <td>NaN</td>\n",
       "      <td>Male</td>\n",
       "      <td>0.798325</td>\n",
       "      <td>Female</td>\n",
       "      <td>1.0</td>\n",
       "      <td>Female</td>\n",
       "      <td>1.000000</td>\n",
       "    </tr>\n",
       "    <tr>\n",
       "      <th>92</th>\n",
       "      <td>70810</td>\n",
       "      <td>87855093</td>\n",
       "      <td>toummouhi fatima</td>\n",
       "      <td>123456789</td>\n",
       "      <td>1.920506e+12</td>\n",
       "      <td>27192.0</td>\n",
       "      <td>49.0</td>\n",
       "      <td>NADOR (M)</td>\n",
       "      <td>NaN</td>\n",
       "      <td>QUARTIER ARRID PAR RTE DE TAOUIMA</td>\n",
       "      <td>...</td>\n",
       "      <td>11</td>\n",
       "      <td>0</td>\n",
       "      <td>1995975.50</td>\n",
       "      <td>NaN</td>\n",
       "      <td>Female</td>\n",
       "      <td>0.969064</td>\n",
       "      <td>Female</td>\n",
       "      <td>1.0</td>\n",
       "      <td>Female</td>\n",
       "      <td>0.991667</td>\n",
       "    </tr>\n",
       "    <tr>\n",
       "      <th>93</th>\n",
       "      <td>70847</td>\n",
       "      <td>88216525</td>\n",
       "      <td>aarab nour-ddine</td>\n",
       "      <td>123456789</td>\n",
       "      <td>5.109920e+11</td>\n",
       "      <td>39166.0</td>\n",
       "      <td>49.0</td>\n",
       "      <td>BNI ANSAR (M)</td>\n",
       "      <td>9060857.0</td>\n",
       "      <td>PORT DE BENI ENSAR</td>\n",
       "      <td>...</td>\n",
       "      <td>11</td>\n",
       "      <td>0</td>\n",
       "      <td>0.00</td>\n",
       "      <td>NaN</td>\n",
       "      <td>Male</td>\n",
       "      <td>0.642725</td>\n",
       "      <td>Female</td>\n",
       "      <td>1.0</td>\n",
       "      <td>Male</td>\n",
       "      <td>0.548810</td>\n",
       "    </tr>\n",
       "    <tr>\n",
       "      <th>94</th>\n",
       "      <td>71667</td>\n",
       "      <td>38312740</td>\n",
       "      <td>zehouani mustapha</td>\n",
       "      <td>123456789</td>\n",
       "      <td>NaN</td>\n",
       "      <td>NaN</td>\n",
       "      <td>NaN</td>\n",
       "      <td>KHEMISSET (M)</td>\n",
       "      <td>NaN</td>\n",
       "      <td>57 CHATEAU D'EAU</td>\n",
       "      <td>...</td>\n",
       "      <td>11</td>\n",
       "      <td>25200</td>\n",
       "      <td>0.00</td>\n",
       "      <td>NaN</td>\n",
       "      <td>Male</td>\n",
       "      <td>0.748038</td>\n",
       "      <td>Female</td>\n",
       "      <td>1.0</td>\n",
       "      <td>Female</td>\n",
       "      <td>0.883333</td>\n",
       "    </tr>\n",
       "    <tr>\n",
       "      <th>95</th>\n",
       "      <td>73894</td>\n",
       "      <td>15580732</td>\n",
       "      <td>kaal med</td>\n",
       "      <td>123456789</td>\n",
       "      <td>NaN</td>\n",
       "      <td>NaN</td>\n",
       "      <td>NaN</td>\n",
       "      <td>FES</td>\n",
       "      <td>NaN</td>\n",
       "      <td>STATION PT TAXI N¿1015</td>\n",
       "      <td>...</td>\n",
       "      <td>11</td>\n",
       "      <td>18000</td>\n",
       "      <td>0.00</td>\n",
       "      <td>NaN</td>\n",
       "      <td>Male</td>\n",
       "      <td>0.664344</td>\n",
       "      <td>Male</td>\n",
       "      <td>1.0</td>\n",
       "      <td>Male</td>\n",
       "      <td>0.958333</td>\n",
       "    </tr>\n",
       "  </tbody>\n",
       "</table>\n",
       "<p>96 rows × 24 columns</p>\n",
       "</div>"
      ],
      "text/plain": [
       "    Unnamed: 0       IFU                NOM    PRENOMS           ICE  \\\n",
       "0          590  32515352      ghazouani med  123456789  1.658054e+12   \n",
       "1         1356  87875954      ahammar yahya  123456789           NaN   \n",
       "2         1494  81900220    belaouchi siham  123456789  5.069450e+11   \n",
       "3         1511  87853598       kantal morad  123456789  5.078520e+11   \n",
       "4         3293  91705621       el hard rkia  123456789           NaN   \n",
       "..         ...       ...                ...        ...           ...   \n",
       "91       68345  72402010    boussiri  allal  123456789  2.273042e+12   \n",
       "92       70810  87855093   toummouhi fatima  123456789  1.920506e+12   \n",
       "93       70847  88216525   aarab nour-ddine  123456789  5.109920e+11   \n",
       "94       71667  38312740  zehouani mustapha  123456789           NaN   \n",
       "95       73894  15580732           kaal med  123456789           NaN   \n",
       "\n",
       "    NUM_REGISTRE_COMMERCE  CODE_CENTRE_REGISTRE_COMMERCE           VILLE  \\\n",
       "0                     NaN                            NaN    OUEZZANE (M)   \n",
       "1                     NaN                            NaN       NADOR (M)   \n",
       "2                 45600.0                           61.0          TANGER   \n",
       "3                 32802.0                           49.0       NADOR (M)   \n",
       "4                     NaN                            NaN      TEMARA (M)   \n",
       "..                    ...                            ...             ...   \n",
       "91                    NaN                            NaN  OUARZAZATE (M)   \n",
       "92                27192.0                           49.0       NADOR (M)   \n",
       "93                39166.0                           49.0   BNI ANSAR (M)   \n",
       "94                    NaN                            NaN   KHEMISSET (M)   \n",
       "95                    NaN                            NaN             FES   \n",
       "\n",
       "     NUM_CNSS                            ADRESSE  ...  CODE_FORME_JURIDIQUE  \\\n",
       "0         NaN            10 MOSQUE MED IV LAADIR  ...                    11   \n",
       "1         NaN                 3 IMM 44 RUE TOKYO  ...                    11   \n",
       "2   7509584.0       NOUINOUICH COM. BAHRAOUIYINE  ...                    11   \n",
       "3   8086367.0                       QY REGULARES  ...                    11   \n",
       "4         NaN                        1891 MASS I  ...                    11   \n",
       "..        ...                                ...  ...                   ...   \n",
       "91        NaN      OULED BRAHIM AMZAOUROU SKOURA  ...                    11   \n",
       "92        NaN  QUARTIER ARRID PAR RTE DE TAOUIMA  ...                    11   \n",
       "93  9060857.0                 PORT DE BENI ENSAR  ...                    11   \n",
       "94        NaN                   57 CHATEAU D'EAU  ...                    11   \n",
       "95        NaN             STATION PT TAXI N¿1015  ...                    11   \n",
       "\n",
       "   CHIFFRE_DAFFAIRE_FORFAITAIRE  CHIFFRE_DAFFAIRE_RNR CODE_OPTION_IMPOT  \\\n",
       "0                             0               4000.00               NaN   \n",
       "1                             0              11116.66               NaN   \n",
       "2                             0            1082421.65               NaN   \n",
       "3                             0             415377.23               NaN   \n",
       "4                             0                  0.00               NaN   \n",
       "..                          ...                   ...               ...   \n",
       "91                            0             236250.00               NaN   \n",
       "92                            0            1995975.50               NaN   \n",
       "93                            0                  0.00               NaN   \n",
       "94                        25200                  0.00               NaN   \n",
       "95                        18000                  0.00               NaN   \n",
       "\n",
       "    gender_NB  proba_predict_NB  gender_DT proba_predict_DT gender_RF  \\\n",
       "0        Male          0.665442       Male              1.0      Male   \n",
       "1        Male          0.664344     Female              1.0    Female   \n",
       "2      Female          0.801664       Male              1.0      Male   \n",
       "3        Male          0.798325       Male              1.0      Male   \n",
       "4        Male          0.623709     Female              1.0    Female   \n",
       "..        ...               ...        ...              ...       ...   \n",
       "91       Male          0.798325     Female              1.0    Female   \n",
       "92     Female          0.969064     Female              1.0    Female   \n",
       "93       Male          0.642725     Female              1.0      Male   \n",
       "94       Male          0.748038     Female              1.0    Female   \n",
       "95       Male          0.664344       Male              1.0      Male   \n",
       "\n",
       "    proba_predict_RF  \n",
       "0           0.859028  \n",
       "1           0.900278  \n",
       "2           0.983333  \n",
       "3           0.925000  \n",
       "4           0.983333  \n",
       "..               ...  \n",
       "91          1.000000  \n",
       "92          0.991667  \n",
       "93          0.548810  \n",
       "94          0.883333  \n",
       "95          0.958333  \n",
       "\n",
       "[96 rows x 24 columns]"
      ]
     },
     "execution_count": 131,
     "metadata": {},
     "output_type": "execute_result"
    }
   ],
   "source": [
    "dgi_2018_integers"
   ]
  },
  {
   "cell_type": "code",
   "execution_count": 132,
   "metadata": {
    "ExecuteTime": {
     "end_time": "2022-02-18T01:01:15.466976Z",
     "start_time": "2022-02-18T01:01:15.450980Z"
    }
   },
   "outputs": [],
   "source": [
    "#DGI_prenom.to_excel(r\"C:\\Users\\Jebbar Abdelkader\\Desktop\\DGI_prenoms.xlsx\")"
   ]
  },
  {
   "cell_type": "code",
   "execution_count": 133,
   "metadata": {
    "ExecuteTime": {
     "end_time": "2022-02-18T01:01:15.482976Z",
     "start_time": "2022-02-18T01:01:15.466976Z"
    }
   },
   "outputs": [],
   "source": [
    "#female[female['gender_NB']=='Male']"
   ]
  },
  {
   "cell_type": "code",
   "execution_count": 134,
   "metadata": {
    "ExecuteTime": {
     "end_time": "2022-02-18T01:01:15.498979Z",
     "start_time": "2022-02-18T01:01:15.482976Z"
    }
   },
   "outputs": [],
   "source": [
    "#DGI_prenom"
   ]
  },
  {
   "cell_type": "code",
   "execution_count": 135,
   "metadata": {
    "ExecuteTime": {
     "end_time": "2022-02-18T01:01:15.514985Z",
     "start_time": "2022-02-18T01:01:15.498979Z"
    }
   },
   "outputs": [],
   "source": [
    "#DGI_names=pd.read_excel(r\"C:\\Users\\Jebbar Abdelkader\\Desktop\\DGI_prenoms.xlsx\")"
   ]
  },
  {
   "cell_type": "code",
   "execution_count": 136,
   "metadata": {
    "ExecuteTime": {
     "end_time": "2022-02-18T01:01:15.530976Z",
     "start_time": "2022-02-18T01:01:15.514985Z"
    }
   },
   "outputs": [],
   "source": [
    "#Accuracy of Models Decision Tree Classifier Works better than Naive Bayes\n",
    "#Accuracy on training set\n",
    "#print(dclf.score(dv.transform(dfX_train), dfy_train)) \n",
    "# Accuracy on test set\n",
    "#print(dclf.score(dv.transform(dfX_test), dfy_test))"
   ]
  },
  {
   "cell_type": "code",
   "execution_count": 137,
   "metadata": {
    "ExecuteTime": {
     "end_time": "2022-02-18T01:01:15.546977Z",
     "start_time": "2022-02-18T01:01:15.530976Z"
    }
   },
   "outputs": [],
   "source": [
    "import numpy as np"
   ]
  },
  {
   "cell_type": "code",
   "execution_count": 138,
   "metadata": {
    "ExecuteTime": {
     "end_time": "2022-02-18T01:01:15.594977Z",
     "start_time": "2022-02-18T01:01:15.546977Z"
    }
   },
   "outputs": [
    {
     "ename": "NameError",
     "evalue": "name 'DGI_names' is not defined",
     "output_type": "error",
     "traceback": [
      "\u001b[1;31m---------------------------------------------------------------------------\u001b[0m",
      "\u001b[1;31mNameError\u001b[0m                                 Traceback (most recent call last)",
      "\u001b[1;32mC:\\Users\\JEBBAR~1\\AppData\\Local\\Temp/ipykernel_6192/2758368882.py\u001b[0m in \u001b[0;36m<module>\u001b[1;34m\u001b[0m\n\u001b[1;32m----> 1\u001b[1;33m \u001b[0mDGI_names\u001b[0m\u001b[1;33m[\u001b[0m\u001b[1;34m'genre'\u001b[0m\u001b[1;33m]\u001b[0m\u001b[1;33m=\u001b[0m\u001b[0mnp\u001b[0m\u001b[1;33m.\u001b[0m\u001b[0mwhere\u001b[0m\u001b[1;33m(\u001b[0m\u001b[1;33m(\u001b[0m\u001b[0mDGI_names\u001b[0m\u001b[1;33m[\u001b[0m\u001b[1;34m'gender_RF'\u001b[0m\u001b[1;33m]\u001b[0m\u001b[1;33m==\u001b[0m\u001b[0mDGI_names\u001b[0m\u001b[1;33m[\u001b[0m\u001b[1;34m'gender_DT'\u001b[0m\u001b[1;33m]\u001b[0m\u001b[1;33m)\u001b[0m\u001b[1;33m&\u001b[0m\u001b[1;33m(\u001b[0m\u001b[0mDGI_names\u001b[0m\u001b[1;33m[\u001b[0m\u001b[1;34m'gender_DT'\u001b[0m\u001b[1;33m]\u001b[0m\u001b[1;33m==\u001b[0m\u001b[0mDGI_names\u001b[0m\u001b[1;33m[\u001b[0m\u001b[1;34m'gender_NB'\u001b[0m\u001b[1;33m]\u001b[0m\u001b[1;33m)\u001b[0m\u001b[1;33m,\u001b[0m\u001b[0mDGI_names\u001b[0m\u001b[1;33m[\u001b[0m\u001b[1;34m'gender_RF'\u001b[0m\u001b[1;33m]\u001b[0m\u001b[1;33m,\u001b[0m\u001b[1;32mFalse\u001b[0m\u001b[1;33m)\u001b[0m\u001b[1;33m\u001b[0m\u001b[1;33m\u001b[0m\u001b[0m\n\u001b[0m",
      "\u001b[1;31mNameError\u001b[0m: name 'DGI_names' is not defined"
     ]
    }
   ],
   "source": [
    "DGI_names['genre']=np.where((DGI_names['gender_RF']==DGI_names['gender_DT'])&(DGI_names['gender_DT']==DGI_names['gender_NB']),DGI_names['gender_RF'],False)"
   ]
  },
  {
   "cell_type": "code",
   "execution_count": 677,
   "metadata": {
    "ExecuteTime": {
     "end_time": "2022-02-16T21:59:11.403487Z",
     "start_time": "2022-02-16T21:59:11.379451Z"
    }
   },
   "outputs": [],
   "source": [
    "DGI_names['proba']=np.where((DGI_names['gender_RF']==DGI_names['gender_DT'])&(DGI_names['gender_DT']==DGI_names['gender_NB']),DGI_names['proba_predict_NB'],False)"
   ]
  },
  {
   "cell_type": "code",
   "execution_count": 678,
   "metadata": {
    "ExecuteTime": {
     "end_time": "2022-02-16T21:59:12.677328Z",
     "start_time": "2022-02-16T21:59:12.667609Z"
    }
   },
   "outputs": [],
   "source": [
    "#np.where((DGI_names['gender_RF']==DGI_names['gender_NB'])&((DGI_names['gender_RF']==DGI_names['gender_DT'])),DGI_names['gender_RF'],False)"
   ]
  },
  {
   "cell_type": "code",
   "execution_count": 679,
   "metadata": {
    "ExecuteTime": {
     "end_time": "2022-02-16T21:59:13.179999Z",
     "start_time": "2022-02-16T21:59:13.164713Z"
    }
   },
   "outputs": [
    {
     "data": {
      "text/plain": [
       "Male      7695\n",
       "False     4644\n",
       "Female    3064\n",
       "Name: genre, dtype: int64"
      ]
     },
     "execution_count": 679,
     "metadata": {},
     "output_type": "execute_result"
    }
   ],
   "source": [
    "DGI_names.genre.value_counts()"
   ]
  },
  {
   "cell_type": "code",
   "execution_count": 685,
   "metadata": {
    "ExecuteTime": {
     "end_time": "2022-02-16T22:00:54.271142Z",
     "start_time": "2022-02-16T22:00:54.237944Z"
    }
   },
   "outputs": [
    {
     "data": {
      "text/html": [
       "<div>\n",
       "<style scoped>\n",
       "    .dataframe tbody tr th:only-of-type {\n",
       "        vertical-align: middle;\n",
       "    }\n",
       "\n",
       "    .dataframe tbody tr th {\n",
       "        vertical-align: top;\n",
       "    }\n",
       "\n",
       "    .dataframe thead th {\n",
       "        text-align: right;\n",
       "    }\n",
       "</style>\n",
       "<table border=\"1\" class=\"dataframe\">\n",
       "  <thead>\n",
       "    <tr style=\"text-align: right;\">\n",
       "      <th></th>\n",
       "      <th>Unnamed: 0</th>\n",
       "      <th>name</th>\n",
       "      <th>gender_NB</th>\n",
       "      <th>proba_predict_NB</th>\n",
       "      <th>gender_DT</th>\n",
       "      <th>proba_predict_DT</th>\n",
       "      <th>gender_RF</th>\n",
       "      <th>proba_predict_RF</th>\n",
       "      <th>genre</th>\n",
       "      <th>proba</th>\n",
       "    </tr>\n",
       "  </thead>\n",
       "  <tbody>\n",
       "    <tr>\n",
       "      <th>3</th>\n",
       "      <td>3</td>\n",
       "      <td>sfai</td>\n",
       "      <td>Female</td>\n",
       "      <td>0.834777</td>\n",
       "      <td>Female</td>\n",
       "      <td>1.0</td>\n",
       "      <td>Female</td>\n",
       "      <td>1.000000</td>\n",
       "      <td>Female</td>\n",
       "      <td>0.834777</td>\n",
       "    </tr>\n",
       "    <tr>\n",
       "      <th>5</th>\n",
       "      <td>5</td>\n",
       "      <td>ijja</td>\n",
       "      <td>Female</td>\n",
       "      <td>0.858416</td>\n",
       "      <td>Female</td>\n",
       "      <td>1.0</td>\n",
       "      <td>Female</td>\n",
       "      <td>1.000000</td>\n",
       "      <td>Female</td>\n",
       "      <td>0.858416</td>\n",
       "    </tr>\n",
       "    <tr>\n",
       "      <th>8</th>\n",
       "      <td>8</td>\n",
       "      <td>arbia</td>\n",
       "      <td>Female</td>\n",
       "      <td>0.751951</td>\n",
       "      <td>Female</td>\n",
       "      <td>1.0</td>\n",
       "      <td>Female</td>\n",
       "      <td>1.000000</td>\n",
       "      <td>Female</td>\n",
       "      <td>0.751951</td>\n",
       "    </tr>\n",
       "    <tr>\n",
       "      <th>20</th>\n",
       "      <td>20</td>\n",
       "      <td>mahassine (osiris optic)</td>\n",
       "      <td>Female</td>\n",
       "      <td>0.987661</td>\n",
       "      <td>Female</td>\n",
       "      <td>1.0</td>\n",
       "      <td>Female</td>\n",
       "      <td>0.793333</td>\n",
       "      <td>Female</td>\n",
       "      <td>0.987661</td>\n",
       "    </tr>\n",
       "    <tr>\n",
       "      <th>29</th>\n",
       "      <td>29</td>\n",
       "      <td>fany</td>\n",
       "      <td>Female</td>\n",
       "      <td>0.876137</td>\n",
       "      <td>Female</td>\n",
       "      <td>1.0</td>\n",
       "      <td>Female</td>\n",
       "      <td>1.000000</td>\n",
       "      <td>Female</td>\n",
       "      <td>0.876137</td>\n",
       "    </tr>\n",
       "    <tr>\n",
       "      <th>...</th>\n",
       "      <td>...</td>\n",
       "      <td>...</td>\n",
       "      <td>...</td>\n",
       "      <td>...</td>\n",
       "      <td>...</td>\n",
       "      <td>...</td>\n",
       "      <td>...</td>\n",
       "      <td>...</td>\n",
       "      <td>...</td>\n",
       "      <td>...</td>\n",
       "    </tr>\n",
       "    <tr>\n",
       "      <th>15380</th>\n",
       "      <td>15380</td>\n",
       "      <td>maazouza</td>\n",
       "      <td>Female</td>\n",
       "      <td>0.858416</td>\n",
       "      <td>Female</td>\n",
       "      <td>1.0</td>\n",
       "      <td>Female</td>\n",
       "      <td>1.000000</td>\n",
       "      <td>Female</td>\n",
       "      <td>0.858416</td>\n",
       "    </tr>\n",
       "    <tr>\n",
       "      <th>15384</th>\n",
       "      <td>15384</td>\n",
       "      <td>agazzara</td>\n",
       "      <td>Female</td>\n",
       "      <td>0.503841</td>\n",
       "      <td>Female</td>\n",
       "      <td>1.0</td>\n",
       "      <td>Female</td>\n",
       "      <td>0.910000</td>\n",
       "      <td>Female</td>\n",
       "      <td>0.503841</td>\n",
       "    </tr>\n",
       "    <tr>\n",
       "      <th>15387</th>\n",
       "      <td>15387</td>\n",
       "      <td>rada</td>\n",
       "      <td>Female</td>\n",
       "      <td>0.889915</td>\n",
       "      <td>Female</td>\n",
       "      <td>1.0</td>\n",
       "      <td>Female</td>\n",
       "      <td>1.000000</td>\n",
       "      <td>Female</td>\n",
       "      <td>0.889915</td>\n",
       "    </tr>\n",
       "    <tr>\n",
       "      <th>15395</th>\n",
       "      <td>15395</td>\n",
       "      <td>par ammadi latifa</td>\n",
       "      <td>Female</td>\n",
       "      <td>0.941481</td>\n",
       "      <td>Female</td>\n",
       "      <td>1.0</td>\n",
       "      <td>Female</td>\n",
       "      <td>0.790000</td>\n",
       "      <td>Female</td>\n",
       "      <td>0.941481</td>\n",
       "    </tr>\n",
       "    <tr>\n",
       "      <th>15399</th>\n",
       "      <td>15399</td>\n",
       "      <td>chatiri</td>\n",
       "      <td>Female</td>\n",
       "      <td>0.502609</td>\n",
       "      <td>Female</td>\n",
       "      <td>1.0</td>\n",
       "      <td>Female</td>\n",
       "      <td>0.783333</td>\n",
       "      <td>Female</td>\n",
       "      <td>0.502609</td>\n",
       "    </tr>\n",
       "  </tbody>\n",
       "</table>\n",
       "<p>3064 rows × 10 columns</p>\n",
       "</div>"
      ],
      "text/plain": [
       "       Unnamed: 0                      name gender_NB  proba_predict_NB  \\\n",
       "3               3                      sfai    Female          0.834777   \n",
       "5               5                      ijja    Female          0.858416   \n",
       "8               8                     arbia    Female          0.751951   \n",
       "20             20  mahassine (osiris optic)    Female          0.987661   \n",
       "29             29                      fany    Female          0.876137   \n",
       "...           ...                       ...       ...               ...   \n",
       "15380       15380                  maazouza    Female          0.858416   \n",
       "15384       15384                  agazzara    Female          0.503841   \n",
       "15387       15387                      rada    Female          0.889915   \n",
       "15395       15395         par ammadi latifa    Female          0.941481   \n",
       "15399       15399                   chatiri    Female          0.502609   \n",
       "\n",
       "      gender_DT  proba_predict_DT gender_RF  proba_predict_RF   genre  \\\n",
       "3        Female               1.0    Female          1.000000  Female   \n",
       "5        Female               1.0    Female          1.000000  Female   \n",
       "8        Female               1.0    Female          1.000000  Female   \n",
       "20       Female               1.0    Female          0.793333  Female   \n",
       "29       Female               1.0    Female          1.000000  Female   \n",
       "...         ...               ...       ...               ...     ...   \n",
       "15380    Female               1.0    Female          1.000000  Female   \n",
       "15384    Female               1.0    Female          0.910000  Female   \n",
       "15387    Female               1.0    Female          1.000000  Female   \n",
       "15395    Female               1.0    Female          0.790000  Female   \n",
       "15399    Female               1.0    Female          0.783333  Female   \n",
       "\n",
       "          proba  \n",
       "3      0.834777  \n",
       "5      0.858416  \n",
       "8      0.751951  \n",
       "20     0.987661  \n",
       "29     0.876137  \n",
       "...         ...  \n",
       "15380  0.858416  \n",
       "15384  0.503841  \n",
       "15387  0.889915  \n",
       "15395  0.941481  \n",
       "15399  0.502609  \n",
       "\n",
       "[3064 rows x 10 columns]"
      ]
     },
     "execution_count": 685,
     "metadata": {},
     "output_type": "execute_result"
    }
   ],
   "source": [
    "DGI_names[DGI_names['genre']=='Female']"
   ]
  },
  {
   "cell_type": "code",
   "execution_count": 686,
   "metadata": {
    "ExecuteTime": {
     "end_time": "2022-02-16T22:02:13.309535Z",
     "start_time": "2022-02-16T22:02:13.253187Z"
    }
   },
   "outputs": [
    {
     "data": {
      "text/html": [
       "<div>\n",
       "<style scoped>\n",
       "    .dataframe tbody tr th:only-of-type {\n",
       "        vertical-align: middle;\n",
       "    }\n",
       "\n",
       "    .dataframe tbody tr th {\n",
       "        vertical-align: top;\n",
       "    }\n",
       "\n",
       "    .dataframe thead th {\n",
       "        text-align: right;\n",
       "    }\n",
       "</style>\n",
       "<table border=\"1\" class=\"dataframe\">\n",
       "  <thead>\n",
       "    <tr style=\"text-align: right;\">\n",
       "      <th></th>\n",
       "      <th>Unnamed: 0</th>\n",
       "      <th>name</th>\n",
       "      <th>gender_NB</th>\n",
       "      <th>proba_predict_NB</th>\n",
       "      <th>gender_DT</th>\n",
       "      <th>proba_predict_DT</th>\n",
       "      <th>gender_RF</th>\n",
       "      <th>proba_predict_RF</th>\n",
       "      <th>genre</th>\n",
       "      <th>proba</th>\n",
       "    </tr>\n",
       "  </thead>\n",
       "  <tbody>\n",
       "    <tr>\n",
       "      <th>6</th>\n",
       "      <td>6</td>\n",
       "      <td>el boutahiri</td>\n",
       "      <td>Male</td>\n",
       "      <td>0.832567</td>\n",
       "      <td>Female</td>\n",
       "      <td>1.0</td>\n",
       "      <td>Male</td>\n",
       "      <td>0.810000</td>\n",
       "      <td>False</td>\n",
       "      <td>0.0</td>\n",
       "    </tr>\n",
       "    <tr>\n",
       "      <th>12</th>\n",
       "      <td>12</td>\n",
       "      <td>dan</td>\n",
       "      <td>Male</td>\n",
       "      <td>0.748038</td>\n",
       "      <td>Female</td>\n",
       "      <td>0.5</td>\n",
       "      <td>Male</td>\n",
       "      <td>0.529714</td>\n",
       "      <td>False</td>\n",
       "      <td>0.0</td>\n",
       "    </tr>\n",
       "    <tr>\n",
       "      <th>13</th>\n",
       "      <td>13</td>\n",
       "      <td>hamidi</td>\n",
       "      <td>Male</td>\n",
       "      <td>0.664344</td>\n",
       "      <td>Female</td>\n",
       "      <td>1.0</td>\n",
       "      <td>Male</td>\n",
       "      <td>0.760000</td>\n",
       "      <td>False</td>\n",
       "      <td>0.0</td>\n",
       "    </tr>\n",
       "    <tr>\n",
       "      <th>14</th>\n",
       "      <td>14</td>\n",
       "      <td>habboudi</td>\n",
       "      <td>Female</td>\n",
       "      <td>0.502609</td>\n",
       "      <td>Male</td>\n",
       "      <td>1.0</td>\n",
       "      <td>Male</td>\n",
       "      <td>0.950000</td>\n",
       "      <td>False</td>\n",
       "      <td>0.0</td>\n",
       "    </tr>\n",
       "    <tr>\n",
       "      <th>27</th>\n",
       "      <td>27</td>\n",
       "      <td>othmane</td>\n",
       "      <td>Female</td>\n",
       "      <td>0.502609</td>\n",
       "      <td>Male</td>\n",
       "      <td>1.0</td>\n",
       "      <td>Male</td>\n",
       "      <td>0.664583</td>\n",
       "      <td>False</td>\n",
       "      <td>0.0</td>\n",
       "    </tr>\n",
       "    <tr>\n",
       "      <th>...</th>\n",
       "      <td>...</td>\n",
       "      <td>...</td>\n",
       "      <td>...</td>\n",
       "      <td>...</td>\n",
       "      <td>...</td>\n",
       "      <td>...</td>\n",
       "      <td>...</td>\n",
       "      <td>...</td>\n",
       "      <td>...</td>\n",
       "      <td>...</td>\n",
       "    </tr>\n",
       "    <tr>\n",
       "      <th>15393</th>\n",
       "      <td>15393</td>\n",
       "      <td>sophie marie ghislain</td>\n",
       "      <td>Female</td>\n",
       "      <td>0.986376</td>\n",
       "      <td>Male</td>\n",
       "      <td>1.0</td>\n",
       "      <td>Male</td>\n",
       "      <td>0.790000</td>\n",
       "      <td>False</td>\n",
       "      <td>0.0</td>\n",
       "    </tr>\n",
       "    <tr>\n",
       "      <th>15394</th>\n",
       "      <td>15394</td>\n",
       "      <td>ettoubi</td>\n",
       "      <td>Female</td>\n",
       "      <td>0.503841</td>\n",
       "      <td>Female</td>\n",
       "      <td>1.0</td>\n",
       "      <td>Male</td>\n",
       "      <td>0.710000</td>\n",
       "      <td>False</td>\n",
       "      <td>0.0</td>\n",
       "    </tr>\n",
       "    <tr>\n",
       "      <th>15397</th>\n",
       "      <td>15397</td>\n",
       "      <td>aicha heritiers</td>\n",
       "      <td>Female</td>\n",
       "      <td>0.875601</td>\n",
       "      <td>Male</td>\n",
       "      <td>1.0</td>\n",
       "      <td>Male</td>\n",
       "      <td>0.865000</td>\n",
       "      <td>False</td>\n",
       "      <td>0.0</td>\n",
       "    </tr>\n",
       "    <tr>\n",
       "      <th>15401</th>\n",
       "      <td>15401</td>\n",
       "      <td>idrisse</td>\n",
       "      <td>Male</td>\n",
       "      <td>0.664344</td>\n",
       "      <td>Female</td>\n",
       "      <td>1.0</td>\n",
       "      <td>Female</td>\n",
       "      <td>0.619000</td>\n",
       "      <td>False</td>\n",
       "      <td>0.0</td>\n",
       "    </tr>\n",
       "    <tr>\n",
       "      <th>15402</th>\n",
       "      <td>15402</td>\n",
       "      <td>mhammed atae allah</td>\n",
       "      <td>Male</td>\n",
       "      <td>0.571287</td>\n",
       "      <td>Female</td>\n",
       "      <td>1.0</td>\n",
       "      <td>Female</td>\n",
       "      <td>0.933333</td>\n",
       "      <td>False</td>\n",
       "      <td>0.0</td>\n",
       "    </tr>\n",
       "  </tbody>\n",
       "</table>\n",
       "<p>4644 rows × 10 columns</p>\n",
       "</div>"
      ],
      "text/plain": [
       "       Unnamed: 0                   name gender_NB  proba_predict_NB  \\\n",
       "6               6           el boutahiri      Male          0.832567   \n",
       "12             12                    dan      Male          0.748038   \n",
       "13             13                 hamidi      Male          0.664344   \n",
       "14             14               habboudi    Female          0.502609   \n",
       "27             27                othmane    Female          0.502609   \n",
       "...           ...                    ...       ...               ...   \n",
       "15393       15393  sophie marie ghislain    Female          0.986376   \n",
       "15394       15394                ettoubi    Female          0.503841   \n",
       "15397       15397        aicha heritiers    Female          0.875601   \n",
       "15401       15401                idrisse      Male          0.664344   \n",
       "15402       15402     mhammed atae allah      Male          0.571287   \n",
       "\n",
       "      gender_DT  proba_predict_DT gender_RF  proba_predict_RF  genre  proba  \n",
       "6        Female               1.0      Male          0.810000  False    0.0  \n",
       "12       Female               0.5      Male          0.529714  False    0.0  \n",
       "13       Female               1.0      Male          0.760000  False    0.0  \n",
       "14         Male               1.0      Male          0.950000  False    0.0  \n",
       "27         Male               1.0      Male          0.664583  False    0.0  \n",
       "...         ...               ...       ...               ...    ...    ...  \n",
       "15393      Male               1.0      Male          0.790000  False    0.0  \n",
       "15394    Female               1.0      Male          0.710000  False    0.0  \n",
       "15397      Male               1.0      Male          0.865000  False    0.0  \n",
       "15401    Female               1.0    Female          0.619000  False    0.0  \n",
       "15402    Female               1.0    Female          0.933333  False    0.0  \n",
       "\n",
       "[4644 rows x 10 columns]"
      ]
     },
     "execution_count": 686,
     "metadata": {},
     "output_type": "execute_result"
    }
   ],
   "source": [
    "DGI_names[DGI_names['genre']==False]"
   ]
  },
  {
   "cell_type": "code",
   "execution_count": 687,
   "metadata": {
    "ExecuteTime": {
     "end_time": "2022-02-16T22:03:35.340457Z",
     "start_time": "2022-02-16T22:03:32.627542Z"
    }
   },
   "outputs": [],
   "source": [
    "DGI_names.to_excel(r\"C:\\Users\\Jebbar Abdelkader\\Desktop\\DGI_names.xlsx\")    "
   ]
  },
  {
   "cell_type": "code",
   "execution_count": null,
   "metadata": {
    "ExecuteTime": {
     "end_time": "2022-02-16T11:57:18.786209Z",
     "start_time": "2022-02-16T11:57:18.738707Z"
    }
   },
   "outputs": [],
   "source": []
  },
  {
   "cell_type": "code",
   "execution_count": null,
   "metadata": {},
   "outputs": [],
   "source": []
  }
 ],
 "metadata": {
  "kernelspec": {
   "display_name": "Python 3 (ipykernel)",
   "language": "python",
   "name": "python3"
  },
  "language_info": {
   "codemirror_mode": {
    "name": "ipython",
    "version": 3
   },
   "file_extension": ".py",
   "mimetype": "text/x-python",
   "name": "python",
   "nbconvert_exporter": "python",
   "pygments_lexer": "ipython3",
   "version": "3.9.7"
  },
  "toc": {
   "base_numbering": 1,
   "nav_menu": {},
   "number_sections": true,
   "sideBar": true,
   "skip_h1_title": false,
   "title_cell": "Table of Contents",
   "title_sidebar": "Contents",
   "toc_cell": false,
   "toc_position": {
    "height": "calc(100% - 180px)",
    "left": "10px",
    "top": "150px",
    "width": "390px"
   },
   "toc_section_display": true,
   "toc_window_display": true
  }
 },
 "nbformat": 4,
 "nbformat_minor": 2
}
