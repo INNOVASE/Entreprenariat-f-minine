{
 "cells": [
  {
   "cell_type": "markdown",
   "metadata": {
    "id": "yCahbBEsMCSJ"
   },
   "source": [
    "# 1. Predicting Gender of Brazilian Names Using Deep Learning\n"
   ]
  },
  {
   "cell_type": "markdown",
   "metadata": {
    "id": "KENlSnN4ftje"
   },
   "source": [
    "## 1.1 Necessary libraries"
   ]
  },
  {
   "cell_type": "code",
   "execution_count": 87,
   "metadata": {
    "ExecuteTime": {
     "end_time": "2022-02-15T00:25:46.216670Z",
     "start_time": "2022-02-15T00:25:46.202708Z"
    },
    "id": "TEHtFf75L2bP"
   },
   "outputs": [],
   "source": [
    "import pandas as pd                       \n",
    "import numpy as np\n",
    "from tensorflow import keras\n",
    "from keras.layers import Dense, Dropout, Flatten, GRU, SimpleRNN, LSTM, Bidirectional, Activation, TimeDistributed\n",
    "from keras.layers.convolutional import Conv1D, MaxPooling1D\n",
    "from sklearn.model_selection import train_test_split\n",
    "from tensorflow.keras import layers\n",
    "from tensorflow.keras.regularizers import l2\n",
    "import matplotlib.pyplot as plt\n"
   ]
  },
  {
   "cell_type": "markdown",
   "metadata": {
    "id": "C4n2Osouf2vD"
   },
   "source": [
    "## 1.2 Read the dataset"
   ]
  },
  {
   "cell_type": "code",
   "execution_count": 88,
   "metadata": {
    "ExecuteTime": {
     "end_time": "2022-02-15T00:25:50.934240Z",
     "start_time": "2022-02-15T00:25:47.061991Z"
    },
    "colab": {
     "base_uri": "https://localhost:8080/",
     "height": 224
    },
    "id": "j3e-YoOWO9hE",
    "outputId": "cba99efb-843c-409f-cffa-7610f3cb6d9e"
   },
   "outputs": [
    {
     "data": {
      "text/html": [
       "<div>\n",
       "<style scoped>\n",
       "    .dataframe tbody tr th:only-of-type {\n",
       "        vertical-align: middle;\n",
       "    }\n",
       "\n",
       "    .dataframe tbody tr th {\n",
       "        vertical-align: top;\n",
       "    }\n",
       "\n",
       "    .dataframe thead th {\n",
       "        text-align: right;\n",
       "    }\n",
       "</style>\n",
       "<table border=\"1\" class=\"dataframe\">\n",
       "  <thead>\n",
       "    <tr style=\"text-align: right;\">\n",
       "      <th></th>\n",
       "      <th>name</th>\n",
       "      <th>sex</th>\n",
       "    </tr>\n",
       "  </thead>\n",
       "  <tbody>\n",
       "    <tr>\n",
       "      <th>0</th>\n",
       "      <td>Mary</td>\n",
       "      <td>F</td>\n",
       "    </tr>\n",
       "    <tr>\n",
       "      <th>1</th>\n",
       "      <td>Anna</td>\n",
       "      <td>F</td>\n",
       "    </tr>\n",
       "    <tr>\n",
       "      <th>2</th>\n",
       "      <td>Emma</td>\n",
       "      <td>F</td>\n",
       "    </tr>\n",
       "    <tr>\n",
       "      <th>3</th>\n",
       "      <td>Elizabeth</td>\n",
       "      <td>F</td>\n",
       "    </tr>\n",
       "    <tr>\n",
       "      <th>4</th>\n",
       "      <td>Minnie</td>\n",
       "      <td>F</td>\n",
       "    </tr>\n",
       "  </tbody>\n",
       "</table>\n",
       "</div>"
      ],
      "text/plain": [
       "        name sex\n",
       "0       Mary   F\n",
       "1       Anna   F\n",
       "2       Emma   F\n",
       "3  Elizabeth   F\n",
       "4     Minnie   F"
      ]
     },
     "execution_count": 88,
     "metadata": {},
     "output_type": "execute_result"
    }
   ],
   "source": [
    "# Load our data\n",
    "df = pd.read_excel(r\"C:\\Users\\Jebbar Abdelkader\\Desktop\\fiabilisation_28_01_2022\\Gender Classification With  Machine Learning\\training.xlsx\")\n",
    "df.head()"
   ]
  },
  {
   "cell_type": "code",
   "execution_count": 89,
   "metadata": {
    "ExecuteTime": {
     "end_time": "2022-02-15T00:25:50.950243Z",
     "start_time": "2022-02-15T00:25:50.935231Z"
    },
    "colab": {
     "base_uri": "https://localhost:8080/"
    },
    "id": "E_N6fZ4JbXFm",
    "outputId": "0ac30748-eff9-4d73-9e8f-e1ba5728ece7"
   },
   "outputs": [
    {
     "name": "stdout",
     "output_type": "stream",
     "text": [
      "<class 'pandas.core.frame.DataFrame'>\n",
      "RangeIndex: 96438 entries, 0 to 96437\n",
      "Data columns (total 2 columns):\n",
      " #   Column  Non-Null Count  Dtype \n",
      "---  ------  --------------  ----- \n",
      " 0   name    96438 non-null  object\n",
      " 1   sex     96438 non-null  object\n",
      "dtypes: object(2)\n",
      "memory usage: 1.5+ MB\n"
     ]
    }
   ],
   "source": [
    "df.info()"
   ]
  },
  {
   "cell_type": "markdown",
   "metadata": {
    "id": "WzVdVCUKRKCQ"
   },
   "source": [
    "### 1.2.1 Preparing the data "
   ]
  },
  {
   "cell_type": "code",
   "execution_count": 90,
   "metadata": {
    "ExecuteTime": {
     "end_time": "2022-02-15T00:25:56.340844Z",
     "start_time": "2022-02-15T00:25:56.305301Z"
    },
    "id": "Oh_6bEAWbgqT"
   },
   "outputs": [],
   "source": [
    "y = df['sex'].astype(\"category\").cat.codes.values    # y labels into numbers 0 is F and 1 is M\n",
    "names = df['name'].apply(lambda x: x.lower())             # input names"
   ]
  },
  {
   "cell_type": "code",
   "execution_count": 91,
   "metadata": {
    "ExecuteTime": {
     "end_time": "2022-02-15T00:26:21.161748Z",
     "start_time": "2022-02-15T00:26:20.783749Z"
    },
    "colab": {
     "base_uri": "https://localhost:8080/"
    },
    "id": "CTDY5VYBl64k",
    "outputId": "e95b0b9e-454d-49d5-ff93-d33c200fa27f"
   },
   "outputs": [
    {
     "name": "stdout",
     "output_type": "stream",
     "text": [
      "N : 117\n",
      "M : 35097\n",
      "F : 61224\n",
      "96438\n"
     ]
    }
   ],
   "source": [
    "print(\"N : \" + str(sum(y==2)))\n",
    "print(\"M : \" + str(sum(y==1)))\n",
    "print(\"F : \" + str(sum(y==0)))\n",
    "print(len(y))"
   ]
  },
  {
   "cell_type": "markdown",
   "metadata": {
    "id": "unV-k__Lgb0E"
   },
   "source": [
    "## 1.3 Encoding Words\n",
    "\n",
    "Neural networks can only learn to find patterns in numerical data, so it is necessary to convert our data into numeric values with word encoding or tokenization. "
   ]
  },
  {
   "cell_type": "code",
   "execution_count": 92,
   "metadata": {
    "ExecuteTime": {
     "end_time": "2022-02-15T00:26:26.423895Z",
     "start_time": "2022-02-15T00:26:26.386953Z"
    },
    "id": "8zNIym5uBmHS"
   },
   "outputs": [],
   "source": [
    "#word encoding\n",
    "maxlen = 20                                               # max lenght of a name\n",
    "'''Define a vocabulary which corresponds to all the unique letters encountered'''\n",
    "vocab = set(' '.join([str(i) for i in names]))            # creating a vocab\n",
    "vocab.add('END')\n",
    "len_vocab = len(vocab)\n",
    "''' The dictionary maps each letter of vocabulary to a number '''\n",
    "char_index = dict((c, i) for i, c in enumerate(vocab))    # creating a dictionary\n",
    "\n",
    "# Builds an empty line with a 1 at the index of character\n",
    "def set_flag(i):\n",
    "    aux = np.zeros(len_vocab);\n",
    "    aux[i] = 1\n",
    "    return list(aux)\n",
    "\n",
    "# Truncate names and create the matrix\n",
    "def prepare_encod_names(X):\n",
    "    vec_names = []\n",
    "    trunc_name = [str(i)[0:maxlen] for i in X]  # consider only the first 20 characters\n",
    "    for i in trunc_name:\n",
    "        tmp = [set_flag(char_index[j]) for j in str(i)]\n",
    "        for k in range(0,maxlen - len(str(i))):\n",
    "            tmp.append(set_flag(char_index[\"END\"]))\n",
    "        vec_names.append(tmp)\n",
    "    return vec_names"
   ]
  },
  {
   "cell_type": "code",
   "execution_count": 93,
   "metadata": {
    "ExecuteTime": {
     "end_time": "2022-02-15T00:26:37.581338Z",
     "start_time": "2022-02-15T00:26:27.495000Z"
    },
    "id": "7pNJbOIUeqFf"
   },
   "outputs": [],
   "source": [
    "x = prepare_encod_names(names.values)   # Now the names are encod as a vector of numbers "
   ]
  },
  {
   "cell_type": "markdown",
   "metadata": {
    "id": "FXl0jak5hfeW"
   },
   "source": [
    "## 1.4 Split the data into test and train"
   ]
  },
  {
   "cell_type": "code",
   "execution_count": 94,
   "metadata": {
    "ExecuteTime": {
     "end_time": "2022-02-15T00:26:41.266542Z",
     "start_time": "2022-02-15T00:26:37.583333Z"
    },
    "id": "23kNSk8pb_W1"
   },
   "outputs": [],
   "source": [
    "# train, val, test set will be 60%, 20%, 20% of the dataset respectively\n",
    "x_train, x_test, y_train, y_test = train_test_split(x, y, test_size=0.2, random_state=28)\n",
    "x_train, x_val, y_train, y_val = train_test_split(x_train, y_train, test_size=0.2, random_state=40)\n",
    "x_train = np.asarray(x_train)\n",
    "y_train = np.asarray(y_train)\n",
    "x_test = np.asarray(x_test)\n",
    "y_test = np.asarray(y_test)\n",
    "x_val = np.asarray(x_val)\n",
    "y_val = np.asarray(y_val)"
   ]
  },
  {
   "cell_type": "markdown",
   "metadata": {
    "id": "cdG3or3Jhqle"
   },
   "source": [
    "## 1.5 Building the CNN Model"
   ]
  },
  {
   "cell_type": "code",
   "execution_count": 11,
   "metadata": {
    "ExecuteTime": {
     "end_time": "2022-02-14T23:39:38.461334Z",
     "start_time": "2022-02-14T23:38:46.667578Z"
    },
    "colab": {
     "base_uri": "https://localhost:8080/"
    },
    "id": "o_NSKAuiMh0p",
    "outputId": "ba94a925-26e9-4818-d4f7-f838b18ce9e8"
   },
   "outputs": [
    {
     "name": "stdout",
     "output_type": "stream",
     "text": [
      "Epoch 1/20\n",
      "483/483 [==============================] - 3s 5ms/step - loss: 0.6377 - accuracy: 0.6385 - val_loss: 0.6040 - val_accuracy: 0.6541\n",
      "Epoch 2/20\n",
      "483/483 [==============================] - 2s 5ms/step - loss: 0.5389 - accuracy: 0.7233 - val_loss: 0.4710 - val_accuracy: 0.7683\n",
      "Epoch 3/20\n",
      "483/483 [==============================] - 2s 5ms/step - loss: 0.4476 - accuracy: 0.7894 - val_loss: 0.4168 - val_accuracy: 0.8079\n",
      "Epoch 4/20\n",
      "483/483 [==============================] - 3s 5ms/step - loss: 0.4159 - accuracy: 0.8097 - val_loss: 0.3968 - val_accuracy: 0.8204\n",
      "Epoch 5/20\n",
      "483/483 [==============================] - 3s 5ms/step - loss: 0.3994 - accuracy: 0.8195 - val_loss: 0.3916 - val_accuracy: 0.8264\n",
      "Epoch 6/20\n",
      "483/483 [==============================] - 2s 5ms/step - loss: 0.3902 - accuracy: 0.8238 - val_loss: 0.3794 - val_accuracy: 0.8297\n",
      "Epoch 7/20\n",
      "483/483 [==============================] - 3s 5ms/step - loss: 0.3840 - accuracy: 0.8269 - val_loss: 0.3805 - val_accuracy: 0.8257\n",
      "Epoch 8/20\n",
      "483/483 [==============================] - 3s 5ms/step - loss: 0.3789 - accuracy: 0.8300 - val_loss: 0.3701 - val_accuracy: 0.8356\n",
      "Epoch 9/20\n",
      "483/483 [==============================] - 3s 5ms/step - loss: 0.3742 - accuracy: 0.8315 - val_loss: 0.3854 - val_accuracy: 0.8235\n",
      "Epoch 10/20\n",
      "483/483 [==============================] - 3s 5ms/step - loss: 0.3712 - accuracy: 0.8335 - val_loss: 0.3671 - val_accuracy: 0.8336\n",
      "Epoch 11/20\n",
      "483/483 [==============================] - 3s 5ms/step - loss: 0.3679 - accuracy: 0.8347 - val_loss: 0.3641 - val_accuracy: 0.8366\n",
      "Epoch 12/20\n",
      "483/483 [==============================] - 3s 5ms/step - loss: 0.3651 - accuracy: 0.8357 - val_loss: 0.3689 - val_accuracy: 0.8342\n",
      "Epoch 13/20\n",
      "483/483 [==============================] - 3s 5ms/step - loss: 0.3621 - accuracy: 0.8376 - val_loss: 0.3643 - val_accuracy: 0.8365\n",
      "Epoch 14/20\n",
      "483/483 [==============================] - 3s 5ms/step - loss: 0.3602 - accuracy: 0.8390 - val_loss: 0.3558 - val_accuracy: 0.8407\n",
      "Epoch 15/20\n",
      "483/483 [==============================] - 3s 5ms/step - loss: 0.3577 - accuracy: 0.8402 - val_loss: 0.3527 - val_accuracy: 0.8421\n",
      "Epoch 16/20\n",
      "483/483 [==============================] - 3s 5ms/step - loss: 0.3552 - accuracy: 0.8412 - val_loss: 0.3515 - val_accuracy: 0.8426\n",
      "Epoch 17/20\n",
      "483/483 [==============================] - 3s 5ms/step - loss: 0.3538 - accuracy: 0.8419 - val_loss: 0.3533 - val_accuracy: 0.8424\n",
      "Epoch 18/20\n",
      "483/483 [==============================] - 3s 5ms/step - loss: 0.3519 - accuracy: 0.8430 - val_loss: 0.3481 - val_accuracy: 0.8434\n",
      "Epoch 19/20\n",
      "483/483 [==============================] - 3s 5ms/step - loss: 0.3506 - accuracy: 0.8435 - val_loss: 0.3478 - val_accuracy: 0.8445\n",
      "Epoch 20/20\n",
      "483/483 [==============================] - 3s 5ms/step - loss: 0.3487 - accuracy: 0.8444 - val_loss: 0.3482 - val_accuracy: 0.8459\n",
      "603/603 [==============================] - 1s 936us/step - loss: 0.3522 - accuracy: 0.8431\n",
      "Accuracy: 84.31%\n"
     ]
    }
   ],
   "source": [
    "CNNmodel = keras.Sequential()  \n",
    "CNNmodel.add(Conv1D(32, 2, activation='relu', input_shape=(20,45) )) # 32 convolution filters used each of size 2\n",
    "CNNmodel.add(Conv1D(64, 3, activation='relu' ))       # 64 convolution filters used each of size 3\n",
    "CNNmodel.add(MaxPooling1D(pool_size=(1,)))            # choose the best features via pooling\n",
    "CNNmodel.add(Dropout(0.25))                           # randomly turn neurons on and off to improve convergence\n",
    "CNNmodel.add(Flatten())                               # flatten we only want a classification output\n",
    "CNNmodel.add(Dense(150, activation='relu'))           # fully connected to get all relevant data\n",
    "CNNmodel.add(Dropout(0.1))                            # one more dropout\n",
    "CNNmodel.add(Dense(1, activation='sigmoid'))          # output \n",
    "\n",
    "lr_schedule = keras.optimizers.schedules.ExponentialDecay(\n",
    "    initial_learning_rate=1e-2,\n",
    "    decay_steps=10000,\n",
    "    decay_rate=0.9)\n",
    "opt = keras.optimizers.Adagrad(learning_rate=lr_schedule)\n",
    "CNNmodel.compile(loss='binary_crossentropy', optimizer=opt, metrics=['accuracy'])\n",
    "\n",
    "CNNhistory = CNNmodel.fit(x_train, y_train, validation_data=(x_val, y_val),  epochs=20, batch_size=128) # Getting score metrics\n",
    "scores = CNNmodel.evaluate(x_test, y_test) \n",
    "print(\"Accuracy: %.2f%%\" % (scores[1]*100))"
   ]
  },
  {
   "cell_type": "markdown",
   "metadata": {
    "id": "c0WiWfu32ytT"
   },
   "source": [
    "## 1.6 Building the RNN Model"
   ]
  },
  {
   "cell_type": "code",
   "execution_count": 12,
   "metadata": {
    "ExecuteTime": {
     "end_time": "2022-02-14T23:40:09.903693Z",
     "start_time": "2022-02-14T23:39:45.838970Z"
    },
    "colab": {
     "base_uri": "https://localhost:8080/"
    },
    "id": "zwwNwnTmaY4i",
    "outputId": "d7f80c76-19cc-44b6-9291-fd4c45292f23"
   },
   "outputs": [
    {
     "name": "stdout",
     "output_type": "stream",
     "text": [
      "Epoch 1/20\n",
      "483/483 [==============================] - 2s 3ms/step - loss: 0.4372 - accuracy: 0.7955 - val_loss: 0.3681 - val_accuracy: 0.8362\n",
      "Epoch 2/20\n",
      "483/483 [==============================] - 1s 2ms/step - loss: 0.3644 - accuracy: 0.8356 - val_loss: 0.3719 - val_accuracy: 0.8340\n",
      "Epoch 3/20\n",
      "483/483 [==============================] - 1s 2ms/step - loss: 0.3518 - accuracy: 0.8431 - val_loss: 0.3513 - val_accuracy: 0.8425\n",
      "Epoch 4/20\n",
      "483/483 [==============================] - 1s 2ms/step - loss: 0.3422 - accuracy: 0.8489 - val_loss: 0.3412 - val_accuracy: 0.8488\n",
      "Epoch 5/20\n",
      "483/483 [==============================] - 1s 2ms/step - loss: 0.3323 - accuracy: 0.8516 - val_loss: 0.3332 - val_accuracy: 0.8519\n",
      "Epoch 6/20\n",
      "483/483 [==============================] - 1s 2ms/step - loss: 0.3256 - accuracy: 0.8555 - val_loss: 0.3380 - val_accuracy: 0.8493\n",
      "Epoch 7/20\n",
      "483/483 [==============================] - 1s 2ms/step - loss: 0.3205 - accuracy: 0.8587 - val_loss: 0.3276 - val_accuracy: 0.8536\n",
      "Epoch 8/20\n",
      "483/483 [==============================] - 1s 2ms/step - loss: 0.3182 - accuracy: 0.8589 - val_loss: 0.3251 - val_accuracy: 0.8568\n",
      "Epoch 9/20\n",
      "483/483 [==============================] - 1s 2ms/step - loss: 0.3129 - accuracy: 0.8608 - val_loss: 0.3312 - val_accuracy: 0.8523\n",
      "Epoch 10/20\n",
      "483/483 [==============================] - 1s 2ms/step - loss: 0.3096 - accuracy: 0.8610 - val_loss: 0.3255 - val_accuracy: 0.8546\n",
      "Epoch 11/20\n",
      "483/483 [==============================] - 1s 2ms/step - loss: 0.3084 - accuracy: 0.8612 - val_loss: 0.3335 - val_accuracy: 0.8531\n",
      "Epoch 12/20\n",
      "483/483 [==============================] - 1s 2ms/step - loss: 0.3031 - accuracy: 0.8636 - val_loss: 0.3200 - val_accuracy: 0.8568\n",
      "Epoch 13/20\n",
      "483/483 [==============================] - 1s 2ms/step - loss: 0.3015 - accuracy: 0.8644 - val_loss: 0.3213 - val_accuracy: 0.8587\n",
      "Epoch 14/20\n",
      "483/483 [==============================] - 1s 2ms/step - loss: 0.2998 - accuracy: 0.8657 - val_loss: 0.3262 - val_accuracy: 0.8557\n",
      "Epoch 15/20\n",
      "483/483 [==============================] - 1s 2ms/step - loss: 0.2981 - accuracy: 0.8654 - val_loss: 0.3345 - val_accuracy: 0.8547\n",
      "Epoch 16/20\n",
      "483/483 [==============================] - 1s 2ms/step - loss: 0.2967 - accuracy: 0.8662 - val_loss: 0.3163 - val_accuracy: 0.8594\n",
      "Epoch 17/20\n",
      "483/483 [==============================] - 1s 2ms/step - loss: 0.2937 - accuracy: 0.8684 - val_loss: 0.3347 - val_accuracy: 0.8518\n",
      "Epoch 18/20\n",
      "483/483 [==============================] - 1s 2ms/step - loss: 0.2921 - accuracy: 0.8679 - val_loss: 0.3172 - val_accuracy: 0.8627\n",
      "Epoch 19/20\n",
      "483/483 [==============================] - 1s 2ms/step - loss: 0.2919 - accuracy: 0.8689 - val_loss: 0.3193 - val_accuracy: 0.8578\n",
      "Epoch 20/20\n",
      "483/483 [==============================] - 1s 2ms/step - loss: 0.2932 - accuracy: 0.8675 - val_loss: 0.3228 - val_accuracy: 0.8564\n",
      "603/603 [==============================] - 1s 859us/step - loss: 0.3291 - accuracy: 0.8548\n",
      "Accuracy: 85.48%\n"
     ]
    }
   ],
   "source": [
    "RNNmodel=keras.Sequential()\n",
    "RNNmodel.add(SimpleRNN(32, input_shape=(x_train.shape[1],x_train.shape[2]), activation='tanh', return_sequences=True))\n",
    "RNNmodel.add(TimeDistributed(Dense(1))) \n",
    "RNNmodel.add(Flatten())\n",
    "RNNmodel.add(Dense(1, activation='sigmoid'))\n",
    "\n",
    "lr_schedule = keras.optimizers.schedules.ExponentialDecay(\n",
    "    initial_learning_rate=1e-2,\n",
    "    decay_steps=10000,\n",
    "    decay_rate=0.9)\n",
    "opt = keras.optimizers.Adam(learning_rate=lr_schedule)\n",
    "RNNmodel.compile(loss='binary_crossentropy', optimizer=opt, metrics=['accuracy'])\n",
    "\n",
    "RNNhistory=RNNmodel.fit(x_train, y_train , epochs=20, batch_size=128, validation_data=(x_val,y_val))\n",
    "RNNscores = RNNmodel.evaluate(x_test, y_test) \n",
    "print(\"Accuracy: %.2f%%\" % (RNNscores[1]*100))"
   ]
  },
  {
   "cell_type": "markdown",
   "metadata": {
    "id": "4ihfBuKG22KE"
   },
   "source": [
    "## 1.7 Building the GRU Model"
   ]
  },
  {
   "cell_type": "code",
   "execution_count": 13,
   "metadata": {
    "ExecuteTime": {
     "end_time": "2022-02-14T23:41:06.454982Z",
     "start_time": "2022-02-14T23:40:14.671806Z"
    },
    "colab": {
     "base_uri": "https://localhost:8080/"
    },
    "id": "uG-syJZFcEHD",
    "outputId": "fd97e366-8126-4510-f237-0778eb5877f6"
   },
   "outputs": [
    {
     "name": "stdout",
     "output_type": "stream",
     "text": [
      "Epoch 1/20\n",
      "483/483 [==============================] - 4s 6ms/step - loss: 0.3913 - accuracy: 0.8193 - val_loss: 0.3467 - val_accuracy: 0.8443\n",
      "Epoch 2/20\n",
      "483/483 [==============================] - 2s 5ms/step - loss: 0.3270 - accuracy: 0.8538 - val_loss: 0.3207 - val_accuracy: 0.8549\n",
      "Epoch 3/20\n",
      "483/483 [==============================] - 2s 5ms/step - loss: 0.2940 - accuracy: 0.8668 - val_loss: 0.3151 - val_accuracy: 0.8582\n",
      "Epoch 4/20\n",
      "483/483 [==============================] - 2s 5ms/step - loss: 0.2759 - accuracy: 0.8726 - val_loss: 0.3087 - val_accuracy: 0.8653\n",
      "Epoch 5/20\n",
      "483/483 [==============================] - 3s 5ms/step - loss: 0.2578 - accuracy: 0.8750 - val_loss: 0.2900 - val_accuracy: 0.8620\n",
      "Epoch 6/20\n",
      "483/483 [==============================] - 2s 5ms/step - loss: 0.2694 - accuracy: 0.8646 - val_loss: 0.2827 - val_accuracy: 0.8632\n",
      "Epoch 7/20\n",
      "483/483 [==============================] - 2s 5ms/step - loss: 0.2046 - accuracy: 0.8734 - val_loss: 0.2650 - val_accuracy: 0.8546\n",
      "Epoch 8/20\n",
      "483/483 [==============================] - 3s 5ms/step - loss: 0.0534 - accuracy: 0.8500 - val_loss: 0.1487 - val_accuracy: 0.8248\n",
      "Epoch 9/20\n",
      "483/483 [==============================] - 2s 5ms/step - loss: -0.0603 - accuracy: 0.7817 - val_loss: -0.0554 - val_accuracy: 0.8045\n",
      "Epoch 10/20\n",
      "483/483 [==============================] - 2s 5ms/step - loss: -1.2144 - accuracy: 0.8066 - val_loss: -0.8283 - val_accuracy: 0.8194\n",
      "Epoch 11/20\n",
      "483/483 [==============================] - 2s 5ms/step - loss: -2.9691 - accuracy: 0.8020 - val_loss: -1.3884 - val_accuracy: 0.7826\n",
      "Epoch 12/20\n",
      "483/483 [==============================] - 2s 5ms/step - loss: -5.8114 - accuracy: 0.8021 - val_loss: -2.9213 - val_accuracy: 0.8254\n",
      "Epoch 13/20\n",
      "483/483 [==============================] - 2s 5ms/step - loss: -8.7003 - accuracy: 0.7834 - val_loss: -4.4691 - val_accuracy: 0.8077\n",
      "Epoch 14/20\n",
      "483/483 [==============================] - 2s 5ms/step - loss: -15.2456 - accuracy: 0.7897 - val_loss: -7.0543 - val_accuracy: 0.7929\n",
      "Epoch 15/20\n",
      "483/483 [==============================] - 2s 5ms/step - loss: -17.2645 - accuracy: 0.7641 - val_loss: -3.5924 - val_accuracy: 0.7397\n",
      "Epoch 16/20\n",
      "483/483 [==============================] - 2s 5ms/step - loss: -19.1357 - accuracy: 0.7450 - val_loss: -7.9365 - val_accuracy: 0.7259\n",
      "Epoch 17/20\n",
      "483/483 [==============================] - 3s 5ms/step - loss: -26.1498 - accuracy: 0.7529 - val_loss: -10.8031 - val_accuracy: 0.7557\n",
      "Epoch 18/20\n",
      "483/483 [==============================] - 2s 5ms/step - loss: -32.6727 - accuracy: 0.7579 - val_loss: -11.8270 - val_accuracy: 0.7064\n",
      "Epoch 19/20\n",
      "483/483 [==============================] - 2s 5ms/step - loss: -39.0594 - accuracy: 0.7641 - val_loss: -15.7599 - val_accuracy: 0.8065\n",
      "Epoch 20/20\n",
      "483/483 [==============================] - 2s 5ms/step - loss: -45.1934 - accuracy: 0.7737 - val_loss: -21.4075 - val_accuracy: 0.7939\n",
      "603/603 [==============================] - 1s 1ms/step - loss: -11.3876 - accuracy: 0.7910\n",
      "Accuracy: 79.10%\n"
     ]
    }
   ],
   "source": [
    "GRUmodel=keras.Sequential()\n",
    "GRUmodel.add(GRU(32, input_shape=(x_train.shape[1],x_train.shape[2]),activation='tanh', return_sequences=True))\n",
    "GRUmodel.add(TimeDistributed(Dense(1))) \n",
    "GRUmodel.add(Flatten())\n",
    "GRUmodel.add(Dense(1, activation='sigmoid'))\n",
    "\n",
    "lr_schedule = keras.optimizers.schedules.ExponentialDecay(\n",
    "    initial_learning_rate=1e-2,\n",
    "    decay_steps=10000,\n",
    "    decay_rate=0.9)\n",
    "opt = keras.optimizers.Adam(learning_rate=lr_schedule)\n",
    "GRUmodel.compile(loss='binary_crossentropy', optimizer=opt, metrics=['accuracy'])\n",
    "\n",
    "GRUhistory=GRUmodel.fit(x_train, y_train , epochs=20, batch_size=128, validation_data=(x_val,y_val))\n",
    "GRUscores = GRUmodel.evaluate(x_test, y_test) \n",
    "print(\"Accuracy: %.2f%%\" % (GRUscores[1]*100))  "
   ]
  },
  {
   "cell_type": "markdown",
   "metadata": {
    "id": "B8JDT6Ei25NS"
   },
   "source": [
    "## 1.8 Building the DNN Model"
   ]
  },
  {
   "cell_type": "code",
   "execution_count": 14,
   "metadata": {
    "ExecuteTime": {
     "end_time": "2022-02-14T23:43:01.379404Z",
     "start_time": "2022-02-14T23:41:37.712477Z"
    },
    "colab": {
     "base_uri": "https://localhost:8080/"
    },
    "id": "xKY2mHhPdcCI",
    "outputId": "5e912aa3-f039-4154-d06b-560d19cca66b"
   },
   "outputs": [
    {
     "name": "stdout",
     "output_type": "stream",
     "text": [
      "Epoch 1/20\n",
      "1929/1929 [==============================] - 4s 2ms/step - loss: 0.5053 - accuracy: 0.7562 - val_loss: 0.4220 - val_accuracy: 0.7625\n",
      "Epoch 2/20\n",
      "1929/1929 [==============================] - 4s 2ms/step - loss: -9.6305 - accuracy: 0.7490 - val_loss: -27.9371 - val_accuracy: 0.7237\n",
      "Epoch 3/20\n",
      "1929/1929 [==============================] - 4s 2ms/step - loss: -114.1267 - accuracy: 0.7329 - val_loss: -167.0800 - val_accuracy: 0.7585\n",
      "Epoch 4/20\n",
      "1929/1929 [==============================] - 4s 2ms/step - loss: -394.8015 - accuracy: 0.7140 - val_loss: -452.3497 - val_accuracy: 0.6642\n",
      "Epoch 5/20\n",
      "1929/1929 [==============================] - 4s 2ms/step - loss: -896.2829 - accuracy: 0.6819 - val_loss: -889.8091 - val_accuracy: 0.6970\n",
      "Epoch 6/20\n",
      "1929/1929 [==============================] - 4s 2ms/step - loss: -1596.4427 - accuracy: 0.6781 - val_loss: -1481.4121 - val_accuracy: 0.7127\n",
      "Epoch 7/20\n",
      "1929/1929 [==============================] - 4s 2ms/step - loss: -2566.3716 - accuracy: 0.6705 - val_loss: -2304.4949 - val_accuracy: 0.6865\n",
      "Epoch 8/20\n",
      "1929/1929 [==============================] - 4s 2ms/step - loss: -3857.9441 - accuracy: 0.6804 - val_loss: -3332.5383 - val_accuracy: 0.7088\n",
      "Epoch 9/20\n",
      "1929/1929 [==============================] - 4s 2ms/step - loss: -5389.4160 - accuracy: 0.6712 - val_loss: -4476.8745 - val_accuracy: 0.7007\n",
      "Epoch 10/20\n",
      "1929/1929 [==============================] - 4s 2ms/step - loss: -7100.3574 - accuracy: 0.6650 - val_loss: -5883.2632 - val_accuracy: 0.7255\n",
      "Epoch 11/20\n",
      "1929/1929 [==============================] - 4s 2ms/step - loss: -9298.9180 - accuracy: 0.6469 - val_loss: -7542.7026 - val_accuracy: 0.6388\n",
      "Epoch 12/20\n",
      "1929/1929 [==============================] - 4s 2ms/step - loss: -11946.1953 - accuracy: 0.6302 - val_loss: -9559.8418 - val_accuracy: 0.6237\n",
      "Epoch 13/20\n",
      "1929/1929 [==============================] - 4s 2ms/step - loss: -14746.8711 - accuracy: 0.6465 - val_loss: -11733.6670 - val_accuracy: 0.6277\n",
      "Epoch 14/20\n",
      "1929/1929 [==============================] - 4s 2ms/step - loss: -18128.7695 - accuracy: 0.6501 - val_loss: -14117.8545 - val_accuracy: 0.7045\n",
      "Epoch 15/20\n",
      "1929/1929 [==============================] - 4s 2ms/step - loss: -21018.7676 - accuracy: 0.6408 - val_loss: -16508.6172 - val_accuracy: 0.6816\n",
      "Epoch 16/20\n",
      "1929/1929 [==============================] - 4s 2ms/step - loss: -24828.8574 - accuracy: 0.6485 - val_loss: -19361.6035 - val_accuracy: 0.6736\n",
      "Epoch 17/20\n",
      "1929/1929 [==============================] - 4s 2ms/step - loss: -29238.5000 - accuracy: 0.6398 - val_loss: -22322.8613 - val_accuracy: 0.5750\n",
      "Epoch 18/20\n",
      "1929/1929 [==============================] - 4s 2ms/step - loss: -33279.6680 - accuracy: 0.6413 - val_loss: -25647.8652 - val_accuracy: 0.6891\n",
      "Epoch 19/20\n",
      "1929/1929 [==============================] - 4s 2ms/step - loss: -38248.8633 - accuracy: 0.6370 - val_loss: -29073.3555 - val_accuracy: 0.5771\n",
      "Epoch 20/20\n",
      "1929/1929 [==============================] - 4s 2ms/step - loss: -42980.0391 - accuracy: 0.6235 - val_loss: -32552.4434 - val_accuracy: 0.6448\n",
      "603/603 [==============================] - 1s 930us/step - loss: -22933.5859 - accuracy: 0.6435\n",
      "Accuracy: 64.35%\n"
     ]
    }
   ],
   "source": [
    "DNNmodel = keras.Sequential()                                   # Sequential model\n",
    "n_inputs = 45                                                   # nº of states  \n",
    "inputs = keras.Input(shape=(20,n_inputs,), name = 'input')      # Define inputs\n",
    "l1=layers.Dense(64, activation='relu', name = 'hidden_layer_1')(inputs) \n",
    "ly2=layers.Dense(128, activation='softplus', name = 'hidden_layer_2')(l1) \n",
    "l3=layers.Dropout(0.25)(ly2)\n",
    "l4=layers.Flatten()(l3)                 \n",
    "output=[] \n",
    "output.append(layers.Dense(1, activation='sigmoid', name = 'output')(l4))                                    \n",
    "DNNmodel = keras.Model(inputs=inputs, outputs=output)       \n",
    "\n",
    "lr_schedule = keras.optimizers.schedules.ExponentialDecay(\n",
    "    initial_learning_rate=1e-2,\n",
    "    decay_steps=10000,\n",
    "    decay_rate=0.9)\n",
    "opt = keras.optimizers.Adam(learning_rate=lr_schedule)\n",
    "DNNmodel.compile(loss='binary_crossentropy', optimizer=opt, metrics=['accuracy'])\n",
    "\n",
    "DNNhistory = DNNmodel.fit(x_train, y_train, batch_size=32, epochs=20, validation_data =(x_val, y_val))\n",
    "DNNscores = DNNmodel.evaluate(x_test, y_test) \n",
    "print(\"Accuracy: %.2f%%\" % (DNNscores[1]*100))"
   ]
  },
  {
   "cell_type": "markdown",
   "metadata": {
    "id": "Kn3ALPE629Ca"
   },
   "source": [
    "## 1.9 Building the BiLSTM Model"
   ]
  },
  {
   "cell_type": "code",
   "execution_count": 95,
   "metadata": {
    "ExecuteTime": {
     "end_time": "2022-02-15T00:33:44.346582Z",
     "start_time": "2022-02-15T00:26:48.269640Z"
    },
    "colab": {
     "base_uri": "https://localhost:8080/"
    },
    "id": "jF4NIzXreW0M",
    "outputId": "49598b4b-2055-47ba-aacf-f4fd21c6ee17"
   },
   "outputs": [
    {
     "name": "stdout",
     "output_type": "stream",
     "text": [
      "Epoch 1/20\n",
      "483/483 [==============================] - 22s 39ms/step - loss: 0.4185 - accuracy: 0.8118 - val_loss: 0.3658 - val_accuracy: 0.8456\n",
      "Epoch 2/20\n",
      "483/483 [==============================] - 18s 37ms/step - loss: 0.3425 - accuracy: 0.8570 - val_loss: 0.3292 - val_accuracy: 0.8608\n",
      "Epoch 3/20\n",
      "483/483 [==============================] - 18s 37ms/step - loss: 0.3075 - accuracy: 0.8707 - val_loss: 0.3148 - val_accuracy: 0.8686\n",
      "Epoch 4/20\n",
      "483/483 [==============================] - 18s 38ms/step - loss: 0.2734 - accuracy: 0.8780 - val_loss: 0.3391 - val_accuracy: 0.8724\n",
      "Epoch 5/20\n",
      "483/483 [==============================] - 18s 38ms/step - loss: 0.2559 - accuracy: 0.8844 - val_loss: 0.2824 - val_accuracy: 0.8822\n",
      "Epoch 6/20\n",
      "483/483 [==============================] - 19s 39ms/step - loss: 0.2095 - accuracy: 0.8924 - val_loss: 0.2701 - val_accuracy: 0.8813\n",
      "Epoch 7/20\n",
      "483/483 [==============================] - 19s 39ms/step - loss: 0.1811 - accuracy: 0.8977 - val_loss: 0.2665 - val_accuracy: 0.8854\n",
      "Epoch 8/20\n",
      "483/483 [==============================] - 19s 40ms/step - loss: 0.1947 - accuracy: 0.8953 - val_loss: 0.2716 - val_accuracy: 0.8856\n",
      "Epoch 9/20\n",
      "483/483 [==============================] - 20s 41ms/step - loss: 0.1610 - accuracy: 0.9009 - val_loss: 0.2571 - val_accuracy: 0.8898\n",
      "Epoch 10/20\n",
      "483/483 [==============================] - 20s 42ms/step - loss: 0.1437 - accuracy: 0.9050 - val_loss: 0.2616 - val_accuracy: 0.8891\n",
      "Epoch 11/20\n",
      "483/483 [==============================] - 21s 43ms/step - loss: 0.1329 - accuracy: 0.9071 - val_loss: 0.2758 - val_accuracy: 0.8833\n",
      "Epoch 12/20\n",
      "483/483 [==============================] - 21s 43ms/step - loss: 0.1254 - accuracy: 0.9069 - val_loss: 0.2574 - val_accuracy: 0.8894\n",
      "Epoch 13/20\n",
      "483/483 [==============================] - 22s 45ms/step - loss: 0.1321 - accuracy: 0.9034 - val_loss: 0.2535 - val_accuracy: 0.8889\n",
      "Epoch 14/20\n",
      "483/483 [==============================] - 23s 47ms/step - loss: 0.0997 - accuracy: 0.9154 - val_loss: 0.2591 - val_accuracy: 0.8894\n",
      "Epoch 15/20\n",
      "483/483 [==============================] - 22s 46ms/step - loss: 0.0885 - accuracy: 0.9196 - val_loss: 0.2576 - val_accuracy: 0.8918\n",
      "Epoch 16/20\n",
      "483/483 [==============================] - 22s 46ms/step - loss: 0.0951 - accuracy: 0.9192 - val_loss: 0.2509 - val_accuracy: 0.8922\n",
      "Epoch 17/20\n",
      "483/483 [==============================] - 22s 46ms/step - loss: 0.0752 - accuracy: 0.9259 - val_loss: 0.2626 - val_accuracy: 0.8900\n",
      "Epoch 18/20\n",
      "483/483 [==============================] - 23s 47ms/step - loss: 0.0817 - accuracy: 0.9249 - val_loss: 0.2646 - val_accuracy: 0.8891\n",
      "Epoch 19/20\n",
      "483/483 [==============================] - 23s 48ms/step - loss: 0.0631 - accuracy: 0.9311 - val_loss: 0.2637 - val_accuracy: 0.8912\n",
      "Epoch 20/20\n",
      "483/483 [==============================] - 23s 48ms/step - loss: 0.0571 - accuracy: 0.9338 - val_loss: 0.2588 - val_accuracy: 0.8911\n",
      "603/603 [==============================] - 3s 4ms/step - loss: 0.2282 - accuracy: 0.8937\n",
      "Accuracy: 89.37%\n"
     ]
    }
   ],
   "source": [
    "LSTMmodel = keras.Sequential()\n",
    "LSTMmodel.add(Bidirectional(LSTM(64, return_sequences=True), backward_layer=LSTM(64, return_sequences=True, go_backwards=True), input_shape=(maxlen,len_vocab)))\n",
    "LSTMmodel.add(Dropout(0.2))\n",
    "LSTMmodel.add(Bidirectional(LSTM(64)))\n",
    "LSTMmodel.add(Dropout(0.2))\n",
    "LSTMmodel.add(Dense(1, activity_regularizer=l2(0.002)))\n",
    "LSTMmodel.add(Activation('sigmoid'))\n",
    "\n",
    "lr_schedule = keras.optimizers.schedules.ExponentialDecay(\n",
    "    initial_learning_rate=1e-2,\n",
    "    decay_steps=10000,\n",
    "    decay_rate=0.9)\n",
    "opt = keras.optimizers.Adam(learning_rate=lr_schedule)\n",
    "LSTMmodel.compile(loss='binary_crossentropy', optimizer=opt, metrics=['accuracy'])\n",
    "\n",
    "LSTMhistory = LSTMmodel.fit(x_train, y_train, batch_size=128, epochs=20, validation_data =(x_val, y_val))\n",
    "LSTMscores = LSTMmodel.evaluate(x_test, y_test) \n",
    "print(\"Accuracy: %.2f%%\" % (LSTMscores[1]*100))"
   ]
  },
  {
   "cell_type": "markdown",
   "metadata": {
    "id": "m55JxwTi7Pyt"
   },
   "source": [
    "## 1.10 Figures"
   ]
  },
  {
   "cell_type": "code",
   "execution_count": 16,
   "metadata": {
    "ExecuteTime": {
     "end_time": "2022-02-14T23:51:22.377261Z",
     "start_time": "2022-02-14T23:51:20.967101Z"
    },
    "colab": {
     "base_uri": "https://localhost:8080/",
     "height": 395
    },
    "id": "wK09xI1-mt7N",
    "outputId": "4dbc0699-e394-4db6-b4b6-31c6f31c9484"
   },
   "outputs": [
    {
     "data": {
      "text/plain": [
       "<matplotlib.legend.Legend at 0x2f914021940>"
      ]
     },
     "execution_count": 16,
     "metadata": {},
     "output_type": "execute_result"
    },
    {
     "data": {
      "text/plain": [
       "<Figure size 432x288 with 0 Axes>"
      ]
     },
     "metadata": {},
     "output_type": "display_data"
    },
    {
     "data": {
      "image/png": "[encoded data removed]",
      "text/plain": [
       "<Figure size 648x360 with 1 Axes>"
      ]
     },
     "metadata": {
      "needs_background": "light"
     },
     "output_type": "display_data"
    }
   ],
   "source": [
    "plt.figure(1)\n",
    "plt.figure(figsize=(9,5))\n",
    "plt.rcParams.update({'font.size': 12})\n",
    "# summarize for accuracy\n",
    "plt.plot(CNNhistory.history['accuracy'], 'g:')\n",
    "plt.plot(LSTMhistory.history['accuracy'], 'r--')\n",
    "plt.plot(RNNhistory.history['accuracy'], 'c-.')\n",
    "plt.plot(DNNhistory.history['accuracy'], 'm-+')\n",
    "plt.plot(GRUhistory.history['accuracy'], 'y-o')\n",
    "plt.plot(CNNhistory.history['val_accuracy'], 'g-*')\n",
    "plt.plot(LSTMhistory.history['val_accuracy'], 'r-v')\n",
    "plt.plot(RNNhistory.history['val_accuracy'], 'c-h')\n",
    "plt.plot(DNNhistory.history['val_accuracy'], 'm->')\n",
    "plt.plot(GRUhistory.history['val_accuracy'], 'y-s')\n",
    "plt.grid('True')\n",
    "plt.ylabel('Accuracy')\n",
    "plt.xlabel('Epoch')\n",
    "plt.ylim(0.8, 0.99)\n",
    "plt.xlim(0,25)\n",
    "plt.legend(['Train-CNN', 'Train-BiLSTM', 'Train-RNN', 'Train-MLP', 'Train-GRU','Val-CNN',\\\n",
    "            'Val-BiLSTM', 'Val-RNN', 'Val-MLP', 'Val-GRU'], loc='upper right')"
   ]
  },
  {
   "cell_type": "code",
   "execution_count": 17,
   "metadata": {
    "ExecuteTime": {
     "end_time": "2022-02-14T23:51:22.501258Z",
     "start_time": "2022-02-14T23:51:22.378249Z"
    },
    "colab": {
     "base_uri": "https://localhost:8080/",
     "height": 322
    },
    "id": "rh44YGWcvMG7",
    "outputId": "a0f245e4-8a84-4ea4-e3d0-2b0de10ea502"
   },
   "outputs": [
    {
     "data": {
      "text/plain": [
       "(0.0, 32.0)"
      ]
     },
     "execution_count": 17,
     "metadata": {},
     "output_type": "execute_result"
    },
    {
     "data": {
      "image/png": "[encoded data removed]",
      "text/plain": [
       "<Figure size 432x288 with 1 Axes>"
      ]
     },
     "metadata": {
      "needs_background": "light"
     },
     "output_type": "display_data"
    }
   ],
   "source": [
    "plt.figure(2)\n",
    "plt.plot(CNNhistory.history['loss'], 'g:')\n",
    "plt.plot(LSTMhistory.history['loss'], 'r--')\n",
    "plt.plot(RNNhistory.history['loss'], 'c-.')\n",
    "plt.plot(DNNhistory.history['loss'], 'm-+')\n",
    "plt.plot(GRUhistory.history['loss'], 'y-o')\n",
    "plt.plot(CNNhistory.history['val_loss'], 'g-*')\n",
    "plt.plot(LSTMhistory.history['val_loss'], 'r-v')\n",
    "plt.plot(RNNhistory.history['val_loss'], 'c-H')\n",
    "plt.plot(DNNhistory.history['val_loss'], 'm->')\n",
    "plt.plot(GRUhistory.history['val_loss'], 'y-s')\n",
    "plt.ylabel('Loss')\n",
    "plt.xlabel('Epoch')\n",
    "plt.legend(['Train-CNN', 'Train-BiLSTM', 'Train-RNN', 'Train-MLP', 'Train-GRU','Val-CNN',\\\n",
    "            'Val-BiLSTM', 'Val-RNN', 'Val-MLP', 'Val-GRU'], loc='upper right')\n",
    "plt.grid('True')\n",
    "plt.xlim(0,32)"
   ]
  },
  {
   "cell_type": "markdown",
   "metadata": {
    "id": "bii6bsQ_8ihJ"
   },
   "source": [
    "## 1.11 Statistics"
   ]
  },
  {
   "cell_type": "code",
   "execution_count": 20,
   "metadata": {
    "ExecuteTime": {
     "end_time": "2022-02-14T23:51:46.078400Z",
     "start_time": "2022-02-14T23:51:41.559238Z"
    },
    "id": "PHW4P-qG0_dj"
   },
   "outputs": [],
   "source": [
    "y_predCNN =(CNNmodel.predict(x_test) > 0.5).astype(\"int32\")\n",
    "y_predLSTM =(LSTMmodel.predict(x_test) > 0.5).astype(\"int32\")\n",
    "y_predRNN =(RNNmodel.predict(x_test) > 0.5).astype(\"int32\")\n",
    "y_predGRU =(GRUmodel.predict(x_test) > 0.5).astype(\"int32\")\n",
    "y_predDNN =(DNNmodel.predict(x_test) > 0.5).astype(\"int32\")"
   ]
  },
  {
   "cell_type": "markdown",
   "metadata": {
    "id": "BSMLzXgL_17j"
   },
   "source": [
    "## 1.12 Testing "
   ]
  },
  {
   "cell_type": "code",
   "execution_count": 96,
   "metadata": {
    "ExecuteTime": {
     "end_time": "2022-02-15T00:33:45.090432Z",
     "start_time": "2022-02-15T00:33:44.347590Z"
    },
    "colab": {
     "base_uri": "https://localhost:8080/"
    },
    "id": "eVU5iWCF-5lA",
    "outputId": "f69591c8-fecc-4575-eef5-47b7b7c440f2"
   },
   "outputs": [
    {
     "name": "stdout",
     "output_type": "stream",
     "text": [
      "F\n"
     ]
    }
   ],
   "source": [
    "testename = prepare_encod_names({\"abla\"})   # Now the names are encod as a vector of numbers with weight\n",
    "resu=(LSTMmodel.predict(testename) > 0.5).astype(\"int32\")\n",
    "if int(resu)==1:\n",
    "  print('M')\n",
    "else:\n",
    "  print('F')"
   ]
  },
  {
   "cell_type": "code",
   "execution_count": 97,
   "metadata": {
    "ExecuteTime": {
     "end_time": "2022-02-15T00:33:45.105422Z",
     "start_time": "2022-02-15T00:33:45.091435Z"
    }
   },
   "outputs": [],
   "source": [
    "def genderpredictor(row):\n",
    "    \n",
    "    testename = prepare_encod_names({row})\n",
    "    resu=(LSTMmodel.predict(testename) > 0.5).astype(\"int32\")\n",
    "    \n",
    "    if int(resu)== 0:\n",
    "        \n",
    "        return \"Female\"\n",
    "    \n",
    "    elif int(resu)== 1 :\n",
    "        \n",
    "        return \"Male\"\n",
    "    else:\n",
    "        \n",
    "        return \"None\"\n"
   ]
  },
  {
   "cell_type": "code",
   "execution_count": 98,
   "metadata": {
    "ExecuteTime": {
     "end_time": "2022-02-15T00:33:45.152054Z",
     "start_time": "2022-02-15T00:33:45.107423Z"
    }
   },
   "outputs": [],
   "source": [
    "female=pd.read_excel(r\"C:\\Users\\Jebbar Abdelkader\\Desktop\\ListeFE.xlsx\")"
   ]
  },
  {
   "cell_type": "code",
   "execution_count": 99,
   "metadata": {
    "ExecuteTime": {
     "end_time": "2022-02-15T00:33:45.167986Z",
     "start_time": "2022-02-15T00:33:45.153046Z"
    }
   },
   "outputs": [
    {
     "data": {
      "text/html": [
       "<div>\n",
       "<style scoped>\n",
       "    .dataframe tbody tr th:only-of-type {\n",
       "        vertical-align: middle;\n",
       "    }\n",
       "\n",
       "    .dataframe tbody tr th {\n",
       "        vertical-align: top;\n",
       "    }\n",
       "\n",
       "    .dataframe thead th {\n",
       "        text-align: right;\n",
       "    }\n",
       "</style>\n",
       "<table border=\"1\" class=\"dataframe\">\n",
       "  <thead>\n",
       "    <tr style=\"text-align: right;\">\n",
       "      <th></th>\n",
       "      <th>name</th>\n",
       "    </tr>\n",
       "  </thead>\n",
       "  <tbody>\n",
       "    <tr>\n",
       "      <th>0</th>\n",
       "      <td>Aafrae</td>\n",
       "    </tr>\n",
       "    <tr>\n",
       "      <th>1</th>\n",
       "      <td>Abla</td>\n",
       "    </tr>\n",
       "    <tr>\n",
       "      <th>2</th>\n",
       "      <td>Adba</td>\n",
       "    </tr>\n",
       "    <tr>\n",
       "      <th>3</th>\n",
       "      <td>Afaf</td>\n",
       "    </tr>\n",
       "    <tr>\n",
       "      <th>4</th>\n",
       "      <td>Aicha</td>\n",
       "    </tr>\n",
       "    <tr>\n",
       "      <th>...</th>\n",
       "      <td>...</td>\n",
       "    </tr>\n",
       "    <tr>\n",
       "      <th>1238</th>\n",
       "      <td>ihiotuiu</td>\n",
       "    </tr>\n",
       "    <tr>\n",
       "      <th>1239</th>\n",
       "      <td>xdfrt</td>\n",
       "    </tr>\n",
       "    <tr>\n",
       "      <th>1240</th>\n",
       "      <td>uhvg</td>\n",
       "    </tr>\n",
       "    <tr>\n",
       "      <th>1241</th>\n",
       "      <td>wxdrxt</td>\n",
       "    </tr>\n",
       "    <tr>\n",
       "      <th>1242</th>\n",
       "      <td>oknjh</td>\n",
       "    </tr>\n",
       "  </tbody>\n",
       "</table>\n",
       "<p>1243 rows × 1 columns</p>\n",
       "</div>"
      ],
      "text/plain": [
       "          name\n",
       "0       Aafrae\n",
       "1         Abla\n",
       "2         Adba\n",
       "3         Afaf\n",
       "4        Aicha\n",
       "...        ...\n",
       "1238  ihiotuiu\n",
       "1239     xdfrt\n",
       "1240      uhvg\n",
       "1241    wxdrxt\n",
       "1242     oknjh\n",
       "\n",
       "[1243 rows x 1 columns]"
      ]
     },
     "execution_count": 99,
     "metadata": {},
     "output_type": "execute_result"
    }
   ],
   "source": [
    "female"
   ]
  },
  {
   "cell_type": "code",
   "execution_count": 100,
   "metadata": {
    "ExecuteTime": {
     "end_time": "2022-02-15T00:33:45.215267Z",
     "start_time": "2022-02-15T00:33:45.168976Z"
    }
   },
   "outputs": [],
   "source": [
    "for col in female.columns:\n",
    "        df[col]=df[col].replace('A','a').replace('’','').str.lower().str.strip()\n",
    "female['name']=female['name'].apply(lambda x:x.replace('’','').lower().strip())"
   ]
  },
  {
   "cell_type": "code",
   "execution_count": 101,
   "metadata": {
    "ExecuteTime": {
     "end_time": "2022-02-15T00:33:45.231307Z",
     "start_time": "2022-02-15T00:33:45.216290Z"
    }
   },
   "outputs": [],
   "source": [
    "import unidecode"
   ]
  },
  {
   "cell_type": "code",
   "execution_count": 102,
   "metadata": {
    "ExecuteTime": {
     "end_time": "2022-02-15T00:33:45.437299Z",
     "start_time": "2022-02-15T00:33:45.232295Z"
    }
   },
   "outputs": [],
   "source": [
    "for ind in female['name']:\n",
    "    female['name']=female['name'].replace(ind,unidecode.unidecode(ind))\n"
   ]
  },
  {
   "cell_type": "code",
   "execution_count": 103,
   "metadata": {
    "ExecuteTime": {
     "end_time": "2022-02-15T00:34:30.694775Z",
     "start_time": "2022-02-15T00:33:45.438295Z"
    }
   },
   "outputs": [],
   "source": [
    "female['gender']=female['name'].apply(lambda x:genderpredictor(x))"
   ]
  },
  {
   "cell_type": "code",
   "execution_count": 106,
   "metadata": {
    "ExecuteTime": {
     "end_time": "2022-02-15T00:35:03.682420Z",
     "start_time": "2022-02-15T00:35:03.673423Z"
    }
   },
   "outputs": [
    {
     "data": {
      "text/html": [
       "<div>\n",
       "<style scoped>\n",
       "    .dataframe tbody tr th:only-of-type {\n",
       "        vertical-align: middle;\n",
       "    }\n",
       "\n",
       "    .dataframe tbody tr th {\n",
       "        vertical-align: top;\n",
       "    }\n",
       "\n",
       "    .dataframe thead th {\n",
       "        text-align: right;\n",
       "    }\n",
       "</style>\n",
       "<table border=\"1\" class=\"dataframe\">\n",
       "  <thead>\n",
       "    <tr style=\"text-align: right;\">\n",
       "      <th></th>\n",
       "      <th>name</th>\n",
       "      <th>gender</th>\n",
       "    </tr>\n",
       "  </thead>\n",
       "  <tbody>\n",
       "    <tr>\n",
       "      <th>1</th>\n",
       "      <td>abla</td>\n",
       "      <td>Female</td>\n",
       "    </tr>\n",
       "    <tr>\n",
       "      <th>2</th>\n",
       "      <td>adba</td>\n",
       "      <td>Female</td>\n",
       "    </tr>\n",
       "    <tr>\n",
       "      <th>3</th>\n",
       "      <td>afaf</td>\n",
       "      <td>Female</td>\n",
       "    </tr>\n",
       "    <tr>\n",
       "      <th>4</th>\n",
       "      <td>aicha</td>\n",
       "      <td>Female</td>\n",
       "    </tr>\n",
       "    <tr>\n",
       "      <th>5</th>\n",
       "      <td>aizza</td>\n",
       "      <td>Female</td>\n",
       "    </tr>\n",
       "    <tr>\n",
       "      <th>...</th>\n",
       "      <td>...</td>\n",
       "      <td>...</td>\n",
       "    </tr>\n",
       "    <tr>\n",
       "      <th>1229</th>\n",
       "      <td>zouhra</td>\n",
       "      <td>Female</td>\n",
       "    </tr>\n",
       "    <tr>\n",
       "      <th>1230</th>\n",
       "      <td>zoulaikha</td>\n",
       "      <td>Female</td>\n",
       "    </tr>\n",
       "    <tr>\n",
       "      <th>1232</th>\n",
       "      <td>zouleikha</td>\n",
       "      <td>Female</td>\n",
       "    </tr>\n",
       "    <tr>\n",
       "      <th>1233</th>\n",
       "      <td>zoulfa</td>\n",
       "      <td>Female</td>\n",
       "    </tr>\n",
       "    <tr>\n",
       "      <th>1235</th>\n",
       "      <td>zoumourrouda</td>\n",
       "      <td>Female</td>\n",
       "    </tr>\n",
       "  </tbody>\n",
       "</table>\n",
       "<p>1028 rows × 2 columns</p>\n",
       "</div>"
      ],
      "text/plain": [
       "              name  gender\n",
       "1             abla  Female\n",
       "2             adba  Female\n",
       "3             afaf  Female\n",
       "4            aicha  Female\n",
       "5            aizza  Female\n",
       "...            ...     ...\n",
       "1229        zouhra  Female\n",
       "1230     zoulaikha  Female\n",
       "1232     zouleikha  Female\n",
       "1233        zoulfa  Female\n",
       "1235  zoumourrouda  Female\n",
       "\n",
       "[1028 rows x 2 columns]"
      ]
     },
     "execution_count": 106,
     "metadata": {},
     "output_type": "execute_result"
    }
   ],
   "source": [
    "female[female['gender']==\"Female\"]"
   ]
  },
  {
   "cell_type": "code",
   "execution_count": null,
   "metadata": {},
   "outputs": [],
   "source": []
  }
 ],
 "metadata": {
  "colab": {
   "collapsed_sections": [],
   "name": "Predicting Gender of Brazilian Names Using Deep Learning.ipynb",
   "provenance": []
  },
  "kernelspec": {
   "display_name": "Python 3 (ipykernel)",
   "language": "python",
   "name": "python3"
  },
  "language_info": {
   "codemirror_mode": {
    "name": "ipython",
    "version": 3
   },
   "file_extension": ".py",
   "mimetype": "text/x-python",
   "name": "python",
   "nbconvert_exporter": "python",
   "pygments_lexer": "ipython3",
   "version": "3.9.7"
  },
  "toc": {
   "base_numbering": 1,
   "nav_menu": {},
   "number_sections": true,
   "sideBar": true,
   "skip_h1_title": false,
   "title_cell": "Table of Contents",
   "title_sidebar": "Contents",
   "toc_cell": false,
   "toc_position": {},
   "toc_section_display": true,
   "toc_window_display": false
  }
 },
 "nbformat": 4,
 "nbformat_minor": 1
}
