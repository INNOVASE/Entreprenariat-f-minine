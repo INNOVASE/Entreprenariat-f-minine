{
 "cells": [
  {
   "cell_type": "markdown",
   "metadata": {
    "id": "yCahbBEsMCSJ"
   },
   "source": [
    "# 1. Predicting Gender of Brazilian Names Using Deep Learning\n"
   ]
  },
  {
   "cell_type": "markdown",
   "metadata": {
    "id": "KENlSnN4ftje"
   },
   "source": [
    "## 1.1 Necessary libraries"
   ]
  },
  {
   "cell_type": "code",
   "execution_count": 1,
   "metadata": {
    "ExecuteTime": {
     "end_time": "2022-02-14T22:48:56.564606Z",
     "start_time": "2022-02-14T22:48:53.737808Z"
    }
   },
   "outputs": [
    {
     "name": "stdout",
     "output_type": "stream",
     "text": [
      "Requirement already satisfied: tensorflow in c:\\users\\jebbar abdelkader\\anaconda3\\lib\\site-packages (2.8.0)\n",
      "Requirement already satisfied: libclang>=9.0.1 in c:\\users\\jebbar abdelkader\\anaconda3\\lib\\site-packages (from tensorflow) (13.0.0)\n",
      "Requirement already satisfied: wrapt>=1.11.0 in c:\\users\\jebbar abdelkader\\anaconda3\\lib\\site-packages (from tensorflow) (1.12.1)\n",
      "Requirement already satisfied: absl-py>=0.4.0 in c:\\users\\jebbar abdelkader\\anaconda3\\lib\\site-packages (from tensorflow) (1.0.0)\n",
      "Requirement already satisfied: keras<2.9,>=2.8.0rc0 in c:\\users\\jebbar abdelkader\\anaconda3\\lib\\site-packages (from tensorflow) (2.8.0)\n",
      "Requirement already satisfied: gast>=0.2.1 in c:\\users\\jebbar abdelkader\\anaconda3\\lib\\site-packages (from tensorflow) (0.5.3)\n",
      "Requirement already satisfied: h5py>=2.9.0 in c:\\users\\jebbar abdelkader\\anaconda3\\lib\\site-packages (from tensorflow) (3.2.1)\n",
      "Requirement already satisfied: numpy>=1.20 in c:\\users\\jebbar abdelkader\\anaconda3\\lib\\site-packages (from tensorflow) (1.20.3)\n",
      "Requirement already satisfied: setuptools in c:\\users\\jebbar abdelkader\\anaconda3\\lib\\site-packages (from tensorflow) (58.0.4)\n",
      "Requirement already satisfied: protobuf>=3.9.2 in c:\\users\\jebbar abdelkader\\anaconda3\\lib\\site-packages (from tensorflow) (3.19.4)\n",
      "Requirement already satisfied: grpcio<2.0,>=1.24.3 in c:\\users\\jebbar abdelkader\\anaconda3\\lib\\site-packages (from tensorflow) (1.43.0)\n",
      "Requirement already satisfied: typing-extensions>=3.6.6 in c:\\users\\jebbar abdelkader\\anaconda3\\lib\\site-packages (from tensorflow) (3.10.0.2)\n",
      "Requirement already satisfied: keras-preprocessing>=1.1.1 in c:\\users\\jebbar abdelkader\\anaconda3\\lib\\site-packages (from tensorflow) (1.1.2)\n",
      "Requirement already satisfied: opt-einsum>=2.3.2 in c:\\users\\jebbar abdelkader\\anaconda3\\lib\\site-packages (from tensorflow) (3.3.0)\n",
      "Requirement already satisfied: six>=1.12.0 in c:\\users\\jebbar abdelkader\\anaconda3\\lib\\site-packages (from tensorflow) (1.16.0)\n",
      "Requirement already satisfied: google-pasta>=0.1.1 in c:\\users\\jebbar abdelkader\\anaconda3\\lib\\site-packages (from tensorflow) (0.2.0)\n",
      "Requirement already satisfied: tensorflow-io-gcs-filesystem>=0.23.1 in c:\\users\\jebbar abdelkader\\anaconda3\\lib\\site-packages (from tensorflow) (0.24.0)\n",
      "Requirement already satisfied: termcolor>=1.1.0 in c:\\users\\jebbar abdelkader\\anaconda3\\lib\\site-packages (from tensorflow) (1.1.0)\n",
      "Requirement already satisfied: tf-estimator-nightly==2.8.0.dev2021122109 in c:\\users\\jebbar abdelkader\\anaconda3\\lib\\site-packages (from tensorflow) (2.8.0.dev2021122109)\n",
      "Requirement already satisfied: tensorboard<2.9,>=2.8 in c:\\users\\jebbar abdelkader\\anaconda3\\lib\\site-packages (from tensorflow) (2.8.0)\n",
      "Requirement already satisfied: astunparse>=1.6.0 in c:\\users\\jebbar abdelkader\\anaconda3\\lib\\site-packages (from tensorflow) (1.6.3)\n",
      "Requirement already satisfied: flatbuffers>=1.12 in c:\\users\\jebbar abdelkader\\anaconda3\\lib\\site-packages (from tensorflow) (2.0)\n",
      "Requirement already satisfied: wheel<1.0,>=0.23.0 in c:\\users\\jebbar abdelkader\\anaconda3\\lib\\site-packages (from astunparse>=1.6.0->tensorflow) (0.37.0)\n",
      "Requirement already satisfied: markdown>=2.6.8 in c:\\users\\jebbar abdelkader\\anaconda3\\lib\\site-packages (from tensorboard<2.9,>=2.8->tensorflow) (3.3.6)\n",
      "Requirement already satisfied: tensorboard-plugin-wit>=1.6.0 in c:\\users\\jebbar abdelkader\\anaconda3\\lib\\site-packages (from tensorboard<2.9,>=2.8->tensorflow) (1.8.1)\n",
      "Requirement already satisfied: tensorboard-data-server<0.7.0,>=0.6.0 in c:\\users\\jebbar abdelkader\\anaconda3\\lib\\site-packages (from tensorboard<2.9,>=2.8->tensorflow) (0.6.1)\n",
      "Requirement already satisfied: google-auth<3,>=1.6.3 in c:\\users\\jebbar abdelkader\\anaconda3\\lib\\site-packages (from tensorboard<2.9,>=2.8->tensorflow) (2.6.0)\n",
      "Requirement already satisfied: requests<3,>=2.21.0 in c:\\users\\jebbar abdelkader\\anaconda3\\lib\\site-packages (from tensorboard<2.9,>=2.8->tensorflow) (2.26.0)\n",
      "Requirement already satisfied: werkzeug>=0.11.15 in c:\\users\\jebbar abdelkader\\anaconda3\\lib\\site-packages (from tensorboard<2.9,>=2.8->tensorflow) (2.0.2)\n",
      "Requirement already satisfied: google-auth-oauthlib<0.5,>=0.4.1 in c:\\users\\jebbar abdelkader\\anaconda3\\lib\\site-packages (from tensorboard<2.9,>=2.8->tensorflow) (0.4.6)\n",
      "Requirement already satisfied: cachetools<6.0,>=2.0.0 in c:\\users\\jebbar abdelkader\\anaconda3\\lib\\site-packages (from google-auth<3,>=1.6.3->tensorboard<2.9,>=2.8->tensorflow) (5.0.0)\n",
      "Requirement already satisfied: rsa<5,>=3.1.4 in c:\\users\\jebbar abdelkader\\anaconda3\\lib\\site-packages (from google-auth<3,>=1.6.3->tensorboard<2.9,>=2.8->tensorflow) (4.8)\n",
      "Requirement already satisfied: pyasn1-modules>=0.2.1 in c:\\users\\jebbar abdelkader\\anaconda3\\lib\\site-packages (from google-auth<3,>=1.6.3->tensorboard<2.9,>=2.8->tensorflow) (0.2.8)\n",
      "Requirement already satisfied: requests-oauthlib>=0.7.0 in c:\\users\\jebbar abdelkader\\anaconda3\\lib\\site-packages (from google-auth-oauthlib<0.5,>=0.4.1->tensorboard<2.9,>=2.8->tensorflow) (1.3.1)\n",
      "Requirement already satisfied: importlib-metadata>=4.4 in c:\\users\\jebbar abdelkader\\anaconda3\\lib\\site-packages (from markdown>=2.6.8->tensorboard<2.9,>=2.8->tensorflow) (4.8.1)\n",
      "Requirement already satisfied: zipp>=0.5 in c:\\users\\jebbar abdelkader\\anaconda3\\lib\\site-packages (from importlib-metadata>=4.4->markdown>=2.6.8->tensorboard<2.9,>=2.8->tensorflow) (3.6.0)\n",
      "Requirement already satisfied: pyasn1<0.5.0,>=0.4.6 in c:\\users\\jebbar abdelkader\\anaconda3\\lib\\site-packages (from pyasn1-modules>=0.2.1->google-auth<3,>=1.6.3->tensorboard<2.9,>=2.8->tensorflow) (0.4.8)\n",
      "Requirement already satisfied: certifi>=2017.4.17 in c:\\users\\jebbar abdelkader\\anaconda3\\lib\\site-packages (from requests<3,>=2.21.0->tensorboard<2.9,>=2.8->tensorflow) (2021.10.8)\n",
      "Requirement already satisfied: charset-normalizer~=2.0.0 in c:\\users\\jebbar abdelkader\\anaconda3\\lib\\site-packages (from requests<3,>=2.21.0->tensorboard<2.9,>=2.8->tensorflow) (2.0.4)\n",
      "Requirement already satisfied: idna<4,>=2.5 in c:\\users\\jebbar abdelkader\\anaconda3\\lib\\site-packages (from requests<3,>=2.21.0->tensorboard<2.9,>=2.8->tensorflow) (3.2)\n",
      "Requirement already satisfied: urllib3<1.27,>=1.21.1 in c:\\users\\jebbar abdelkader\\anaconda3\\lib\\site-packages (from requests<3,>=2.21.0->tensorboard<2.9,>=2.8->tensorflow) (1.26.7)\n",
      "Requirement already satisfied: oauthlib>=3.0.0 in c:\\users\\jebbar abdelkader\\anaconda3\\lib\\site-packages (from requests-oauthlib>=0.7.0->google-auth-oauthlib<0.5,>=0.4.1->tensorboard<2.9,>=2.8->tensorflow) (3.2.0)\n"
     ]
    }
   ],
   "source": [
    "!pip install tensorflow"
   ]
  },
  {
   "cell_type": "code",
   "execution_count": 2,
   "metadata": {
    "ExecuteTime": {
     "end_time": "2022-02-14T22:49:04.543633Z",
     "start_time": "2022-02-14T22:48:56.568611Z"
    }
   },
   "outputs": [],
   "source": [
    "import tensorflow"
   ]
  },
  {
   "cell_type": "code",
   "execution_count": 37,
   "metadata": {
    "ExecuteTime": {
     "end_time": "2022-02-14T23:19:55.885146Z",
     "start_time": "2022-02-14T23:19:55.876135Z"
    },
    "id": "TEHtFf75L2bP"
   },
   "outputs": [],
   "source": [
    "import pandas as pd                       \n",
    "import numpy as np\n",
    "from tensorflow import keras\n",
    "from keras.layers import Dense, Dropout, Flatten, GRU, SimpleRNN, LSTM, Bidirectional, Activation, TimeDistributed\n",
    "from keras.layers.convolutional import Conv1D, MaxPooling1D\n",
    "from sklearn.model_selection import train_test_split\n",
    "from tensorflow.keras import layers\n",
    "from tensorflow.keras.regularizers import l2\n",
    "import matplotlib.pyplot as plt\n"
   ]
  },
  {
   "cell_type": "markdown",
   "metadata": {
    "id": "C4n2Osouf2vD"
   },
   "source": [
    "## 1.2 Read the dataset"
   ]
  },
  {
   "cell_type": "code",
   "execution_count": 38,
   "metadata": {
    "ExecuteTime": {
     "end_time": "2022-02-14T23:19:59.792853Z",
     "start_time": "2022-02-14T23:19:57.072275Z"
    },
    "colab": {
     "base_uri": "https://localhost:8080/",
     "height": 224
    },
    "id": "j3e-YoOWO9hE",
    "outputId": "cba99efb-843c-409f-cffa-7610f3cb6d9e"
   },
   "outputs": [
    {
     "data": {
      "text/html": [
       "<div>\n",
       "<style scoped>\n",
       "    .dataframe tbody tr th:only-of-type {\n",
       "        vertical-align: middle;\n",
       "    }\n",
       "\n",
       "    .dataframe tbody tr th {\n",
       "        vertical-align: top;\n",
       "    }\n",
       "\n",
       "    .dataframe thead th {\n",
       "        text-align: right;\n",
       "    }\n",
       "</style>\n",
       "<table border=\"1\" class=\"dataframe\">\n",
       "  <thead>\n",
       "    <tr style=\"text-align: right;\">\n",
       "      <th></th>\n",
       "      <th>name</th>\n",
       "      <th>sex</th>\n",
       "    </tr>\n",
       "  </thead>\n",
       "  <tbody>\n",
       "    <tr>\n",
       "      <th>0</th>\n",
       "      <td>Mary</td>\n",
       "      <td>F</td>\n",
       "    </tr>\n",
       "    <tr>\n",
       "      <th>1</th>\n",
       "      <td>Anna</td>\n",
       "      <td>F</td>\n",
       "    </tr>\n",
       "    <tr>\n",
       "      <th>2</th>\n",
       "      <td>Emma</td>\n",
       "      <td>F</td>\n",
       "    </tr>\n",
       "    <tr>\n",
       "      <th>3</th>\n",
       "      <td>Elizabeth</td>\n",
       "      <td>F</td>\n",
       "    </tr>\n",
       "    <tr>\n",
       "      <th>4</th>\n",
       "      <td>Minnie</td>\n",
       "      <td>F</td>\n",
       "    </tr>\n",
       "  </tbody>\n",
       "</table>\n",
       "</div>"
      ],
      "text/plain": [
       "        name sex\n",
       "0       Mary   F\n",
       "1       Anna   F\n",
       "2       Emma   F\n",
       "3  Elizabeth   F\n",
       "4     Minnie   F"
      ]
     },
     "execution_count": 38,
     "metadata": {},
     "output_type": "execute_result"
    }
   ],
   "source": [
    "df =pd.read_excel(r\"C:\\Users\\Jebbar Abdelkader\\Desktop\\fiabilisation_28_01_2022\\Gender Classification With  Machine Learning\\training.xlsx\")\n",
    "df.head()"
   ]
  },
  {
   "cell_type": "code",
   "execution_count": 39,
   "metadata": {
    "ExecuteTime": {
     "end_time": "2022-02-14T23:19:59.808783Z",
     "start_time": "2022-02-14T23:19:59.793772Z"
    },
    "colab": {
     "base_uri": "https://localhost:8080/"
    },
    "id": "E_N6fZ4JbXFm",
    "outputId": "0ac30748-eff9-4d73-9e8f-e1ba5728ece7"
   },
   "outputs": [
    {
     "name": "stdout",
     "output_type": "stream",
     "text": [
      "<class 'pandas.core.frame.DataFrame'>\n",
      "RangeIndex: 96438 entries, 0 to 96437\n",
      "Data columns (total 2 columns):\n",
      " #   Column  Non-Null Count  Dtype \n",
      "---  ------  --------------  ----- \n",
      " 0   name    96438 non-null  object\n",
      " 1   sex     96438 non-null  object\n",
      "dtypes: object(2)\n",
      "memory usage: 1.5+ MB\n"
     ]
    }
   ],
   "source": [
    "df.info()"
   ]
  },
  {
   "cell_type": "markdown",
   "metadata": {
    "id": "WzVdVCUKRKCQ"
   },
   "source": [
    "### 1.2.1 Preparing the data "
   ]
  },
  {
   "cell_type": "code",
   "execution_count": 40,
   "metadata": {
    "ExecuteTime": {
     "end_time": "2022-02-14T23:19:59.840528Z",
     "start_time": "2022-02-14T23:19:59.809771Z"
    },
    "id": "Oh_6bEAWbgqT"
   },
   "outputs": [],
   "source": [
    "y = df['sex'].astype(\"category\").cat.codes.values    # y labels into numbers 0 is F and 1 is M\n",
    "names = df['name'].apply(lambda x: x.lower())             # input names"
   ]
  },
  {
   "cell_type": "code",
   "execution_count": 41,
   "metadata": {
    "ExecuteTime": {
     "end_time": "2022-02-14T23:20:02.404493Z",
     "start_time": "2022-02-14T23:20:02.139058Z"
    },
    "colab": {
     "base_uri": "https://localhost:8080/"
    },
    "id": "CTDY5VYBl64k",
    "outputId": "e95b0b9e-454d-49d5-ff93-d33c200fa27f"
   },
   "outputs": [
    {
     "name": "stdout",
     "output_type": "stream",
     "text": [
      "M : 35097\n",
      "F : 61224\n",
      "96438\n"
     ]
    }
   ],
   "source": [
    "\n",
    "print(\"M : \" + str(sum(y==1)))\n",
    "print(\"F : \" + str(sum(y==0)))\n",
    "print(len(y))"
   ]
  },
  {
   "cell_type": "markdown",
   "metadata": {
    "id": "unV-k__Lgb0E"
   },
   "source": [
    "## 1.3 Encoding Words\n",
    "\n",
    "Neural networks can only learn to find patterns in numerical data, so it is necessary to convert our data into numeric values with word encoding or tokenization. "
   ]
  },
  {
   "cell_type": "code",
   "execution_count": 42,
   "metadata": {
    "ExecuteTime": {
     "end_time": "2022-02-14T23:20:20.461699Z",
     "start_time": "2022-02-14T23:20:20.427991Z"
    },
    "id": "8zNIym5uBmHS"
   },
   "outputs": [],
   "source": [
    "#word encoding\n",
    "maxlen = 20                                               # max lenght of a name\n",
    "'''Define a vocabulary which corresponds to all the unique letters encountered'''\n",
    "vocab = set(' '.join([str(i) for i in names]))            # creating a vocab\n",
    "vocab.add('END')\n",
    "len_vocab = len(vocab)\n",
    "''' The dictionary maps each letter of vocabulary to a number '''\n",
    "char_index = dict((c, i) for i, c in enumerate(vocab))    # creating a dictionary\n",
    "\n",
    "# Builds an empty line with a 1 at the index of character\n",
    "def set_flag(i):\n",
    "    aux = np.zeros(len_vocab);\n",
    "    aux[i] = 1\n",
    "    return list(aux)\n",
    "\n",
    "# Truncate names and create the matrix\n",
    "def prepare_encod_names(X):\n",
    "    vec_names = []\n",
    "    trunc_name = [str(i)[0:maxlen] for i in X]  # consider only the first 20 characters\n",
    "    for i in trunc_name:\n",
    "        tmp = [set_flag(char_index[j]) for j in str(i)]\n",
    "        for k in range(0,maxlen - len(str(i))):\n",
    "            tmp.append(set_flag(char_index[\"END\"]))\n",
    "        vec_names.append(tmp)\n",
    "    return vec_names"
   ]
  },
  {
   "cell_type": "code",
   "execution_count": 43,
   "metadata": {
    "ExecuteTime": {
     "end_time": "2022-02-14T23:20:23.544557Z",
     "start_time": "2022-02-14T23:20:23.531558Z"
    }
   },
   "outputs": [
    {
     "data": {
      "text/plain": [
       "array(['mary', 'anna', 'emma', ..., 'papeterie ', 'librairie', 'jdfhj'],\n",
       "      dtype=object)"
      ]
     },
     "execution_count": 43,
     "metadata": {},
     "output_type": "execute_result"
    }
   ],
   "source": [
    "names.values"
   ]
  },
  {
   "cell_type": "code",
   "execution_count": 44,
   "metadata": {
    "ExecuteTime": {
     "end_time": "2022-02-14T23:20:37.141639Z",
     "start_time": "2022-02-14T23:20:25.495633Z"
    },
    "id": "7pNJbOIUeqFf"
   },
   "outputs": [],
   "source": [
    "x = prepare_encod_names(names.values)   # Now the names are encod as a vector of numbers "
   ]
  },
  {
   "cell_type": "markdown",
   "metadata": {
    "id": "FXl0jak5hfeW"
   },
   "source": [
    "## 1.4 Split the data into test and train"
   ]
  },
  {
   "cell_type": "code",
   "execution_count": 45,
   "metadata": {
    "ExecuteTime": {
     "end_time": "2022-02-14T23:22:25.146590Z",
     "start_time": "2022-02-14T23:22:21.969972Z"
    },
    "id": "23kNSk8pb_W1"
   },
   "outputs": [],
   "source": [
    "# train, val, test set will be 60%, 20%, 20% of the dataset respectively\n",
    "x_train, x_test, y_train, y_test = train_test_split(x, y, test_size=0.2, random_state=42)\n",
    "x_train, x_val, y_train, y_val = train_test_split(x_train, y_train, test_size=0.2, random_state=42)\n",
    "x_train = np.asarray(x_train)\n",
    "y_train = np.asarray(y_train)\n",
    "x_test = np.asarray(x_test)\n",
    "y_test = np.asarray(y_test)\n",
    "x_val = np.asarray(x_val)\n",
    "y_val = np.asarray(y_val)"
   ]
  },
  {
   "cell_type": "markdown",
   "metadata": {
    "id": "cdG3or3Jhqle"
   },
   "source": [
    "## 1.5 Building the CNN Model"
   ]
  },
  {
   "cell_type": "code",
   "execution_count": 11,
   "metadata": {
    "ExecuteTime": {
     "end_time": "2022-02-14T22:49:32.102070Z",
     "start_time": "2022-02-14T22:49:30.816045Z"
    },
    "colab": {
     "base_uri": "https://localhost:8080/"
    },
    "id": "o_NSKAuiMh0p",
    "outputId": "ba94a925-26e9-4818-d4f7-f838b18ce9e8"
   },
   "outputs": [],
   "source": [
    "CNNmodel = keras.Sequential()  \n",
    "CNNmodel.add(Conv1D(32, 2, activation='relu', input_shape=(20,28) )) # 32 convolution filters used each of size 2\n",
    "CNNmodel.add(Conv1D(64, 3, activation='relu' ))       # 64 convolution filters used each of size 3\n",
    "CNNmodel.add(MaxPooling1D(pool_size=(1,)))            # choose the best features via pooling\n",
    "CNNmodel.add(Dropout(0.25))                           # randomly turn neurons on and off to improve convergence\n",
    "CNNmodel.add(Flatten())                               # flatten we only want a classification output\n",
    "CNNmodel.add(Dense(150, activation='relu'))           # fully connected to get all relevant data\n",
    "CNNmodel.add(Dropout(0.1))                            # one more dropout\n",
    "CNNmodel.add(Dense(1, activation='sigmoid'))          # output \n",
    "\n",
    "lr_schedule = keras.optimizers.schedules.ExponentialDecay(\n",
    "    initial_learning_rate=1e-2,\n",
    "    decay_steps=10000,\n",
    "    decay_rate=0.9)\n",
    "opt = keras.optimizers.Adagrad(learning_rate=lr_schedule)\n",
    "CNNmodel.compile(loss='binary_crossentropy', optimizer=opt, metrics=['accuracy'])\n",
    "validation_data=(x_val, y_val)\n",
    "#CNNhistory = CNNmodel.fit(x_train, y_train, validation_data,  epochs=20, batch_size=128) # Getting score metrics\n",
    "#scores = CNNmodel.evaluate(x_test, y_test) \n",
    "#print(\"Accuracy: %.2f%%\" % (scores[1]*100))"
   ]
  },
  {
   "cell_type": "markdown",
   "metadata": {
    "id": "c0WiWfu32ytT"
   },
   "source": [
    "## 1.6 Building the RNN Model"
   ]
  },
  {
   "cell_type": "code",
   "execution_count": 12,
   "metadata": {
    "ExecuteTime": {
     "end_time": "2022-02-14T22:50:46.048094Z",
     "start_time": "2022-02-14T22:49:32.104990Z"
    },
    "colab": {
     "base_uri": "https://localhost:8080/"
    },
    "id": "zwwNwnTmaY4i",
    "outputId": "d7f80c76-19cc-44b6-9291-fd4c45292f23"
   },
   "outputs": [
    {
     "name": "stdout",
     "output_type": "stream",
     "text": [
      "Epoch 1/20\n",
      "483/483 [==============================] - 4s 8ms/step - loss: 0.4267 - accuracy: 0.7986 - val_loss: 0.3785 - val_accuracy: 0.8296\n",
      "Epoch 2/20\n",
      "483/483 [==============================] - 3s 7ms/step - loss: 0.3596 - accuracy: 0.8384 - val_loss: 0.3542 - val_accuracy: 0.8409\n",
      "Epoch 3/20\n",
      "483/483 [==============================] - 4s 7ms/step - loss: 0.3485 - accuracy: 0.8430 - val_loss: 0.3478 - val_accuracy: 0.8465\n",
      "Epoch 4/20\n",
      "483/483 [==============================] - 3s 7ms/step - loss: 0.3371 - accuracy: 0.8493 - val_loss: 0.3474 - val_accuracy: 0.8453\n",
      "Epoch 5/20\n",
      "483/483 [==============================] - 4s 8ms/step - loss: 0.3316 - accuracy: 0.8513 - val_loss: 0.3442 - val_accuracy: 0.8461\n",
      "Epoch 6/20\n",
      "483/483 [==============================] - 3s 7ms/step - loss: 0.3256 - accuracy: 0.8528 - val_loss: 0.3617 - val_accuracy: 0.8409\n",
      "Epoch 7/20\n",
      "483/483 [==============================] - 4s 9ms/step - loss: 0.3230 - accuracy: 0.8550 - val_loss: 0.3489 - val_accuracy: 0.8452\n",
      "Epoch 8/20\n",
      "483/483 [==============================] - 4s 7ms/step - loss: 0.3172 - accuracy: 0.8580 - val_loss: 0.3271 - val_accuracy: 0.8518\n",
      "Epoch 9/20\n",
      "483/483 [==============================] - 4s 8ms/step - loss: 0.3122 - accuracy: 0.8582 - val_loss: 0.3309 - val_accuracy: 0.8522\n",
      "Epoch 10/20\n",
      "483/483 [==============================] - 3s 6ms/step - loss: 0.3097 - accuracy: 0.8597 - val_loss: 0.3272 - val_accuracy: 0.8549\n",
      "Epoch 11/20\n",
      "483/483 [==============================] - 3s 7ms/step - loss: 0.3071 - accuracy: 0.8594 - val_loss: 0.3242 - val_accuracy: 0.8540\n",
      "Epoch 12/20\n",
      "483/483 [==============================] - 4s 8ms/step - loss: 0.3056 - accuracy: 0.8614 - val_loss: 0.3232 - val_accuracy: 0.8559\n",
      "Epoch 13/20\n",
      "483/483 [==============================] - 4s 7ms/step - loss: 0.3030 - accuracy: 0.8606 - val_loss: 0.3260 - val_accuracy: 0.8561\n",
      "Epoch 14/20\n",
      "483/483 [==============================] - 3s 7ms/step - loss: 0.3000 - accuracy: 0.8648 - val_loss: 0.3249 - val_accuracy: 0.8579\n",
      "Epoch 15/20\n",
      "483/483 [==============================] - 3s 7ms/step - loss: 0.2987 - accuracy: 0.8636 - val_loss: 0.3264 - val_accuracy: 0.8535\n",
      "Epoch 16/20\n",
      "483/483 [==============================] - 3s 6ms/step - loss: 0.2962 - accuracy: 0.8645 - val_loss: 0.3260 - val_accuracy: 0.8534\n",
      "Epoch 17/20\n",
      "483/483 [==============================] - 3s 7ms/step - loss: 0.2945 - accuracy: 0.8632 - val_loss: 0.3215 - val_accuracy: 0.8588\n",
      "Epoch 18/20\n",
      "483/483 [==============================] - 4s 8ms/step - loss: 0.2924 - accuracy: 0.8655 - val_loss: 0.3429 - val_accuracy: 0.8480\n",
      "Epoch 19/20\n",
      "483/483 [==============================] - 4s 8ms/step - loss: 0.2927 - accuracy: 0.8640 - val_loss: 0.3257 - val_accuracy: 0.8533\n",
      "Epoch 20/20\n",
      "483/483 [==============================] - 4s 8ms/step - loss: 0.2911 - accuracy: 0.8646 - val_loss: 0.3226 - val_accuracy: 0.8564\n",
      "603/603 [==============================] - 2s 3ms/step - loss: 0.3193 - accuracy: 0.8582\n",
      "Accuracy: 85.82%\n"
     ]
    }
   ],
   "source": [
    "RNNmodel=keras.Sequential()\n",
    "RNNmodel.add(SimpleRNN(32, input_shape=(x_train.shape[1],x_train.shape[2]), activation='tanh', return_sequences=True))\n",
    "RNNmodel.add(TimeDistributed(Dense(1))) \n",
    "RNNmodel.add(Flatten())\n",
    "RNNmodel.add(Dense(1, activation='sigmoid'))\n",
    "\n",
    "lr_schedule = keras.optimizers.schedules.ExponentialDecay(\n",
    "    initial_learning_rate=1e-2,\n",
    "    decay_steps=10000,\n",
    "    decay_rate=0.9)\n",
    "opt = keras.optimizers.Adam(learning_rate=lr_schedule)\n",
    "RNNmodel.compile(loss='binary_crossentropy', optimizer=opt, metrics=['accuracy'])\n",
    "\n",
    "RNNhistory=RNNmodel.fit(x_train, y_train , epochs=20, batch_size=128, validation_data=(x_val,y_val))\n",
    "RNNscores = RNNmodel.evaluate(x_test, y_test) \n",
    "print(\"Accuracy: %.2f%%\" % (RNNscores[1]*100))"
   ]
  },
  {
   "cell_type": "code",
   "execution_count": 30,
   "metadata": {
    "ExecuteTime": {
     "end_time": "2022-02-14T23:16:45.700572Z",
     "start_time": "2022-02-14T23:16:45.630334Z"
    }
   },
   "outputs": [
    {
     "ename": "KeyError",
     "evalue": "'A'",
     "output_type": "error",
     "traceback": [
      "\u001b[1;31m---------------------------------------------------------------------------\u001b[0m",
      "\u001b[1;31mKeyError\u001b[0m                                  Traceback (most recent call last)",
      "\u001b[1;32mC:\\Users\\JEBBAR~1\\AppData\\Local\\Temp/ipykernel_19852/2830223580.py\u001b[0m in \u001b[0;36m<module>\u001b[1;34m\u001b[0m\n\u001b[0;32m      7\u001b[0m         \u001b[1;32mreturn\u001b[0m \u001b[1;34m\"Female\"\u001b[0m\u001b[1;33m\u001b[0m\u001b[1;33m\u001b[0m\u001b[0m\n\u001b[0;32m      8\u001b[0m \u001b[0mfemale\u001b[0m\u001b[1;33m=\u001b[0m\u001b[0mpd\u001b[0m\u001b[1;33m.\u001b[0m\u001b[0mread_excel\u001b[0m\u001b[1;33m(\u001b[0m\u001b[1;34mr\"C:\\Users\\Jebbar Abdelkader\\Desktop\\ListeFE.xlsx\"\u001b[0m\u001b[1;33m)\u001b[0m\u001b[1;33m\u001b[0m\u001b[1;33m\u001b[0m\u001b[0m\n\u001b[1;32m----> 9\u001b[1;33m \u001b[0mfemale\u001b[0m\u001b[1;33m[\u001b[0m\u001b[1;34m'genre'\u001b[0m\u001b[1;33m]\u001b[0m\u001b[1;33m=\u001b[0m\u001b[0mfemale\u001b[0m\u001b[1;33m[\u001b[0m\u001b[1;34m'name'\u001b[0m\u001b[1;33m]\u001b[0m\u001b[1;33m.\u001b[0m\u001b[0mapply\u001b[0m\u001b[1;33m(\u001b[0m\u001b[1;32mlambda\u001b[0m \u001b[0mx\u001b[0m\u001b[1;33m:\u001b[0m\u001b[0mgenderpredictor2\u001b[0m\u001b[1;33m(\u001b[0m\u001b[0mx\u001b[0m\u001b[1;33m)\u001b[0m\u001b[1;33m)\u001b[0m\u001b[1;33m\u001b[0m\u001b[1;33m\u001b[0m\u001b[0m\n\u001b[0m",
      "\u001b[1;32m~\\anaconda3\\lib\\site-packages\\pandas\\core\\series.py\u001b[0m in \u001b[0;36mapply\u001b[1;34m(self, func, convert_dtype, args, **kwargs)\u001b[0m\n\u001b[0;32m   4355\u001b[0m         \u001b[0mdtype\u001b[0m\u001b[1;33m:\u001b[0m \u001b[0mfloat64\u001b[0m\u001b[1;33m\u001b[0m\u001b[1;33m\u001b[0m\u001b[0m\n\u001b[0;32m   4356\u001b[0m         \"\"\"\n\u001b[1;32m-> 4357\u001b[1;33m         \u001b[1;32mreturn\u001b[0m \u001b[0mSeriesApply\u001b[0m\u001b[1;33m(\u001b[0m\u001b[0mself\u001b[0m\u001b[1;33m,\u001b[0m \u001b[0mfunc\u001b[0m\u001b[1;33m,\u001b[0m \u001b[0mconvert_dtype\u001b[0m\u001b[1;33m,\u001b[0m \u001b[0margs\u001b[0m\u001b[1;33m,\u001b[0m \u001b[0mkwargs\u001b[0m\u001b[1;33m)\u001b[0m\u001b[1;33m.\u001b[0m\u001b[0mapply\u001b[0m\u001b[1;33m(\u001b[0m\u001b[1;33m)\u001b[0m\u001b[1;33m\u001b[0m\u001b[1;33m\u001b[0m\u001b[0m\n\u001b[0m\u001b[0;32m   4358\u001b[0m \u001b[1;33m\u001b[0m\u001b[0m\n\u001b[0;32m   4359\u001b[0m     def _reduce(\n",
      "\u001b[1;32m~\\anaconda3\\lib\\site-packages\\pandas\\core\\apply.py\u001b[0m in \u001b[0;36mapply\u001b[1;34m(self)\u001b[0m\n\u001b[0;32m   1041\u001b[0m             \u001b[1;32mreturn\u001b[0m \u001b[0mself\u001b[0m\u001b[1;33m.\u001b[0m\u001b[0mapply_str\u001b[0m\u001b[1;33m(\u001b[0m\u001b[1;33m)\u001b[0m\u001b[1;33m\u001b[0m\u001b[1;33m\u001b[0m\u001b[0m\n\u001b[0;32m   1042\u001b[0m \u001b[1;33m\u001b[0m\u001b[0m\n\u001b[1;32m-> 1043\u001b[1;33m         \u001b[1;32mreturn\u001b[0m \u001b[0mself\u001b[0m\u001b[1;33m.\u001b[0m\u001b[0mapply_standard\u001b[0m\u001b[1;33m(\u001b[0m\u001b[1;33m)\u001b[0m\u001b[1;33m\u001b[0m\u001b[1;33m\u001b[0m\u001b[0m\n\u001b[0m\u001b[0;32m   1044\u001b[0m \u001b[1;33m\u001b[0m\u001b[0m\n\u001b[0;32m   1045\u001b[0m     \u001b[1;32mdef\u001b[0m \u001b[0magg\u001b[0m\u001b[1;33m(\u001b[0m\u001b[0mself\u001b[0m\u001b[1;33m)\u001b[0m\u001b[1;33m:\u001b[0m\u001b[1;33m\u001b[0m\u001b[1;33m\u001b[0m\u001b[0m\n",
      "\u001b[1;32m~\\anaconda3\\lib\\site-packages\\pandas\\core\\apply.py\u001b[0m in \u001b[0;36mapply_standard\u001b[1;34m(self)\u001b[0m\n\u001b[0;32m   1096\u001b[0m                 \u001b[1;31m# List[Union[Callable[..., Any], str]]]]]\"; expected\u001b[0m\u001b[1;33m\u001b[0m\u001b[1;33m\u001b[0m\u001b[0m\n\u001b[0;32m   1097\u001b[0m                 \u001b[1;31m# \"Callable[[Any], Any]\"\u001b[0m\u001b[1;33m\u001b[0m\u001b[1;33m\u001b[0m\u001b[0m\n\u001b[1;32m-> 1098\u001b[1;33m                 mapped = lib.map_infer(\n\u001b[0m\u001b[0;32m   1099\u001b[0m                     \u001b[0mvalues\u001b[0m\u001b[1;33m,\u001b[0m\u001b[1;33m\u001b[0m\u001b[1;33m\u001b[0m\u001b[0m\n\u001b[0;32m   1100\u001b[0m                     \u001b[0mf\u001b[0m\u001b[1;33m,\u001b[0m  \u001b[1;31m# type: ignore[arg-type]\u001b[0m\u001b[1;33m\u001b[0m\u001b[1;33m\u001b[0m\u001b[0m\n",
      "\u001b[1;32m~\\anaconda3\\lib\\site-packages\\pandas\\_libs\\lib.pyx\u001b[0m in \u001b[0;36mpandas._libs.lib.map_infer\u001b[1;34m()\u001b[0m\n",
      "\u001b[1;32mC:\\Users\\JEBBAR~1\\AppData\\Local\\Temp/ipykernel_19852/2830223580.py\u001b[0m in \u001b[0;36m<lambda>\u001b[1;34m(x)\u001b[0m\n\u001b[0;32m      7\u001b[0m         \u001b[1;32mreturn\u001b[0m \u001b[1;34m\"Female\"\u001b[0m\u001b[1;33m\u001b[0m\u001b[1;33m\u001b[0m\u001b[0m\n\u001b[0;32m      8\u001b[0m \u001b[0mfemale\u001b[0m\u001b[1;33m=\u001b[0m\u001b[0mpd\u001b[0m\u001b[1;33m.\u001b[0m\u001b[0mread_excel\u001b[0m\u001b[1;33m(\u001b[0m\u001b[1;34mr\"C:\\Users\\Jebbar Abdelkader\\Desktop\\ListeFE.xlsx\"\u001b[0m\u001b[1;33m)\u001b[0m\u001b[1;33m\u001b[0m\u001b[1;33m\u001b[0m\u001b[0m\n\u001b[1;32m----> 9\u001b[1;33m \u001b[0mfemale\u001b[0m\u001b[1;33m[\u001b[0m\u001b[1;34m'genre'\u001b[0m\u001b[1;33m]\u001b[0m\u001b[1;33m=\u001b[0m\u001b[0mfemale\u001b[0m\u001b[1;33m[\u001b[0m\u001b[1;34m'name'\u001b[0m\u001b[1;33m]\u001b[0m\u001b[1;33m.\u001b[0m\u001b[0mapply\u001b[0m\u001b[1;33m(\u001b[0m\u001b[1;32mlambda\u001b[0m \u001b[0mx\u001b[0m\u001b[1;33m:\u001b[0m\u001b[0mgenderpredictor2\u001b[0m\u001b[1;33m(\u001b[0m\u001b[0mx\u001b[0m\u001b[1;33m)\u001b[0m\u001b[1;33m)\u001b[0m\u001b[1;33m\u001b[0m\u001b[1;33m\u001b[0m\u001b[0m\n\u001b[0m",
      "\u001b[1;32mC:\\Users\\JEBBAR~1\\AppData\\Local\\Temp/ipykernel_19852/2830223580.py\u001b[0m in \u001b[0;36mgenderpredictor2\u001b[1;34m(a)\u001b[0m\n\u001b[0;32m      1\u001b[0m \u001b[1;32mdef\u001b[0m \u001b[0mgenderpredictor2\u001b[0m\u001b[1;33m(\u001b[0m\u001b[0ma\u001b[0m\u001b[1;33m)\u001b[0m\u001b[1;33m:\u001b[0m\u001b[1;33m\u001b[0m\u001b[1;33m\u001b[0m\u001b[0m\n\u001b[1;32m----> 2\u001b[1;33m     \u001b[0mtestename\u001b[0m \u001b[1;33m=\u001b[0m \u001b[0mprepare_encod_names\u001b[0m\u001b[1;33m(\u001b[0m\u001b[1;33m{\u001b[0m\u001b[0ma\u001b[0m\u001b[1;33m}\u001b[0m\u001b[1;33m)\u001b[0m   \u001b[1;31m# Now the names are encod as a vector of numbers with weight\u001b[0m\u001b[1;33m\u001b[0m\u001b[1;33m\u001b[0m\u001b[0m\n\u001b[0m\u001b[0;32m      3\u001b[0m     \u001b[0mre\u001b[0m\u001b[1;33m=\u001b[0m\u001b[1;33m(\u001b[0m\u001b[0mRNNmodel\u001b[0m\u001b[1;33m.\u001b[0m\u001b[0mpredict\u001b[0m\u001b[1;33m(\u001b[0m\u001b[0mtestename\u001b[0m\u001b[1;33m)\u001b[0m \u001b[1;33m>\u001b[0m \u001b[1;36m0.5\u001b[0m\u001b[1;33m)\u001b[0m\u001b[1;33m.\u001b[0m\u001b[0mastype\u001b[0m\u001b[1;33m(\u001b[0m\u001b[1;34m\"int32\"\u001b[0m\u001b[1;33m)\u001b[0m\u001b[1;33m\u001b[0m\u001b[1;33m\u001b[0m\u001b[0m\n\u001b[0;32m      4\u001b[0m     \u001b[1;32mif\u001b[0m \u001b[0mint\u001b[0m\u001b[1;33m(\u001b[0m\u001b[0mre\u001b[0m\u001b[1;33m)\u001b[0m\u001b[1;33m==\u001b[0m\u001b[1;36m1\u001b[0m\u001b[1;33m:\u001b[0m\u001b[1;33m\u001b[0m\u001b[1;33m\u001b[0m\u001b[0m\n\u001b[0;32m      5\u001b[0m         \u001b[1;32mreturn\u001b[0m \u001b[1;34m\"Male\"\u001b[0m\u001b[1;33m\u001b[0m\u001b[1;33m\u001b[0m\u001b[0m\n",
      "\u001b[1;32mC:\\Users\\JEBBAR~1\\AppData\\Local\\Temp/ipykernel_19852/2799139368.py\u001b[0m in \u001b[0;36mprepare_encod_names\u001b[1;34m(X)\u001b[0m\n\u001b[0;32m     19\u001b[0m     \u001b[0mtrunc_name\u001b[0m \u001b[1;33m=\u001b[0m \u001b[1;33m[\u001b[0m\u001b[0mstr\u001b[0m\u001b[1;33m(\u001b[0m\u001b[0mi\u001b[0m\u001b[1;33m)\u001b[0m\u001b[1;33m[\u001b[0m\u001b[1;36m0\u001b[0m\u001b[1;33m:\u001b[0m\u001b[0mmaxlen\u001b[0m\u001b[1;33m]\u001b[0m \u001b[1;32mfor\u001b[0m \u001b[0mi\u001b[0m \u001b[1;32min\u001b[0m \u001b[0mX\u001b[0m\u001b[1;33m]\u001b[0m  \u001b[1;31m# consider only the first 20 characters\u001b[0m\u001b[1;33m\u001b[0m\u001b[1;33m\u001b[0m\u001b[0m\n\u001b[0;32m     20\u001b[0m     \u001b[1;32mfor\u001b[0m \u001b[0mi\u001b[0m \u001b[1;32min\u001b[0m \u001b[0mtrunc_name\u001b[0m\u001b[1;33m:\u001b[0m\u001b[1;33m\u001b[0m\u001b[1;33m\u001b[0m\u001b[0m\n\u001b[1;32m---> 21\u001b[1;33m         \u001b[0mtmp\u001b[0m \u001b[1;33m=\u001b[0m \u001b[1;33m[\u001b[0m\u001b[0mset_flag\u001b[0m\u001b[1;33m(\u001b[0m\u001b[0mchar_index\u001b[0m\u001b[1;33m[\u001b[0m\u001b[0mj\u001b[0m\u001b[1;33m]\u001b[0m\u001b[1;33m)\u001b[0m \u001b[1;32mfor\u001b[0m \u001b[0mj\u001b[0m \u001b[1;32min\u001b[0m \u001b[0mstr\u001b[0m\u001b[1;33m(\u001b[0m\u001b[0mi\u001b[0m\u001b[1;33m)\u001b[0m\u001b[1;33m]\u001b[0m\u001b[1;33m\u001b[0m\u001b[1;33m\u001b[0m\u001b[0m\n\u001b[0m\u001b[0;32m     22\u001b[0m         \u001b[1;32mfor\u001b[0m \u001b[0mk\u001b[0m \u001b[1;32min\u001b[0m \u001b[0mrange\u001b[0m\u001b[1;33m(\u001b[0m\u001b[1;36m0\u001b[0m\u001b[1;33m,\u001b[0m\u001b[0mmaxlen\u001b[0m \u001b[1;33m-\u001b[0m \u001b[0mlen\u001b[0m\u001b[1;33m(\u001b[0m\u001b[0mstr\u001b[0m\u001b[1;33m(\u001b[0m\u001b[0mi\u001b[0m\u001b[1;33m)\u001b[0m\u001b[1;33m)\u001b[0m\u001b[1;33m)\u001b[0m\u001b[1;33m:\u001b[0m\u001b[1;33m\u001b[0m\u001b[1;33m\u001b[0m\u001b[0m\n\u001b[0;32m     23\u001b[0m             \u001b[0mtmp\u001b[0m\u001b[1;33m.\u001b[0m\u001b[0mappend\u001b[0m\u001b[1;33m(\u001b[0m\u001b[0mset_flag\u001b[0m\u001b[1;33m(\u001b[0m\u001b[0mchar_index\u001b[0m\u001b[1;33m[\u001b[0m\u001b[1;34m\"END\"\u001b[0m\u001b[1;33m]\u001b[0m\u001b[1;33m)\u001b[0m\u001b[1;33m)\u001b[0m\u001b[1;33m\u001b[0m\u001b[1;33m\u001b[0m\u001b[0m\n",
      "\u001b[1;32mC:\\Users\\JEBBAR~1\\AppData\\Local\\Temp/ipykernel_19852/2799139368.py\u001b[0m in \u001b[0;36m<listcomp>\u001b[1;34m(.0)\u001b[0m\n\u001b[0;32m     19\u001b[0m     \u001b[0mtrunc_name\u001b[0m \u001b[1;33m=\u001b[0m \u001b[1;33m[\u001b[0m\u001b[0mstr\u001b[0m\u001b[1;33m(\u001b[0m\u001b[0mi\u001b[0m\u001b[1;33m)\u001b[0m\u001b[1;33m[\u001b[0m\u001b[1;36m0\u001b[0m\u001b[1;33m:\u001b[0m\u001b[0mmaxlen\u001b[0m\u001b[1;33m]\u001b[0m \u001b[1;32mfor\u001b[0m \u001b[0mi\u001b[0m \u001b[1;32min\u001b[0m \u001b[0mX\u001b[0m\u001b[1;33m]\u001b[0m  \u001b[1;31m# consider only the first 20 characters\u001b[0m\u001b[1;33m\u001b[0m\u001b[1;33m\u001b[0m\u001b[0m\n\u001b[0;32m     20\u001b[0m     \u001b[1;32mfor\u001b[0m \u001b[0mi\u001b[0m \u001b[1;32min\u001b[0m \u001b[0mtrunc_name\u001b[0m\u001b[1;33m:\u001b[0m\u001b[1;33m\u001b[0m\u001b[1;33m\u001b[0m\u001b[0m\n\u001b[1;32m---> 21\u001b[1;33m         \u001b[0mtmp\u001b[0m \u001b[1;33m=\u001b[0m \u001b[1;33m[\u001b[0m\u001b[0mset_flag\u001b[0m\u001b[1;33m(\u001b[0m\u001b[0mchar_index\u001b[0m\u001b[1;33m[\u001b[0m\u001b[0mj\u001b[0m\u001b[1;33m]\u001b[0m\u001b[1;33m)\u001b[0m \u001b[1;32mfor\u001b[0m \u001b[0mj\u001b[0m \u001b[1;32min\u001b[0m \u001b[0mstr\u001b[0m\u001b[1;33m(\u001b[0m\u001b[0mi\u001b[0m\u001b[1;33m)\u001b[0m\u001b[1;33m]\u001b[0m\u001b[1;33m\u001b[0m\u001b[1;33m\u001b[0m\u001b[0m\n\u001b[0m\u001b[0;32m     22\u001b[0m         \u001b[1;32mfor\u001b[0m \u001b[0mk\u001b[0m \u001b[1;32min\u001b[0m \u001b[0mrange\u001b[0m\u001b[1;33m(\u001b[0m\u001b[1;36m0\u001b[0m\u001b[1;33m,\u001b[0m\u001b[0mmaxlen\u001b[0m \u001b[1;33m-\u001b[0m \u001b[0mlen\u001b[0m\u001b[1;33m(\u001b[0m\u001b[0mstr\u001b[0m\u001b[1;33m(\u001b[0m\u001b[0mi\u001b[0m\u001b[1;33m)\u001b[0m\u001b[1;33m)\u001b[0m\u001b[1;33m)\u001b[0m\u001b[1;33m:\u001b[0m\u001b[1;33m\u001b[0m\u001b[1;33m\u001b[0m\u001b[0m\n\u001b[0;32m     23\u001b[0m             \u001b[0mtmp\u001b[0m\u001b[1;33m.\u001b[0m\u001b[0mappend\u001b[0m\u001b[1;33m(\u001b[0m\u001b[0mset_flag\u001b[0m\u001b[1;33m(\u001b[0m\u001b[0mchar_index\u001b[0m\u001b[1;33m[\u001b[0m\u001b[1;34m\"END\"\u001b[0m\u001b[1;33m]\u001b[0m\u001b[1;33m)\u001b[0m\u001b[1;33m)\u001b[0m\u001b[1;33m\u001b[0m\u001b[1;33m\u001b[0m\u001b[0m\n",
      "\u001b[1;31mKeyError\u001b[0m: 'A'"
     ]
    }
   ],
   "source": [
    "def genderpredictor2(a):\n",
    "    testename = prepare_encod_names({a})   # Now the names are encod as a vector of numbers with weight\n",
    "    re=(RNNmodel.predict(testename) > 0.5).astype(\"int32\")\n",
    "    if int(re)==1:\n",
    "        return \"Male\"\n",
    "    else:\n",
    "        return \"Female\"\n",
    "female=pd.read_excel(r\"C:\\Users\\Jebbar Abdelkader\\Desktop\\ListeFE.xlsx\")\n",
    "female['genre']=female['name'].apply(lambda x:genderpredictor2(x))"
   ]
  },
  {
   "cell_type": "markdown",
   "metadata": {
    "id": "4ihfBuKG22KE"
   },
   "source": [
    "## 1.7 Building the GRU Model"
   ]
  },
  {
   "cell_type": "code",
   "execution_count": 13,
   "metadata": {
    "ExecuteTime": {
     "end_time": "2022-02-14T22:53:22.776015Z",
     "start_time": "2022-02-14T22:50:46.049828Z"
    },
    "colab": {
     "base_uri": "https://localhost:8080/"
    },
    "id": "uG-syJZFcEHD",
    "outputId": "fd97e366-8126-4510-f237-0778eb5877f6"
   },
   "outputs": [
    {
     "name": "stdout",
     "output_type": "stream",
     "text": [
      "Epoch 1/20\n",
      "483/483 [==============================] - 10s 18ms/step - loss: 0.3964 - accuracy: 0.8164 - val_loss: 0.3532 - val_accuracy: 0.8441\n",
      "Epoch 2/20\n",
      "483/483 [==============================] - 8s 17ms/step - loss: 0.3270 - accuracy: 0.8542 - val_loss: 0.3113 - val_accuracy: 0.8612\n",
      "Epoch 3/20\n",
      "483/483 [==============================] - 8s 16ms/step - loss: 0.2960 - accuracy: 0.8662 - val_loss: 0.2906 - val_accuracy: 0.8693\n",
      "Epoch 4/20\n",
      "483/483 [==============================] - 8s 16ms/step - loss: 0.2685 - accuracy: 0.8744 - val_loss: 0.2894 - val_accuracy: 0.8723\n",
      "Epoch 5/20\n",
      "483/483 [==============================] - 8s 17ms/step - loss: 0.2535 - accuracy: 0.8777 - val_loss: 0.2947 - val_accuracy: 0.8668\n",
      "Epoch 6/20\n",
      "483/483 [==============================] - 7s 15ms/step - loss: 0.2276 - accuracy: 0.8775 - val_loss: 0.2359 - val_accuracy: 0.8707\n",
      "Epoch 7/20\n",
      "483/483 [==============================] - 8s 17ms/step - loss: 0.3361 - accuracy: 0.8524 - val_loss: 0.3020 - val_accuracy: 0.8552\n",
      "Epoch 8/20\n",
      "483/483 [==============================] - 8s 16ms/step - loss: 0.2178 - accuracy: 0.8622 - val_loss: 0.2482 - val_accuracy: 0.8610\n",
      "Epoch 9/20\n",
      "483/483 [==============================] - 8s 16ms/step - loss: 0.2188 - accuracy: 0.8546 - val_loss: 0.3282 - val_accuracy: 0.8257\n",
      "Epoch 10/20\n",
      "483/483 [==============================] - 7s 15ms/step - loss: 0.1962 - accuracy: 0.8402 - val_loss: 0.2036 - val_accuracy: 0.8493\n",
      "Epoch 11/20\n",
      "483/483 [==============================] - 7s 15ms/step - loss: 0.0915 - accuracy: 0.8462 - val_loss: 0.1751 - val_accuracy: 0.8516\n",
      "Epoch 12/20\n",
      "483/483 [==============================] - 8s 16ms/step - loss: 0.0273 - accuracy: 0.8455 - val_loss: 0.2162 - val_accuracy: 0.8290\n",
      "Epoch 13/20\n",
      "483/483 [==============================] - 8s 16ms/step - loss: -0.0616 - accuracy: 0.8407 - val_loss: 0.1488 - val_accuracy: 0.8237\n",
      "Epoch 14/20\n",
      "483/483 [==============================] - 7s 15ms/step - loss: -0.2987 - accuracy: 0.8282 - val_loss: 0.2945 - val_accuracy: 0.7881\n",
      "Epoch 15/20\n",
      "483/483 [==============================] - 7s 15ms/step - loss: -0.2382 - accuracy: 0.7965 - val_loss: -0.0069 - val_accuracy: 0.7964\n",
      "Epoch 16/20\n",
      "483/483 [==============================] - 7s 14ms/step - loss: -0.6026 - accuracy: 0.8078 - val_loss: 0.3825 - val_accuracy: 0.6847\n",
      "Epoch 17/20\n",
      "483/483 [==============================] - 7s 15ms/step - loss: -1.0876 - accuracy: 0.8079 - val_loss: -0.5347 - val_accuracy: 0.8351\n",
      "Epoch 18/20\n",
      "483/483 [==============================] - 7s 15ms/step - loss: -1.0007 - accuracy: 0.7972 - val_loss: -0.1375 - val_accuracy: 0.6619\n",
      "Epoch 19/20\n",
      "483/483 [==============================] - 8s 16ms/step - loss: -1.1027 - accuracy: 0.7950 - val_loss: 0.1082 - val_accuracy: 0.7674\n",
      "Epoch 20/20\n",
      "483/483 [==============================] - 8s 16ms/step - loss: -1.9557 - accuracy: 0.7859 - val_loss: -1.2528 - val_accuracy: 0.7967\n",
      "603/603 [==============================] - 2s 3ms/step - loss: -0.7722 - accuracy: 0.8004\n",
      "Accuracy: 80.04%\n"
     ]
    }
   ],
   "source": [
    "GRUmodel=keras.Sequential()\n",
    "GRUmodel.add(GRU(32, input_shape=(x_train.shape[1],x_train.shape[2]),activation='tanh', return_sequences=True))\n",
    "GRUmodel.add(TimeDistributed(Dense(1))) \n",
    "GRUmodel.add(Flatten())\n",
    "GRUmodel.add(Dense(1, activation='sigmoid'))\n",
    "\n",
    "lr_schedule = keras.optimizers.schedules.ExponentialDecay(\n",
    "    initial_learning_rate=1e-2,\n",
    "    decay_steps=10000,\n",
    "    decay_rate=0.9)\n",
    "opt = keras.optimizers.Adam(learning_rate=lr_schedule)\n",
    "GRUmodel.compile(loss='binary_crossentropy', optimizer=opt, metrics=['accuracy'])\n",
    "\n",
    "GRUhistory=GRUmodel.fit(x_train, y_train , epochs=20, batch_size=128, validation_data=(x_val,y_val))\n",
    "GRUscores = GRUmodel.evaluate(x_test, y_test) \n",
    "print(\"Accuracy: %.2f%%\" % (GRUscores[1]*100))  "
   ]
  },
  {
   "cell_type": "code",
   "execution_count": 28,
   "metadata": {
    "ExecuteTime": {
     "end_time": "2022-02-14T23:15:11.911949Z",
     "start_time": "2022-02-14T23:15:09.518134Z"
    }
   },
   "outputs": [
    {
     "ename": "KeyError",
     "evalue": "'A'",
     "output_type": "error",
     "traceback": [
      "\u001b[1;31m---------------------------------------------------------------------------\u001b[0m",
      "\u001b[1;31mKeyError\u001b[0m                                  Traceback (most recent call last)",
      "\u001b[1;32mC:\\Users\\JEBBAR~1\\AppData\\Local\\Temp/ipykernel_19852/1031628345.py\u001b[0m in \u001b[0;36m<module>\u001b[1;34m\u001b[0m\n\u001b[0;32m      7\u001b[0m         \u001b[1;32mreturn\u001b[0m \u001b[1;34m\"Female\"\u001b[0m\u001b[1;33m\u001b[0m\u001b[1;33m\u001b[0m\u001b[0m\n\u001b[0;32m      8\u001b[0m \u001b[0mfemale\u001b[0m\u001b[1;33m=\u001b[0m\u001b[0mpd\u001b[0m\u001b[1;33m.\u001b[0m\u001b[0mread_excel\u001b[0m\u001b[1;33m(\u001b[0m\u001b[1;34mr\"C:\\Users\\Jebbar Abdelkader\\Desktop\\ListeFE.xlsx\"\u001b[0m\u001b[1;33m)\u001b[0m\u001b[1;33m\u001b[0m\u001b[1;33m\u001b[0m\u001b[0m\n\u001b[1;32m----> 9\u001b[1;33m \u001b[0mfemale\u001b[0m\u001b[1;33m[\u001b[0m\u001b[1;34m'genre'\u001b[0m\u001b[1;33m]\u001b[0m\u001b[1;33m=\u001b[0m\u001b[0mfemale\u001b[0m\u001b[1;33m[\u001b[0m\u001b[1;34m'name'\u001b[0m\u001b[1;33m]\u001b[0m\u001b[1;33m.\u001b[0m\u001b[0mapply\u001b[0m\u001b[1;33m(\u001b[0m\u001b[1;32mlambda\u001b[0m \u001b[0mx\u001b[0m\u001b[1;33m:\u001b[0m\u001b[0mgenderpredictor1\u001b[0m\u001b[1;33m(\u001b[0m\u001b[0mx\u001b[0m\u001b[1;33m)\u001b[0m\u001b[1;33m)\u001b[0m\u001b[1;33m\u001b[0m\u001b[1;33m\u001b[0m\u001b[0m\n\u001b[0m",
      "\u001b[1;32m~\\anaconda3\\lib\\site-packages\\pandas\\core\\series.py\u001b[0m in \u001b[0;36mapply\u001b[1;34m(self, func, convert_dtype, args, **kwargs)\u001b[0m\n\u001b[0;32m   4355\u001b[0m         \u001b[0mdtype\u001b[0m\u001b[1;33m:\u001b[0m \u001b[0mfloat64\u001b[0m\u001b[1;33m\u001b[0m\u001b[1;33m\u001b[0m\u001b[0m\n\u001b[0;32m   4356\u001b[0m         \"\"\"\n\u001b[1;32m-> 4357\u001b[1;33m         \u001b[1;32mreturn\u001b[0m \u001b[0mSeriesApply\u001b[0m\u001b[1;33m(\u001b[0m\u001b[0mself\u001b[0m\u001b[1;33m,\u001b[0m \u001b[0mfunc\u001b[0m\u001b[1;33m,\u001b[0m \u001b[0mconvert_dtype\u001b[0m\u001b[1;33m,\u001b[0m \u001b[0margs\u001b[0m\u001b[1;33m,\u001b[0m \u001b[0mkwargs\u001b[0m\u001b[1;33m)\u001b[0m\u001b[1;33m.\u001b[0m\u001b[0mapply\u001b[0m\u001b[1;33m(\u001b[0m\u001b[1;33m)\u001b[0m\u001b[1;33m\u001b[0m\u001b[1;33m\u001b[0m\u001b[0m\n\u001b[0m\u001b[0;32m   4358\u001b[0m \u001b[1;33m\u001b[0m\u001b[0m\n\u001b[0;32m   4359\u001b[0m     def _reduce(\n",
      "\u001b[1;32m~\\anaconda3\\lib\\site-packages\\pandas\\core\\apply.py\u001b[0m in \u001b[0;36mapply\u001b[1;34m(self)\u001b[0m\n\u001b[0;32m   1041\u001b[0m             \u001b[1;32mreturn\u001b[0m \u001b[0mself\u001b[0m\u001b[1;33m.\u001b[0m\u001b[0mapply_str\u001b[0m\u001b[1;33m(\u001b[0m\u001b[1;33m)\u001b[0m\u001b[1;33m\u001b[0m\u001b[1;33m\u001b[0m\u001b[0m\n\u001b[0;32m   1042\u001b[0m \u001b[1;33m\u001b[0m\u001b[0m\n\u001b[1;32m-> 1043\u001b[1;33m         \u001b[1;32mreturn\u001b[0m \u001b[0mself\u001b[0m\u001b[1;33m.\u001b[0m\u001b[0mapply_standard\u001b[0m\u001b[1;33m(\u001b[0m\u001b[1;33m)\u001b[0m\u001b[1;33m\u001b[0m\u001b[1;33m\u001b[0m\u001b[0m\n\u001b[0m\u001b[0;32m   1044\u001b[0m \u001b[1;33m\u001b[0m\u001b[0m\n\u001b[0;32m   1045\u001b[0m     \u001b[1;32mdef\u001b[0m \u001b[0magg\u001b[0m\u001b[1;33m(\u001b[0m\u001b[0mself\u001b[0m\u001b[1;33m)\u001b[0m\u001b[1;33m:\u001b[0m\u001b[1;33m\u001b[0m\u001b[1;33m\u001b[0m\u001b[0m\n",
      "\u001b[1;32m~\\anaconda3\\lib\\site-packages\\pandas\\core\\apply.py\u001b[0m in \u001b[0;36mapply_standard\u001b[1;34m(self)\u001b[0m\n\u001b[0;32m   1096\u001b[0m                 \u001b[1;31m# List[Union[Callable[..., Any], str]]]]]\"; expected\u001b[0m\u001b[1;33m\u001b[0m\u001b[1;33m\u001b[0m\u001b[0m\n\u001b[0;32m   1097\u001b[0m                 \u001b[1;31m# \"Callable[[Any], Any]\"\u001b[0m\u001b[1;33m\u001b[0m\u001b[1;33m\u001b[0m\u001b[0m\n\u001b[1;32m-> 1098\u001b[1;33m                 mapped = lib.map_infer(\n\u001b[0m\u001b[0;32m   1099\u001b[0m                     \u001b[0mvalues\u001b[0m\u001b[1;33m,\u001b[0m\u001b[1;33m\u001b[0m\u001b[1;33m\u001b[0m\u001b[0m\n\u001b[0;32m   1100\u001b[0m                     \u001b[0mf\u001b[0m\u001b[1;33m,\u001b[0m  \u001b[1;31m# type: ignore[arg-type]\u001b[0m\u001b[1;33m\u001b[0m\u001b[1;33m\u001b[0m\u001b[0m\n",
      "\u001b[1;32m~\\anaconda3\\lib\\site-packages\\pandas\\_libs\\lib.pyx\u001b[0m in \u001b[0;36mpandas._libs.lib.map_infer\u001b[1;34m()\u001b[0m\n",
      "\u001b[1;32mC:\\Users\\JEBBAR~1\\AppData\\Local\\Temp/ipykernel_19852/1031628345.py\u001b[0m in \u001b[0;36m<lambda>\u001b[1;34m(x)\u001b[0m\n\u001b[0;32m      7\u001b[0m         \u001b[1;32mreturn\u001b[0m \u001b[1;34m\"Female\"\u001b[0m\u001b[1;33m\u001b[0m\u001b[1;33m\u001b[0m\u001b[0m\n\u001b[0;32m      8\u001b[0m \u001b[0mfemale\u001b[0m\u001b[1;33m=\u001b[0m\u001b[0mpd\u001b[0m\u001b[1;33m.\u001b[0m\u001b[0mread_excel\u001b[0m\u001b[1;33m(\u001b[0m\u001b[1;34mr\"C:\\Users\\Jebbar Abdelkader\\Desktop\\ListeFE.xlsx\"\u001b[0m\u001b[1;33m)\u001b[0m\u001b[1;33m\u001b[0m\u001b[1;33m\u001b[0m\u001b[0m\n\u001b[1;32m----> 9\u001b[1;33m \u001b[0mfemale\u001b[0m\u001b[1;33m[\u001b[0m\u001b[1;34m'genre'\u001b[0m\u001b[1;33m]\u001b[0m\u001b[1;33m=\u001b[0m\u001b[0mfemale\u001b[0m\u001b[1;33m[\u001b[0m\u001b[1;34m'name'\u001b[0m\u001b[1;33m]\u001b[0m\u001b[1;33m.\u001b[0m\u001b[0mapply\u001b[0m\u001b[1;33m(\u001b[0m\u001b[1;32mlambda\u001b[0m \u001b[0mx\u001b[0m\u001b[1;33m:\u001b[0m\u001b[0mgenderpredictor1\u001b[0m\u001b[1;33m(\u001b[0m\u001b[0mx\u001b[0m\u001b[1;33m)\u001b[0m\u001b[1;33m)\u001b[0m\u001b[1;33m\u001b[0m\u001b[1;33m\u001b[0m\u001b[0m\n\u001b[0m",
      "\u001b[1;32mC:\\Users\\JEBBAR~1\\AppData\\Local\\Temp/ipykernel_19852/1031628345.py\u001b[0m in \u001b[0;36mgenderpredictor1\u001b[1;34m(a)\u001b[0m\n\u001b[0;32m      1\u001b[0m \u001b[1;32mdef\u001b[0m \u001b[0mgenderpredictor1\u001b[0m\u001b[1;33m(\u001b[0m\u001b[0ma\u001b[0m\u001b[1;33m)\u001b[0m\u001b[1;33m:\u001b[0m\u001b[1;33m\u001b[0m\u001b[1;33m\u001b[0m\u001b[0m\n\u001b[1;32m----> 2\u001b[1;33m     \u001b[0mtestename\u001b[0m \u001b[1;33m=\u001b[0m \u001b[0mprepare_encod_names\u001b[0m\u001b[1;33m(\u001b[0m\u001b[1;33m{\u001b[0m\u001b[0ma\u001b[0m\u001b[1;33m}\u001b[0m\u001b[1;33m)\u001b[0m   \u001b[1;31m# Now the names are encod as a vector of numbers with weight\u001b[0m\u001b[1;33m\u001b[0m\u001b[1;33m\u001b[0m\u001b[0m\n\u001b[0m\u001b[0;32m      3\u001b[0m     \u001b[0mres\u001b[0m\u001b[1;33m=\u001b[0m\u001b[1;33m(\u001b[0m\u001b[0mGRUmodel\u001b[0m\u001b[1;33m.\u001b[0m\u001b[0mpredict\u001b[0m\u001b[1;33m(\u001b[0m\u001b[0mtestename\u001b[0m\u001b[1;33m)\u001b[0m \u001b[1;33m>\u001b[0m \u001b[1;36m0.8\u001b[0m\u001b[1;33m)\u001b[0m\u001b[1;33m.\u001b[0m\u001b[0mastype\u001b[0m\u001b[1;33m(\u001b[0m\u001b[1;34m\"int32\"\u001b[0m\u001b[1;33m)\u001b[0m\u001b[1;33m\u001b[0m\u001b[1;33m\u001b[0m\u001b[0m\n\u001b[0;32m      4\u001b[0m     \u001b[1;32mif\u001b[0m \u001b[0mint\u001b[0m\u001b[1;33m(\u001b[0m\u001b[0mres\u001b[0m\u001b[1;33m)\u001b[0m\u001b[1;33m==\u001b[0m\u001b[1;36m1\u001b[0m\u001b[1;33m:\u001b[0m\u001b[1;33m\u001b[0m\u001b[1;33m\u001b[0m\u001b[0m\n\u001b[0;32m      5\u001b[0m         \u001b[1;32mreturn\u001b[0m \u001b[1;34m\"Male\"\u001b[0m\u001b[1;33m\u001b[0m\u001b[1;33m\u001b[0m\u001b[0m\n",
      "\u001b[1;32mC:\\Users\\JEBBAR~1\\AppData\\Local\\Temp/ipykernel_19852/2799139368.py\u001b[0m in \u001b[0;36mprepare_encod_names\u001b[1;34m(X)\u001b[0m\n\u001b[0;32m     19\u001b[0m     \u001b[0mtrunc_name\u001b[0m \u001b[1;33m=\u001b[0m \u001b[1;33m[\u001b[0m\u001b[0mstr\u001b[0m\u001b[1;33m(\u001b[0m\u001b[0mi\u001b[0m\u001b[1;33m)\u001b[0m\u001b[1;33m[\u001b[0m\u001b[1;36m0\u001b[0m\u001b[1;33m:\u001b[0m\u001b[0mmaxlen\u001b[0m\u001b[1;33m]\u001b[0m \u001b[1;32mfor\u001b[0m \u001b[0mi\u001b[0m \u001b[1;32min\u001b[0m \u001b[0mX\u001b[0m\u001b[1;33m]\u001b[0m  \u001b[1;31m# consider only the first 20 characters\u001b[0m\u001b[1;33m\u001b[0m\u001b[1;33m\u001b[0m\u001b[0m\n\u001b[0;32m     20\u001b[0m     \u001b[1;32mfor\u001b[0m \u001b[0mi\u001b[0m \u001b[1;32min\u001b[0m \u001b[0mtrunc_name\u001b[0m\u001b[1;33m:\u001b[0m\u001b[1;33m\u001b[0m\u001b[1;33m\u001b[0m\u001b[0m\n\u001b[1;32m---> 21\u001b[1;33m         \u001b[0mtmp\u001b[0m \u001b[1;33m=\u001b[0m \u001b[1;33m[\u001b[0m\u001b[0mset_flag\u001b[0m\u001b[1;33m(\u001b[0m\u001b[0mchar_index\u001b[0m\u001b[1;33m[\u001b[0m\u001b[0mj\u001b[0m\u001b[1;33m]\u001b[0m\u001b[1;33m)\u001b[0m \u001b[1;32mfor\u001b[0m \u001b[0mj\u001b[0m \u001b[1;32min\u001b[0m \u001b[0mstr\u001b[0m\u001b[1;33m(\u001b[0m\u001b[0mi\u001b[0m\u001b[1;33m)\u001b[0m\u001b[1;33m]\u001b[0m\u001b[1;33m\u001b[0m\u001b[1;33m\u001b[0m\u001b[0m\n\u001b[0m\u001b[0;32m     22\u001b[0m         \u001b[1;32mfor\u001b[0m \u001b[0mk\u001b[0m \u001b[1;32min\u001b[0m \u001b[0mrange\u001b[0m\u001b[1;33m(\u001b[0m\u001b[1;36m0\u001b[0m\u001b[1;33m,\u001b[0m\u001b[0mmaxlen\u001b[0m \u001b[1;33m-\u001b[0m \u001b[0mlen\u001b[0m\u001b[1;33m(\u001b[0m\u001b[0mstr\u001b[0m\u001b[1;33m(\u001b[0m\u001b[0mi\u001b[0m\u001b[1;33m)\u001b[0m\u001b[1;33m)\u001b[0m\u001b[1;33m)\u001b[0m\u001b[1;33m:\u001b[0m\u001b[1;33m\u001b[0m\u001b[1;33m\u001b[0m\u001b[0m\n\u001b[0;32m     23\u001b[0m             \u001b[0mtmp\u001b[0m\u001b[1;33m.\u001b[0m\u001b[0mappend\u001b[0m\u001b[1;33m(\u001b[0m\u001b[0mset_flag\u001b[0m\u001b[1;33m(\u001b[0m\u001b[0mchar_index\u001b[0m\u001b[1;33m[\u001b[0m\u001b[1;34m\"END\"\u001b[0m\u001b[1;33m]\u001b[0m\u001b[1;33m)\u001b[0m\u001b[1;33m)\u001b[0m\u001b[1;33m\u001b[0m\u001b[1;33m\u001b[0m\u001b[0m\n",
      "\u001b[1;32mC:\\Users\\JEBBAR~1\\AppData\\Local\\Temp/ipykernel_19852/2799139368.py\u001b[0m in \u001b[0;36m<listcomp>\u001b[1;34m(.0)\u001b[0m\n\u001b[0;32m     19\u001b[0m     \u001b[0mtrunc_name\u001b[0m \u001b[1;33m=\u001b[0m \u001b[1;33m[\u001b[0m\u001b[0mstr\u001b[0m\u001b[1;33m(\u001b[0m\u001b[0mi\u001b[0m\u001b[1;33m)\u001b[0m\u001b[1;33m[\u001b[0m\u001b[1;36m0\u001b[0m\u001b[1;33m:\u001b[0m\u001b[0mmaxlen\u001b[0m\u001b[1;33m]\u001b[0m \u001b[1;32mfor\u001b[0m \u001b[0mi\u001b[0m \u001b[1;32min\u001b[0m \u001b[0mX\u001b[0m\u001b[1;33m]\u001b[0m  \u001b[1;31m# consider only the first 20 characters\u001b[0m\u001b[1;33m\u001b[0m\u001b[1;33m\u001b[0m\u001b[0m\n\u001b[0;32m     20\u001b[0m     \u001b[1;32mfor\u001b[0m \u001b[0mi\u001b[0m \u001b[1;32min\u001b[0m \u001b[0mtrunc_name\u001b[0m\u001b[1;33m:\u001b[0m\u001b[1;33m\u001b[0m\u001b[1;33m\u001b[0m\u001b[0m\n\u001b[1;32m---> 21\u001b[1;33m         \u001b[0mtmp\u001b[0m \u001b[1;33m=\u001b[0m \u001b[1;33m[\u001b[0m\u001b[0mset_flag\u001b[0m\u001b[1;33m(\u001b[0m\u001b[0mchar_index\u001b[0m\u001b[1;33m[\u001b[0m\u001b[0mj\u001b[0m\u001b[1;33m]\u001b[0m\u001b[1;33m)\u001b[0m \u001b[1;32mfor\u001b[0m \u001b[0mj\u001b[0m \u001b[1;32min\u001b[0m \u001b[0mstr\u001b[0m\u001b[1;33m(\u001b[0m\u001b[0mi\u001b[0m\u001b[1;33m)\u001b[0m\u001b[1;33m]\u001b[0m\u001b[1;33m\u001b[0m\u001b[1;33m\u001b[0m\u001b[0m\n\u001b[0m\u001b[0;32m     22\u001b[0m         \u001b[1;32mfor\u001b[0m \u001b[0mk\u001b[0m \u001b[1;32min\u001b[0m \u001b[0mrange\u001b[0m\u001b[1;33m(\u001b[0m\u001b[1;36m0\u001b[0m\u001b[1;33m,\u001b[0m\u001b[0mmaxlen\u001b[0m \u001b[1;33m-\u001b[0m \u001b[0mlen\u001b[0m\u001b[1;33m(\u001b[0m\u001b[0mstr\u001b[0m\u001b[1;33m(\u001b[0m\u001b[0mi\u001b[0m\u001b[1;33m)\u001b[0m\u001b[1;33m)\u001b[0m\u001b[1;33m)\u001b[0m\u001b[1;33m:\u001b[0m\u001b[1;33m\u001b[0m\u001b[1;33m\u001b[0m\u001b[0m\n\u001b[0;32m     23\u001b[0m             \u001b[0mtmp\u001b[0m\u001b[1;33m.\u001b[0m\u001b[0mappend\u001b[0m\u001b[1;33m(\u001b[0m\u001b[0mset_flag\u001b[0m\u001b[1;33m(\u001b[0m\u001b[0mchar_index\u001b[0m\u001b[1;33m[\u001b[0m\u001b[1;34m\"END\"\u001b[0m\u001b[1;33m]\u001b[0m\u001b[1;33m)\u001b[0m\u001b[1;33m)\u001b[0m\u001b[1;33m\u001b[0m\u001b[1;33m\u001b[0m\u001b[0m\n",
      "\u001b[1;31mKeyError\u001b[0m: 'A'"
     ]
    }
   ],
   "source": [
    "def genderpredictor1(a):\n",
    "    testename = prepare_encod_names({a})   # Now the names are encod as a vector of numbers with weight\n",
    "    res=(GRUmodel.predict(testename) > 0.8).astype(\"int32\")\n",
    "    if int(res)==1:\n",
    "        return \"Male\"\n",
    "    else:\n",
    "        return \"Female\"\n",
    "female=pd.read_excel(r\"C:\\Users\\Jebbar Abdelkader\\Desktop\\ListeFE.xlsx\")\n",
    "female['genre']=female['name'].apply(lambda x:genderpredictor1(x))"
   ]
  },
  {
   "cell_type": "markdown",
   "metadata": {
    "id": "B8JDT6Ei25NS"
   },
   "source": [
    "## 1.8 Building the DNN Model"
   ]
  },
  {
   "cell_type": "code",
   "execution_count": 16,
   "metadata": {
    "ExecuteTime": {
     "end_time": "2022-02-14T22:53:45.511364Z",
     "start_time": "2022-02-14T22:53:45.442313Z"
    },
    "colab": {
     "base_uri": "https://localhost:8080/"
    },
    "id": "xKY2mHhPdcCI",
    "outputId": "5e912aa3-f039-4154-d06b-560d19cca66b"
   },
   "outputs": [],
   "source": [
    "DNNmodel = keras.Sequential()                                   # Sequential model\n",
    "n_inputs = 28                                                   # nº of states  \n",
    "inputs = keras.Input(shape=(20,n_inputs,), name = 'input')      # Define inputs\n",
    "l1=layers.Dense(64, activation='relu', name = 'hidden_layer_1')(inputs) \n",
    "ly2=layers.Dense(128, activation='softplus', name = 'hidden_layer_2')(l1) \n",
    "l3=layers.Dropout(0.25)(ly2)\n",
    "l4=layers.Flatten()(l3)                 \n",
    "output=[] \n",
    "output.append(layers.Dense(1, activation='sigmoid', name = 'output')(l4))                                    \n",
    "DNNmodel = keras.Model(inputs=inputs, outputs=output)       \n",
    "\n",
    "lr_schedule = keras.optimizers.schedules.ExponentialDecay(\n",
    "    initial_learning_rate=1e-2,\n",
    "    decay_steps=10000,\n",
    "    decay_rate=0.9)\n",
    "opt = keras.optimizers.Adam(learning_rate=lr_schedule)\n",
    "DNNmodel.compile(loss='binary_crossentropy', optimizer=opt, metrics=['accuracy'])\n",
    "\n",
    "#DNNhistory = DNNmodel.fit(x_train, y_train, batch_size=32, epochs=20, validation_data =(x_val, y_val))\n",
    "#DNNscores = DNNmodel.evaluate(x_test, y_test) \n",
    "#print(\"Accuracy: %.2f%%\" % (DNNscores[1]*100))"
   ]
  },
  {
   "cell_type": "markdown",
   "metadata": {
    "id": "Kn3ALPE629Ca"
   },
   "source": [
    "## 1.9 Building the BiLSTM Model"
   ]
  },
  {
   "cell_type": "code",
   "execution_count": 18,
   "metadata": {
    "ExecuteTime": {
     "end_time": "2022-02-14T23:14:08.874691Z",
     "start_time": "2022-02-14T22:54:21.402421Z"
    },
    "colab": {
     "base_uri": "https://localhost:8080/"
    },
    "id": "jF4NIzXreW0M",
    "outputId": "49598b4b-2055-47ba-aacf-f4fd21c6ee17"
   },
   "outputs": [
    {
     "name": "stdout",
     "output_type": "stream",
     "text": [
      "Epoch 1/20\n",
      "483/483 [==============================] - 72s 143ms/step - loss: 0.4145 - accuracy: 0.8131 - val_loss: 0.3549 - val_accuracy: 0.8483\n",
      "Epoch 2/20\n",
      "483/483 [==============================] - 60s 124ms/step - loss: 0.3473 - accuracy: 0.8537 - val_loss: 0.3264 - val_accuracy: 0.8629\n",
      "Epoch 3/20\n",
      "483/483 [==============================] - 67s 138ms/step - loss: 0.3116 - accuracy: 0.8709 - val_loss: 0.3010 - val_accuracy: 0.8768\n",
      "Epoch 4/20\n",
      "483/483 [==============================] - 67s 138ms/step - loss: 0.2811 - accuracy: 0.8823 - val_loss: 0.2885 - val_accuracy: 0.8797\n",
      "Epoch 5/20\n",
      "483/483 [==============================] - 68s 141ms/step - loss: 0.2552 - accuracy: 0.8916 - val_loss: 0.2759 - val_accuracy: 0.8803\n",
      "Epoch 6/20\n",
      "483/483 [==============================] - 68s 141ms/step - loss: 0.2371 - accuracy: 0.8957 - val_loss: 0.2508 - val_accuracy: 0.8898\n",
      "Epoch 7/20\n",
      "483/483 [==============================] - 72s 149ms/step - loss: 0.2083 - accuracy: 0.8997 - val_loss: 0.2510 - val_accuracy: 0.8901\n",
      "Epoch 8/20\n",
      "483/483 [==============================] - 72s 149ms/step - loss: 0.1948 - accuracy: 0.9042 - val_loss: 0.2289 - val_accuracy: 0.8904\n",
      "Epoch 9/20\n",
      "483/483 [==============================] - 69s 142ms/step - loss: 0.1818 - accuracy: 0.9037 - val_loss: 0.2202 - val_accuracy: 0.8916\n",
      "Epoch 10/20\n",
      "483/483 [==============================] - 68s 141ms/step - loss: 0.1460 - accuracy: 0.9111 - val_loss: 0.2225 - val_accuracy: 0.8945\n",
      "Epoch 11/20\n",
      "483/483 [==============================] - 68s 141ms/step - loss: 0.1201 - accuracy: 0.9164 - val_loss: 0.2142 - val_accuracy: 0.8939\n",
      "Epoch 12/20\n",
      "483/483 [==============================] - 70s 144ms/step - loss: 0.1069 - accuracy: 0.9223 - val_loss: 0.2066 - val_accuracy: 0.8957\n",
      "Epoch 13/20\n",
      "483/483 [==============================] - 71s 146ms/step - loss: 0.1088 - accuracy: 0.9229 - val_loss: 0.2333 - val_accuracy: 0.8964\n",
      "Epoch 14/20\n",
      "483/483 [==============================] - 52s 108ms/step - loss: 0.1068 - accuracy: 0.9246 - val_loss: 0.2198 - val_accuracy: 0.8932\n",
      "Epoch 15/20\n",
      "483/483 [==============================] - 41s 86ms/step - loss: 0.0904 - accuracy: 0.9283 - val_loss: 0.2155 - val_accuracy: 0.8967\n",
      "Epoch 16/20\n",
      "483/483 [==============================] - 40s 83ms/step - loss: 0.1039 - accuracy: 0.9242 - val_loss: 0.2210 - val_accuracy: 0.8928\n",
      "Epoch 17/20\n",
      "483/483 [==============================] - 40s 84ms/step - loss: 0.0951 - accuracy: 0.9262 - val_loss: 0.2218 - val_accuracy: 0.8961\n",
      "Epoch 18/20\n",
      "483/483 [==============================] - 40s 82ms/step - loss: 0.0762 - accuracy: 0.9340 - val_loss: 0.2352 - val_accuracy: 0.8946\n",
      "Epoch 19/20\n",
      "483/483 [==============================] - 39s 81ms/step - loss: 0.0639 - accuracy: 0.9385 - val_loss: 0.2366 - val_accuracy: 0.8959\n",
      "Epoch 20/20\n",
      "483/483 [==============================] - 40s 82ms/step - loss: 0.0607 - accuracy: 0.9396 - val_loss: 0.2179 - val_accuracy: 0.8988\n",
      "603/603 [==============================] - 4s 6ms/step - loss: 0.1957 - accuracy: 0.8978\n",
      "Accuracy: 89.78%\n"
     ]
    }
   ],
   "source": [
    "LSTMmodel = keras.Sequential()\n",
    "LSTMmodel.add(\n",
    "    Bidirectional(LSTM(64, return_sequences=True),\n",
    "                  backward_layer=LSTM(64,\n",
    "                                      return_sequences=True,\n",
    "                                      go_backwards=True),\n",
    "                  input_shape=(maxlen, len_vocab)))\n",
    "LSTMmodel.add(Dropout(0.2))\n",
    "LSTMmodel.add(Bidirectional(LSTM(64)))\n",
    "LSTMmodel.add(Dropout(0.2))\n",
    "LSTMmodel.add(Dense(1, activity_regularizer=l2(0.002)))\n",
    "LSTMmodel.add(Activation('sigmoid'))\n",
    "\n",
    "lr_schedule = keras.optimizers.schedules.ExponentialDecay(\n",
    "    initial_learning_rate=1e-2, decay_steps=10000, decay_rate=0.9)\n",
    "opt = keras.optimizers.Adam(learning_rate=lr_schedule)\n",
    "LSTMmodel.compile(loss='binary_crossentropy',\n",
    "                  optimizer=opt,\n",
    "                  metrics=['accuracy'])\n",
    "\n",
    "LSTMhistory = LSTMmodel.fit(x_train,\n",
    "                            y_train,\n",
    "                            batch_size=128,\n",
    "                            epochs=20,\n",
    "                            validation_data=(x_val, y_val))\n",
    "LSTMscores = LSTMmodel.evaluate(x_test, y_test)\n",
    "print(\"Accuracy: %.2f%%\" % (LSTMscores[1] * 100))"
   ]
  },
  {
   "cell_type": "markdown",
   "metadata": {
    "id": "m55JxwTi7Pyt"
   },
   "source": [
    "## 1.10 Figures"
   ]
  },
  {
   "cell_type": "code",
   "execution_count": 19,
   "metadata": {
    "ExecuteTime": {
     "end_time": "2022-02-14T23:14:09.079559Z",
     "start_time": "2022-02-14T23:14:08.876357Z"
    },
    "colab": {
     "base_uri": "https://localhost:8080/",
     "height": 395
    },
    "id": "wK09xI1-mt7N",
    "outputId": "4dbc0699-e394-4db6-b4b6-31c6f31c9484"
   },
   "outputs": [
    {
     "data": {
      "text/plain": [
       "<matplotlib.legend.Legend at 0x131e408bfa0>"
      ]
     },
     "execution_count": 19,
     "metadata": {},
     "output_type": "execute_result"
    },
    {
     "data": {
      "text/plain": [
       "<Figure size 432x288 with 0 Axes>"
      ]
     },
     "metadata": {},
     "output_type": "display_data"
    },
    {
     "data": {
      "image/png": "[encoded data removed]",
      "text/plain": [
       "<Figure size 648x288 with 1 Axes>"
      ]
     },
     "metadata": {
      "needs_background": "light"
     },
     "output_type": "display_data"
    }
   ],
   "source": [
    "plt.figure(1)\n",
    "plt.figure(figsize=(9,4))\n",
    "plt.rcParams.update({'font.size': 12})\n",
    "# summarize for accuracy\n",
    "#plt.plot(CNNhistory.history['accuracy'], 'g:')\n",
    "plt.plot(LSTMhistory.history['accuracy'], 'r--')\n",
    "plt.plot(RNNhistory.history['accuracy'], 'c-.')\n",
    "#plt.plot(DNNhistory.history['accuracy'], 'm-+')\n",
    "plt.plot(GRUhistory.history['accuracy'], 'y-o')\n",
    "#plt.plot(CNNhistory.history['val_accuracy'], 'g-*')\n",
    "plt.plot(LSTMhistory.history['val_accuracy'], 'r-v')\n",
    "plt.plot(RNNhistory.history['val_accuracy'], 'c-h')\n",
    "#plt.plot(DNNhistory.history['val_accuracy'], 'm->')\n",
    "plt.plot(GRUhistory.history['val_accuracy'], 'y-s')\n",
    "plt.grid('True')\n",
    "plt.ylabel('Accuracy')\n",
    "plt.xlabel('Epoch')\n",
    "plt.ylim(0.8, 0.99)\n",
    "plt.xlim(0,25)\n",
    "plt.legend(['Train-CNN', 'Train-BiLSTM', 'Train-RNN', 'Train-MLP', 'Train-GRU','Val-CNN',\\\n",
    "            'Val-BiLSTM', 'Val-RNN', 'Val-MLP', 'Val-GRU'], loc='upper right')"
   ]
  },
  {
   "cell_type": "code",
   "execution_count": 20,
   "metadata": {
    "ExecuteTime": {
     "end_time": "2022-02-14T23:14:09.174709Z",
     "start_time": "2022-02-14T23:14:09.080550Z"
    },
    "colab": {
     "base_uri": "https://localhost:8080/",
     "height": 322
    },
    "id": "rh44YGWcvMG7",
    "outputId": "a0f245e4-8a84-4ea4-e3d0-2b0de10ea502"
   },
   "outputs": [
    {
     "data": {
      "text/plain": [
       "(0.0, 32.0)"
      ]
     },
     "execution_count": 20,
     "metadata": {},
     "output_type": "execute_result"
    },
    {
     "data": {
      "image/png": "[encoded data removed]",
      "text/plain": [
       "<Figure size 432x288 with 1 Axes>"
      ]
     },
     "metadata": {
      "needs_background": "light"
     },
     "output_type": "display_data"
    }
   ],
   "source": [
    "plt.figure(2)\n",
    "#plt.plot(CNNhistory.history['loss'], 'g:')\n",
    "plt.plot(LSTMhistory.history['loss'], 'r--')\n",
    "plt.plot(RNNhistory.history['loss'], 'c-.')\n",
    "#plt.plot(DNNhistory.history['loss'], 'm-+')\n",
    "plt.plot(GRUhistory.history['loss'], 'y-o')\n",
    "#plt.plot(CNNhistory.history['val_loss'], 'g-*')\n",
    "plt.plot(LSTMhistory.history['val_loss'], 'r-v')\n",
    "plt.plot(RNNhistory.history['val_loss'], 'c-H')\n",
    "#plt.plot(DNNhistory.history['val_loss'], 'm->')\n",
    "plt.plot(GRUhistory.history['val_loss'], 'y-s')\n",
    "plt.ylabel('Loss')\n",
    "plt.xlabel('Epoch')\n",
    "plt.legend(['Train-BiLSTM', 'Train-RNN', 'Train-MLP', 'Train-GRU',\\\n",
    "            'Val-BiLSTM', 'Val-RNN', 'Val-MLP', 'Val-GRU'], loc='upper right')\n",
    "plt.grid('True')\n",
    "plt.xlim(0,32)"
   ]
  },
  {
   "cell_type": "markdown",
   "metadata": {
    "id": "bii6bsQ_8ihJ"
   },
   "source": [
    "## 1.11 Statistics"
   ]
  },
  {
   "cell_type": "code",
   "execution_count": 21,
   "metadata": {
    "ExecuteTime": {
     "end_time": "2022-02-14T23:14:09.190652Z",
     "start_time": "2022-02-14T23:14:09.175646Z"
    },
    "id": "PHW4P-qG0_dj"
   },
   "outputs": [],
   "source": [
    "#y_predCNN =(CNNmodel.predict(x_test) > 0.5).astype(\"int32\")\n",
    "#y_predLSTM =(LSTMmodel.predict(x_test) > 0.5).astype(\"int32\")\n",
    "#y_predRNN =(RNNmodel.predict(x_test) > 0.5).astype(\"int32\")\n",
    "#y_predGRU =(GRUmodel.predict(x_test) > 0.5).astype(\"int32\")\n",
    "#y_predDNN =(DNNmodel.predict(x_test) > 0.5).astype(\"int32\")"
   ]
  },
  {
   "cell_type": "code",
   "execution_count": 22,
   "metadata": {
    "ExecuteTime": {
     "end_time": "2022-02-14T23:14:09.205782Z",
     "start_time": "2022-02-14T23:14:09.191655Z"
    },
    "colab": {
     "base_uri": "https://localhost:8080/"
    },
    "id": "x4C61gTr9b3e",
    "outputId": "4e39576c-f9e9-48f6-9ee5-1d3ba349ca80"
   },
   "outputs": [],
   "source": [
    "# Finding precision and recall\n",
    "from sklearn.metrics import precision_score, recall_score\n",
    "#print(precision_score(y_test, y_predLSTM))\n",
    "#print(recall_score(y_test, y_predLSTM))\n",
    "\n",
    "#print(precision_score(y_test, y_predRNN))\n",
    "#print(recall_score(y_test, y_predRNN))\n",
    "\n",
    "#print(precision_score(y_test, y_predCNN))\n",
    "#print(recall_score(y_test, y_predCNN))\n",
    "\n",
    "#print(precision_score(y_test, y_predGRU))\n",
    "#print(recall_score(y_test, y_predGRU))\n",
    "\n",
    "#print(precision_score(y_test, y_predDNN))\n",
    "#print(recall_score(y_test, y_predDNN))"
   ]
  },
  {
   "cell_type": "markdown",
   "metadata": {
    "id": "BSMLzXgL_17j"
   },
   "source": [
    "## 1.12 Testing "
   ]
  },
  {
   "cell_type": "code",
   "execution_count": 23,
   "metadata": {
    "ExecuteTime": {
     "end_time": "2022-02-14T23:14:09.944466Z",
     "start_time": "2022-02-14T23:14:09.206775Z"
    },
    "colab": {
     "base_uri": "https://localhost:8080/"
    },
    "id": "eVU5iWCF-5lA",
    "outputId": "f69591c8-fecc-4575-eef5-47b7b7c440f2"
   },
   "outputs": [
    {
     "name": "stdout",
     "output_type": "stream",
     "text": [
      "M\n"
     ]
    }
   ],
   "source": [
    "testename = prepare_encod_names({\"azi\"})   # Now the names are encod as a vector of numbers with weight\n",
    "resu=(LSTMmodel.predict(testename) > 0.5).astype(\"int32\")\n",
    "if int(resu)==1:\n",
    "    print('M')\n",
    "elif int(resu)==0:\n",
    "    print('F')\n",
    "else:\n",
    "    print('N')"
   ]
  },
  {
   "cell_type": "code",
   "execution_count": 57,
   "metadata": {
    "ExecuteTime": {
     "end_time": "2022-02-14T23:28:43.118010Z",
     "start_time": "2022-02-14T23:28:43.047066Z"
    }
   },
   "outputs": [
    {
     "ename": "ValueError",
     "evalue": "in user code:\n\n    File \"C:\\Users\\Jebbar Abdelkader\\anaconda3\\lib\\site-packages\\keras\\engine\\training.py\", line 1801, in predict_function  *\n        return step_function(self, iterator)\n    File \"C:\\Users\\Jebbar Abdelkader\\anaconda3\\lib\\site-packages\\keras\\engine\\training.py\", line 1790, in step_function  **\n        outputs = model.distribute_strategy.run(run_step, args=(data,))\n    File \"C:\\Users\\Jebbar Abdelkader\\anaconda3\\lib\\site-packages\\keras\\engine\\training.py\", line 1783, in run_step  **\n        outputs = model.predict_step(data)\n    File \"C:\\Users\\Jebbar Abdelkader\\anaconda3\\lib\\site-packages\\keras\\engine\\training.py\", line 1751, in predict_step\n        return self(x, training=False)\n    File \"C:\\Users\\Jebbar Abdelkader\\anaconda3\\lib\\site-packages\\keras\\utils\\traceback_utils.py\", line 67, in error_handler\n        raise e.with_traceback(filtered_tb) from None\n    File \"C:\\Users\\Jebbar Abdelkader\\anaconda3\\lib\\site-packages\\keras\\engine\\input_spec.py\", line 264, in assert_input_compatibility\n        raise ValueError(f'Input {input_index} of layer \"{layer_name}\" is '\n\n    ValueError: Input 0 of layer \"sequential_7\" is incompatible with the layer: expected shape=(None, 30, 45), found shape=(None, 20, 45)\n",
     "output_type": "error",
     "traceback": [
      "\u001b[1;31m---------------------------------------------------------------------------\u001b[0m",
      "\u001b[1;31mValueError\u001b[0m                                Traceback (most recent call last)",
      "\u001b[1;32mC:\\Users\\JEBBAR~1\\AppData\\Local\\Temp/ipykernel_19852/1057592169.py\u001b[0m in \u001b[0;36m<module>\u001b[1;34m\u001b[0m\n\u001b[0;32m      1\u001b[0m \u001b[0mtestename\u001b[0m \u001b[1;33m=\u001b[0m \u001b[0mprepare_encod_names\u001b[0m\u001b[1;33m(\u001b[0m\u001b[1;34m'abla'\u001b[0m\u001b[1;33m)\u001b[0m   \u001b[1;31m# Now the names are encod as a vector of numbers with weight\u001b[0m\u001b[1;33m\u001b[0m\u001b[1;33m\u001b[0m\u001b[0m\n\u001b[1;32m----> 2\u001b[1;33m \u001b[0mresu\u001b[0m\u001b[1;33m=\u001b[0m\u001b[1;33m(\u001b[0m\u001b[0mLSTMmodel\u001b[0m\u001b[1;33m.\u001b[0m\u001b[0mpredict\u001b[0m\u001b[1;33m(\u001b[0m\u001b[0mtestename\u001b[0m\u001b[1;33m)\u001b[0m \u001b[1;33m>\u001b[0m \u001b[1;36m0.5\u001b[0m\u001b[1;33m)\u001b[0m\u001b[1;33m.\u001b[0m\u001b[0mastype\u001b[0m\u001b[1;33m(\u001b[0m\u001b[1;34m\"int32\"\u001b[0m\u001b[1;33m)\u001b[0m\u001b[1;33m\u001b[0m\u001b[1;33m\u001b[0m\u001b[0m\n\u001b[0m\u001b[0;32m      3\u001b[0m \u001b[1;32mif\u001b[0m \u001b[0mint\u001b[0m\u001b[1;33m(\u001b[0m\u001b[0mresu\u001b[0m\u001b[1;33m)\u001b[0m\u001b[1;33m==\u001b[0m\u001b[1;36m1\u001b[0m\u001b[1;33m:\u001b[0m\u001b[1;33m\u001b[0m\u001b[1;33m\u001b[0m\u001b[0m\n\u001b[0;32m      4\u001b[0m     \u001b[0mprint\u001b[0m\u001b[1;33m(\u001b[0m\u001b[1;34m\"Male\"\u001b[0m\u001b[1;33m)\u001b[0m\u001b[1;33m\u001b[0m\u001b[1;33m\u001b[0m\u001b[0m\n\u001b[0;32m      5\u001b[0m \u001b[1;32melse\u001b[0m\u001b[1;33m:\u001b[0m\u001b[1;33m\u001b[0m\u001b[1;33m\u001b[0m\u001b[0m\n",
      "\u001b[1;32m~\\anaconda3\\lib\\site-packages\\keras\\utils\\traceback_utils.py\u001b[0m in \u001b[0;36merror_handler\u001b[1;34m(*args, **kwargs)\u001b[0m\n\u001b[0;32m     65\u001b[0m     \u001b[1;32mexcept\u001b[0m \u001b[0mException\u001b[0m \u001b[1;32mas\u001b[0m \u001b[0me\u001b[0m\u001b[1;33m:\u001b[0m  \u001b[1;31m# pylint: disable=broad-except\u001b[0m\u001b[1;33m\u001b[0m\u001b[1;33m\u001b[0m\u001b[0m\n\u001b[0;32m     66\u001b[0m       \u001b[0mfiltered_tb\u001b[0m \u001b[1;33m=\u001b[0m \u001b[0m_process_traceback_frames\u001b[0m\u001b[1;33m(\u001b[0m\u001b[0me\u001b[0m\u001b[1;33m.\u001b[0m\u001b[0m__traceback__\u001b[0m\u001b[1;33m)\u001b[0m\u001b[1;33m\u001b[0m\u001b[1;33m\u001b[0m\u001b[0m\n\u001b[1;32m---> 67\u001b[1;33m       \u001b[1;32mraise\u001b[0m \u001b[0me\u001b[0m\u001b[1;33m.\u001b[0m\u001b[0mwith_traceback\u001b[0m\u001b[1;33m(\u001b[0m\u001b[0mfiltered_tb\u001b[0m\u001b[1;33m)\u001b[0m \u001b[1;32mfrom\u001b[0m \u001b[1;32mNone\u001b[0m\u001b[1;33m\u001b[0m\u001b[1;33m\u001b[0m\u001b[0m\n\u001b[0m\u001b[0;32m     68\u001b[0m     \u001b[1;32mfinally\u001b[0m\u001b[1;33m:\u001b[0m\u001b[1;33m\u001b[0m\u001b[1;33m\u001b[0m\u001b[0m\n\u001b[0;32m     69\u001b[0m       \u001b[1;32mdel\u001b[0m \u001b[0mfiltered_tb\u001b[0m\u001b[1;33m\u001b[0m\u001b[1;33m\u001b[0m\u001b[0m\n",
      "\u001b[1;32m~\\anaconda3\\lib\\site-packages\\tensorflow\\python\\framework\\func_graph.py\u001b[0m in \u001b[0;36mautograph_handler\u001b[1;34m(*args, **kwargs)\u001b[0m\n\u001b[0;32m   1145\u001b[0m           \u001b[1;32mexcept\u001b[0m \u001b[0mException\u001b[0m \u001b[1;32mas\u001b[0m \u001b[0me\u001b[0m\u001b[1;33m:\u001b[0m  \u001b[1;31m# pylint:disable=broad-except\u001b[0m\u001b[1;33m\u001b[0m\u001b[1;33m\u001b[0m\u001b[0m\n\u001b[0;32m   1146\u001b[0m             \u001b[1;32mif\u001b[0m \u001b[0mhasattr\u001b[0m\u001b[1;33m(\u001b[0m\u001b[0me\u001b[0m\u001b[1;33m,\u001b[0m \u001b[1;34m\"ag_error_metadata\"\u001b[0m\u001b[1;33m)\u001b[0m\u001b[1;33m:\u001b[0m\u001b[1;33m\u001b[0m\u001b[1;33m\u001b[0m\u001b[0m\n\u001b[1;32m-> 1147\u001b[1;33m               \u001b[1;32mraise\u001b[0m \u001b[0me\u001b[0m\u001b[1;33m.\u001b[0m\u001b[0mag_error_metadata\u001b[0m\u001b[1;33m.\u001b[0m\u001b[0mto_exception\u001b[0m\u001b[1;33m(\u001b[0m\u001b[0me\u001b[0m\u001b[1;33m)\u001b[0m\u001b[1;33m\u001b[0m\u001b[1;33m\u001b[0m\u001b[0m\n\u001b[0m\u001b[0;32m   1148\u001b[0m             \u001b[1;32melse\u001b[0m\u001b[1;33m:\u001b[0m\u001b[1;33m\u001b[0m\u001b[1;33m\u001b[0m\u001b[0m\n\u001b[0;32m   1149\u001b[0m               \u001b[1;32mraise\u001b[0m\u001b[1;33m\u001b[0m\u001b[1;33m\u001b[0m\u001b[0m\n",
      "\u001b[1;31mValueError\u001b[0m: in user code:\n\n    File \"C:\\Users\\Jebbar Abdelkader\\anaconda3\\lib\\site-packages\\keras\\engine\\training.py\", line 1801, in predict_function  *\n        return step_function(self, iterator)\n    File \"C:\\Users\\Jebbar Abdelkader\\anaconda3\\lib\\site-packages\\keras\\engine\\training.py\", line 1790, in step_function  **\n        outputs = model.distribute_strategy.run(run_step, args=(data,))\n    File \"C:\\Users\\Jebbar Abdelkader\\anaconda3\\lib\\site-packages\\keras\\engine\\training.py\", line 1783, in run_step  **\n        outputs = model.predict_step(data)\n    File \"C:\\Users\\Jebbar Abdelkader\\anaconda3\\lib\\site-packages\\keras\\engine\\training.py\", line 1751, in predict_step\n        return self(x, training=False)\n    File \"C:\\Users\\Jebbar Abdelkader\\anaconda3\\lib\\site-packages\\keras\\utils\\traceback_utils.py\", line 67, in error_handler\n        raise e.with_traceback(filtered_tb) from None\n    File \"C:\\Users\\Jebbar Abdelkader\\anaconda3\\lib\\site-packages\\keras\\engine\\input_spec.py\", line 264, in assert_input_compatibility\n        raise ValueError(f'Input {input_index} of layer \"{layer_name}\" is '\n\n    ValueError: Input 0 of layer \"sequential_7\" is incompatible with the layer: expected shape=(None, 30, 45), found shape=(None, 20, 45)\n"
     ]
    }
   ],
   "source": [
    "\n",
    "testename = prepare_encod_names('abla')   # Now the names are encod as a vector of numbers with weight\n",
    "resu=(LSTMmodel.predict(testename) > 0.5).astype(\"int32\")\n",
    "if int(resu)==1:\n",
    "    print(\"Male\")   \n",
    "else:\n",
    "    print (\"Female\")\n",
    "       \n",
    "\n"
   ]
  },
  {
   "cell_type": "code",
   "execution_count": 46,
   "metadata": {
    "ExecuteTime": {
     "end_time": "2022-02-14T23:24:36.055400Z",
     "start_time": "2022-02-14T23:24:36.009244Z"
    }
   },
   "outputs": [],
   "source": [
    "female=pd.read_excel(r\"C:\\Users\\Jebbar Abdelkader\\Desktop\\ListeFE.xlsx\")"
   ]
  },
  {
   "cell_type": "code",
   "execution_count": 47,
   "metadata": {
    "ExecuteTime": {
     "end_time": "2022-02-14T23:24:38.072132Z",
     "start_time": "2022-02-14T23:24:38.055125Z"
    }
   },
   "outputs": [
    {
     "data": {
      "text/plain": [
       "array(['Aafrae', 'Abla', 'Adba', ..., 'uhvg', 'wxdrxt', 'oknjh'],\n",
       "      dtype=object)"
      ]
     },
     "execution_count": 47,
     "metadata": {},
     "output_type": "execute_result"
    }
   ],
   "source": [
    "female['name'].unique()"
   ]
  },
  {
   "cell_type": "code",
   "execution_count": 51,
   "metadata": {
    "ExecuteTime": {
     "end_time": "2022-02-14T23:25:52.432138Z",
     "start_time": "2022-02-14T23:25:52.361577Z"
    }
   },
   "outputs": [
    {
     "ename": "ValueError",
     "evalue": "in user code:\n\n    File \"C:\\Users\\Jebbar Abdelkader\\anaconda3\\lib\\site-packages\\keras\\engine\\training.py\", line 1801, in predict_function  *\n        return step_function(self, iterator)\n    File \"C:\\Users\\Jebbar Abdelkader\\anaconda3\\lib\\site-packages\\keras\\engine\\training.py\", line 1790, in step_function  **\n        outputs = model.distribute_strategy.run(run_step, args=(data,))\n    File \"C:\\Users\\Jebbar Abdelkader\\anaconda3\\lib\\site-packages\\keras\\engine\\training.py\", line 1783, in run_step  **\n        outputs = model.predict_step(data)\n    File \"C:\\Users\\Jebbar Abdelkader\\anaconda3\\lib\\site-packages\\keras\\engine\\training.py\", line 1751, in predict_step\n        return self(x, training=False)\n    File \"C:\\Users\\Jebbar Abdelkader\\anaconda3\\lib\\site-packages\\keras\\utils\\traceback_utils.py\", line 67, in error_handler\n        raise e.with_traceback(filtered_tb) from None\n    File \"C:\\Users\\Jebbar Abdelkader\\anaconda3\\lib\\site-packages\\keras\\engine\\input_spec.py\", line 264, in assert_input_compatibility\n        raise ValueError(f'Input {input_index} of layer \"{layer_name}\" is '\n\n    ValueError: Input 0 of layer \"sequential_7\" is incompatible with the layer: expected shape=(None, 30, 45), found shape=(None, 20, 45)\n",
     "output_type": "error",
     "traceback": [
      "\u001b[1;31m---------------------------------------------------------------------------\u001b[0m",
      "\u001b[1;31mValueError\u001b[0m                                Traceback (most recent call last)",
      "\u001b[1;32mC:\\Users\\JEBBAR~1\\AppData\\Local\\Temp/ipykernel_19852/588317778.py\u001b[0m in \u001b[0;36m<module>\u001b[1;34m\u001b[0m\n\u001b[1;32m----> 1\u001b[1;33m \u001b[0mgenderpredictor\u001b[0m\u001b[1;33m(\u001b[0m\u001b[1;34m\"abla\"\u001b[0m\u001b[1;33m)\u001b[0m\u001b[1;33m\u001b[0m\u001b[1;33m\u001b[0m\u001b[0m\n\u001b[0m",
      "\u001b[1;32mC:\\Users\\JEBBAR~1\\AppData\\Local\\Temp/ipykernel_19852/1110607527.py\u001b[0m in \u001b[0;36mgenderpredictor\u001b[1;34m(a)\u001b[0m\n\u001b[0;32m      1\u001b[0m \u001b[1;32mdef\u001b[0m \u001b[0mgenderpredictor\u001b[0m\u001b[1;33m(\u001b[0m\u001b[0ma\u001b[0m\u001b[1;33m)\u001b[0m\u001b[1;33m:\u001b[0m\u001b[1;33m\u001b[0m\u001b[1;33m\u001b[0m\u001b[0m\n\u001b[0;32m      2\u001b[0m     \u001b[0mtestename\u001b[0m \u001b[1;33m=\u001b[0m \u001b[0mprepare_encod_names\u001b[0m\u001b[1;33m(\u001b[0m\u001b[1;33m{\u001b[0m\u001b[0ma\u001b[0m\u001b[1;33m}\u001b[0m\u001b[1;33m)\u001b[0m   \u001b[1;31m# Now the names are encod as a vector of numbers with weight\u001b[0m\u001b[1;33m\u001b[0m\u001b[1;33m\u001b[0m\u001b[0m\n\u001b[1;32m----> 3\u001b[1;33m     \u001b[0mresu\u001b[0m\u001b[1;33m=\u001b[0m\u001b[1;33m(\u001b[0m\u001b[0mLSTMmodel\u001b[0m\u001b[1;33m.\u001b[0m\u001b[0mpredict\u001b[0m\u001b[1;33m(\u001b[0m\u001b[0mtestename\u001b[0m\u001b[1;33m)\u001b[0m \u001b[1;33m>\u001b[0m \u001b[1;36m0.8\u001b[0m\u001b[1;33m)\u001b[0m\u001b[1;33m.\u001b[0m\u001b[0mastype\u001b[0m\u001b[1;33m(\u001b[0m\u001b[1;34m\"int32\"\u001b[0m\u001b[1;33m)\u001b[0m\u001b[1;33m\u001b[0m\u001b[1;33m\u001b[0m\u001b[0m\n\u001b[0m\u001b[0;32m      4\u001b[0m     \u001b[1;32mif\u001b[0m \u001b[0mint\u001b[0m\u001b[1;33m(\u001b[0m\u001b[0mresu\u001b[0m\u001b[1;33m)\u001b[0m\u001b[1;33m==\u001b[0m\u001b[1;36m2\u001b[0m\u001b[1;33m:\u001b[0m\u001b[1;33m\u001b[0m\u001b[1;33m\u001b[0m\u001b[0m\n\u001b[0;32m      5\u001b[0m         \u001b[1;32mreturn\u001b[0m \u001b[1;34m\"None\"\u001b[0m\u001b[1;33m\u001b[0m\u001b[1;33m\u001b[0m\u001b[0m\n",
      "\u001b[1;32m~\\anaconda3\\lib\\site-packages\\keras\\utils\\traceback_utils.py\u001b[0m in \u001b[0;36merror_handler\u001b[1;34m(*args, **kwargs)\u001b[0m\n\u001b[0;32m     65\u001b[0m     \u001b[1;32mexcept\u001b[0m \u001b[0mException\u001b[0m \u001b[1;32mas\u001b[0m \u001b[0me\u001b[0m\u001b[1;33m:\u001b[0m  \u001b[1;31m# pylint: disable=broad-except\u001b[0m\u001b[1;33m\u001b[0m\u001b[1;33m\u001b[0m\u001b[0m\n\u001b[0;32m     66\u001b[0m       \u001b[0mfiltered_tb\u001b[0m \u001b[1;33m=\u001b[0m \u001b[0m_process_traceback_frames\u001b[0m\u001b[1;33m(\u001b[0m\u001b[0me\u001b[0m\u001b[1;33m.\u001b[0m\u001b[0m__traceback__\u001b[0m\u001b[1;33m)\u001b[0m\u001b[1;33m\u001b[0m\u001b[1;33m\u001b[0m\u001b[0m\n\u001b[1;32m---> 67\u001b[1;33m       \u001b[1;32mraise\u001b[0m \u001b[0me\u001b[0m\u001b[1;33m.\u001b[0m\u001b[0mwith_traceback\u001b[0m\u001b[1;33m(\u001b[0m\u001b[0mfiltered_tb\u001b[0m\u001b[1;33m)\u001b[0m \u001b[1;32mfrom\u001b[0m \u001b[1;32mNone\u001b[0m\u001b[1;33m\u001b[0m\u001b[1;33m\u001b[0m\u001b[0m\n\u001b[0m\u001b[0;32m     68\u001b[0m     \u001b[1;32mfinally\u001b[0m\u001b[1;33m:\u001b[0m\u001b[1;33m\u001b[0m\u001b[1;33m\u001b[0m\u001b[0m\n\u001b[0;32m     69\u001b[0m       \u001b[1;32mdel\u001b[0m \u001b[0mfiltered_tb\u001b[0m\u001b[1;33m\u001b[0m\u001b[1;33m\u001b[0m\u001b[0m\n",
      "\u001b[1;32m~\\anaconda3\\lib\\site-packages\\tensorflow\\python\\framework\\func_graph.py\u001b[0m in \u001b[0;36mautograph_handler\u001b[1;34m(*args, **kwargs)\u001b[0m\n\u001b[0;32m   1145\u001b[0m           \u001b[1;32mexcept\u001b[0m \u001b[0mException\u001b[0m \u001b[1;32mas\u001b[0m \u001b[0me\u001b[0m\u001b[1;33m:\u001b[0m  \u001b[1;31m# pylint:disable=broad-except\u001b[0m\u001b[1;33m\u001b[0m\u001b[1;33m\u001b[0m\u001b[0m\n\u001b[0;32m   1146\u001b[0m             \u001b[1;32mif\u001b[0m \u001b[0mhasattr\u001b[0m\u001b[1;33m(\u001b[0m\u001b[0me\u001b[0m\u001b[1;33m,\u001b[0m \u001b[1;34m\"ag_error_metadata\"\u001b[0m\u001b[1;33m)\u001b[0m\u001b[1;33m:\u001b[0m\u001b[1;33m\u001b[0m\u001b[1;33m\u001b[0m\u001b[0m\n\u001b[1;32m-> 1147\u001b[1;33m               \u001b[1;32mraise\u001b[0m \u001b[0me\u001b[0m\u001b[1;33m.\u001b[0m\u001b[0mag_error_metadata\u001b[0m\u001b[1;33m.\u001b[0m\u001b[0mto_exception\u001b[0m\u001b[1;33m(\u001b[0m\u001b[0me\u001b[0m\u001b[1;33m)\u001b[0m\u001b[1;33m\u001b[0m\u001b[1;33m\u001b[0m\u001b[0m\n\u001b[0m\u001b[0;32m   1148\u001b[0m             \u001b[1;32melse\u001b[0m\u001b[1;33m:\u001b[0m\u001b[1;33m\u001b[0m\u001b[1;33m\u001b[0m\u001b[0m\n\u001b[0;32m   1149\u001b[0m               \u001b[1;32mraise\u001b[0m\u001b[1;33m\u001b[0m\u001b[1;33m\u001b[0m\u001b[0m\n",
      "\u001b[1;31mValueError\u001b[0m: in user code:\n\n    File \"C:\\Users\\Jebbar Abdelkader\\anaconda3\\lib\\site-packages\\keras\\engine\\training.py\", line 1801, in predict_function  *\n        return step_function(self, iterator)\n    File \"C:\\Users\\Jebbar Abdelkader\\anaconda3\\lib\\site-packages\\keras\\engine\\training.py\", line 1790, in step_function  **\n        outputs = model.distribute_strategy.run(run_step, args=(data,))\n    File \"C:\\Users\\Jebbar Abdelkader\\anaconda3\\lib\\site-packages\\keras\\engine\\training.py\", line 1783, in run_step  **\n        outputs = model.predict_step(data)\n    File \"C:\\Users\\Jebbar Abdelkader\\anaconda3\\lib\\site-packages\\keras\\engine\\training.py\", line 1751, in predict_step\n        return self(x, training=False)\n    File \"C:\\Users\\Jebbar Abdelkader\\anaconda3\\lib\\site-packages\\keras\\utils\\traceback_utils.py\", line 67, in error_handler\n        raise e.with_traceback(filtered_tb) from None\n    File \"C:\\Users\\Jebbar Abdelkader\\anaconda3\\lib\\site-packages\\keras\\engine\\input_spec.py\", line 264, in assert_input_compatibility\n        raise ValueError(f'Input {input_index} of layer \"{layer_name}\" is '\n\n    ValueError: Input 0 of layer \"sequential_7\" is incompatible with the layer: expected shape=(None, 30, 45), found shape=(None, 20, 45)\n"
     ]
    }
   ],
   "source": [
    "genderpredictor(\"abla\")"
   ]
  },
  {
   "cell_type": "code",
   "execution_count": null,
   "metadata": {},
   "outputs": [],
   "source": []
  },
  {
   "cell_type": "code",
   "execution_count": null,
   "metadata": {},
   "outputs": [],
   "source": []
  }
 ],
 "metadata": {
  "colab": {
   "collapsed_sections": [],
   "name": "Predicting Gender of Brazilian Names Using Deep Learning.ipynb",
   "provenance": []
  },
  "kernelspec": {
   "display_name": "Python 3 (ipykernel)",
   "language": "python",
   "name": "python3"
  },
  "language_info": {
   "codemirror_mode": {
    "name": "ipython",
    "version": 3
   },
   "file_extension": ".py",
   "mimetype": "text/x-python",
   "name": "python",
   "nbconvert_exporter": "python",
   "pygments_lexer": "ipython3",
   "version": "3.9.7"
  },
  "toc": {
   "base_numbering": 1,
   "nav_menu": {},
   "number_sections": true,
   "sideBar": true,
   "skip_h1_title": false,
   "title_cell": "Table of Contents",
   "title_sidebar": "Contents",
   "toc_cell": false,
   "toc_position": {},
   "toc_section_display": true,
   "toc_window_display": false
  }
 },
 "nbformat": 4,
 "nbformat_minor": 1
}
